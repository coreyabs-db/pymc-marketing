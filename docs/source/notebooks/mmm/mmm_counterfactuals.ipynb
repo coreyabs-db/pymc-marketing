{
 "cells": [
  {
   "cell_type": "markdown",
   "metadata": {},
   "source": [
    "(mmm_causal_ladder)=\n",
    "# MMMs and Pearl's ladder of causal inference\n",
    "\n",
    "In this notebook, we will explore [Judea Pearl's](https://en.wikipedia.org/wiki/Judea_Pearl) causal ladder and how it can be applied to solve business problems with Media Mix Models (MMMs). We will assume familiarity with the basics of MMMs in order to focus on causal inference.\n",
    "\n",
    "## What is Pearl's causal ladder?\n",
    "\n",
    "Pearl's causal ladder outlines 3 successively more sophisticated levels of causal reasoning:\n",
    "\n",
    "1. **Prediction / Forecasting / Association:** With the first step on the ladder, we could use a model to predict future sales based on past data. This does not involve causal reasoning, just prediction.\n",
    "\n",
    "2. **Intervention:** The second step on the ladder involves using a model to predict the future effect of an intervention. It is similar to step 1 in that it involves prediction/forecasting, but it is different in that we consider a potential intervention that will have effects in the future.\n",
    "\n",
    "3. **Counterfactuals:** The third and final step on the ladder could use a to estimate how the world _would_ have been different if we had taken a different action in the past. This is clearly different from the first two steps in that it is retrospective. It is also the most sophisticated level of causal reasoning - it involves learning about the world from historical data, but then imagining how the world _could_ have been different in a counterfactual scenario.\n",
    "\n",
    "![Causal Ladder](../../_static/causal_ladder.png)\n",
    "\n",
    "The image of Pearl's causal ladder appears in the book \"[The Book of Why](https://en.wikipedia.org/wiki/The_Book_of_Why)\" by Judea Pearl and Dana Mackenzie. The book is a great introduction to causal inference.\n",
    "\n",
    "## The do-operator\n",
    "\n",
    "The do-operator is a key concept in Pearl's causal inference framework and is required for causal reasoning on steps 2 or 3 of the causal ladder. It is used to denote interventions in a system. If we think about our modeling efforts as describing a Bayesian structural causal model, then the do-operator is used to denote the effect of changing a variable in the model. Any incoming causal links to that node are severed, and the node is set to the value specified by the do-operator.\n",
    "\n",
    ":::{seealso}\n",
    "For practical examples of the do-operator in action, the following resources are useful:\n",
    "* [Causal analysis with PyMC: Answering \"What If?\" with the new do operator](https://www.pymc-labs.com/blog-posts/causal-analysis-with-pymc-answering-what-if-with-the-new-do-operator/)\n",
    "* [Interventional distributions and graph mutation with the do-operator](https://www.pymc.io/projects/examples/en/latest/causal_inference/interventional_distribution.html)\n",
    ":::"
   ]
  },
  {
   "cell_type": "markdown",
   "metadata": {},
   "source": [
    "## How does this help us solve business problems?\n",
    "\n",
    "Now we've recapped the causal ladder, let's consider how it can help us solve business problems, specifically with MMMs. Let's look at a few example use cases and see what level of the causal ladder they correspond to:\n",
    "\n",
    "* **Predicting future sales:** A very common use-case of MMM's is to make forecasts of our outcome variable (e.g. sales). This can be particularly useful ingredient in demand forecasting for example. Once we've trained an MMM on historical data we can use the MMM to predict future sales (out of sample prediction) based on past sales, marketing spend, and other predictor variables. This would correspond to step 1 on the causal ladder - we are forecasting into the future but not considering any changes to our marketing strategy. See our docs {ref}`mmm_budget_allocation_example` for a worked example.\n",
    "\n",
    "* **Optimizing existing marketing spend:** A more sophisticated use-case of MMM's is to use the model to predict the effect of different marketing strategies (see our docs {ref}`mmm_time_slice_cross_validation`). For example, we could use it to predict the effect of various different changes to media spend. We could then predict the expected sales under these scenarios and pick a scenario which maximises sales or profit, for example. This corresponds to step 2 on the causal ladder - intervention. This is a more sophisticated level of causal reasoning, as it involves prediction, but in the presence of an altered marketing strategies (i.e. interventions). \n",
    "\n",
    "* **Planning an increase in marketing spend:** Let's say our business wants to gain more market share and has decided to increase marketing spend by 20% over the next quarter. You are tasked with proposing a number of different future media spend strategies that you think will cause the largest increase in sales. This corresponds to step 2 on the causal ladder - intervention. We are predicting the effect of an intervention (increasing media spend) on sales.\n",
    "\n",
    "* **Evaluating the impact of a previous increase in marketing spend:** Let's say our business increased TV spend by 20% over the last quarter and we want to know what impact this had on sales. We can answer this question by comparing what _actually_ happened, to what we think _would have happened_ under some alternative imagined counterfactual scenario such as not increasing TV spend by 20%. Importantly, this counterfactual reasoning is _retrospective_, but it uses the knowledge we have learnt from all observations so far. This corresponds to step 3 on the causal ladder - counterfactual inference. We are learning from historical data, but then imagining how the world _could_ have been different in a counterfactual scenario. So this involves retrospective causal reasoning."
   ]
  },
  {
   "cell_type": "markdown",
   "metadata": {},
   "source": [
    "## Notebook setup"
   ]
  },
  {
   "cell_type": "code",
   "execution_count": null,
   "metadata": {},
   "outputs": [],
   "source": [
    "import arviz as az\n",
    "import graphviz as gr\n",
    "import matplotlib.pyplot as plt\n",
    "import numpy as np\n",
    "import pandas as pd\n",
    "import seaborn as sns\n",
    "import xarray as xr\n",
    "from IPython.display import Image\n",
    "\n",
    "from pymc_marketing.mmm import MMM, GeometricAdstock, LogisticSaturation\n",
    "from pymc_marketing.mmm.transformers import geometric_adstock, logistic_saturation"
   ]
  },
  {
   "cell_type": "code",
   "execution_count": null,
   "metadata": {},
   "outputs": [],
   "source": [
    "%load_ext autoreload\n",
    "%autoreload 2\n",
    "%config InlineBackend.figure_format = \"retina\"\n",
    "plt.rcParams.update({\"figure.constrained_layout.use\": True})"
   ]
  },
  {
   "cell_type": "code",
   "execution_count": null,
   "metadata": {},
   "outputs": [],
   "source": [
    "az.style.use(\"arviz-darkgrid\")\n",
    "plt.rcParams[\"figure.figsize\"] = [12, 7]\n",
    "plt.rcParams[\"figure.dpi\"] = 100\n",
    "seed: int = sum(map(ord, \"ladder\"))\n",
    "rng: np.random.Generator = np.random.default_rng(seed=seed)"
   ]
  },
  {
   "cell_type": "markdown",
   "metadata": {},
   "source": [
    "## Generate synthetic data"
   ]
  },
  {
   "cell_type": "markdown",
   "metadata": {},
   "source": [
    "Now we'll generate some synthetic data to use in the rest of the notebook. In short, we will consider a relatively simple situation where we have two media channels ($x_1$ and $x_2$), and we consider the effects of time in terms of an underlying trend in sales as well as seasonal effects. We can draw our causal DAG like this:"
   ]
  },
  {
   "cell_type": "code",
   "execution_count": null,
   "metadata": {
    "tags": [
     "hide-input"
    ]
   },
   "outputs": [],
   "source": [
    "g = gr.Digraph(format=\"png\", graph_attr={\"dpi\": \"200\"})\n",
    "g.node(name=\"media\", label=\"media spend\")\n",
    "g.node(name=\"seas\", label=\"seasonality\")\n",
    "g.node(name=\"trend\", label=\"trend\")\n",
    "g.node(name=\"y\", label=\"sales\")\n",
    "g.edge(tail_name=\"media\", head_name=\"y\")\n",
    "g.edge(tail_name=\"seas\", head_name=\"y\")\n",
    "g.edge(tail_name=\"trend\", head_name=\"y\")\n",
    "g.render(filename=\"dag\")\n",
    "Image(filename=\"dag.png\")"
   ]
  },
  {
   "cell_type": "markdown",
   "metadata": {},
   "source": [
    "In the code below we will generate some synthetic data with the general structure described above. Our dataset is going to include a marketing campaign where we elevate the spending on one media channel for a period of time. This is going to be used later on when we come to examine Step 3 where we will evaluate the impact of this campaign. \n",
    "\n",
    "As a slight twist is that because we are using simulated data, we are in the privileged position of knowing the true causal relationships in the data. This is not the case in the real world, where we have to infer these relationships from the data. So we'll first generate a _counterfactual_ scenario (where we didn not run the campaign) and then generate the _actual_ scenario (where we did run the campaign). This allows us to compare our _estimated_ causal impact of the campaign with the _true_ causal impact of the campaign. But more on this when we reach Step 3 of the causal ladder.\n",
    "\n",
    "Let's generate some synthetic data - more specifically some predictors such as media spend, intercept, seasonality, and trend."
   ]
  },
  {
   "cell_type": "code",
   "execution_count": null,
   "metadata": {},
   "outputs": [],
   "source": [
    "def generate_counterfactual_dataset(params, rng):\n",
    "    \"\"\"Generate a synthetic dataset.\n",
    "\n",
    "    For the counterfactual scenario of no advertising campaign.\n",
    "    \"\"\"\n",
    "    df = pd.DataFrame(\n",
    "        data={\n",
    "            \"date_week\": pd.date_range(\n",
    "                start=pd.to_datetime(\"2019-04-01\"),\n",
    "                end=pd.to_datetime(\"2021-09-01\"),\n",
    "                freq=\"W-MON\",\n",
    "            )\n",
    "        }\n",
    "    ).assign(\n",
    "        year=lambda x: x[\"date_week\"].dt.year,\n",
    "        month=lambda x: x[\"date_week\"].dt.month,\n",
    "        dayofyear=lambda x: x[\"date_week\"].dt.dayofyear,\n",
    "        t=lambda x: range(x.shape[0]),\n",
    "    )\n",
    "\n",
    "    n_rows = df.shape[0]\n",
    "\n",
    "    # media data\n",
    "    x1 = rng.uniform(low=0.0, high=1.0, size=n_rows)\n",
    "    df[\"x1\"] = np.where(x1 > 0.9, x1, x1 / 2)\n",
    "\n",
    "    x2 = rng.uniform(low=0.0, high=1.0, size=n_rows)\n",
    "    df[\"x2\"] = np.where(x2 > 0.8, x2, 0)\n",
    "\n",
    "    # Intercept, trend, seasonality components\n",
    "    df[\"intercept\"] = 2.0\n",
    "    df[\"trend\"] = (np.linspace(start=0.0, stop=50, num=n_rows) + 10) ** (1 / 4) - 1\n",
    "    df[\"cs\"] = -np.sin(2 * 2 * np.pi * df[\"dayofyear\"] / 365.5)\n",
    "    df[\"cc\"] = np.cos(1 * 2 * np.pi * df[\"dayofyear\"] / 365.5)\n",
    "    df[\"seasonality\"] = 0.5 * (df[\"cs\"] + df[\"cc\"])\n",
    "\n",
    "    # Noise - can be considered as the effects of unobserved variables upon sales\n",
    "    df[\"epsilon\"] = rng.normal(loc=0.0, scale=0.25, size=n_rows)\n",
    "\n",
    "    df = forward_pass(df, params)\n",
    "    return df"
   ]
  },
  {
   "cell_type": "markdown",
   "metadata": {},
   "source": [
    "Now we'll write a function to forward simulate the response (sales), given these predictor variables. The functions below simply calculate a weighted sum of the predictor variables, after having passed the media channels through our trusty adstock and saturation functions."
   ]
  },
  {
   "cell_type": "code",
   "execution_count": null,
   "metadata": {},
   "outputs": [],
   "source": [
    "def apply_transformations(df, channel, alpha, lam):\n",
    "    \"\"\"Apply geometric adstock and saturation transformations.\"\"\"\n",
    "    adstocked = geometric_adstock(\n",
    "        x=df[channel].to_numpy(), alpha=alpha, l_max=8, normalize=True\n",
    "    ).eval()\n",
    "\n",
    "    saturated = logistic_saturation(x=adstocked, lam=lam).eval()\n",
    "    return saturated\n",
    "\n",
    "\n",
    "def forward_pass(df_in, params):\n",
    "    \"\"\"Run predictor variables through the forward pass of the model.\n",
    "\n",
    "    Given a dataframe with spend data columns `x1` and `x2`, run this through the\n",
    "    transformations and return the response variable `y`.\n",
    "    \"\"\"\n",
    "    df = df_in.copy()\n",
    "\n",
    "    # Apply transformations to channels and calculate y\n",
    "    df[\"y\"] = params[\"amplitude\"] * (\n",
    "        df[\"intercept\"]\n",
    "        + df[\"trend\"]\n",
    "        + df[\"seasonality\"]\n",
    "        + sum(\n",
    "            params[\"beta\"][i]\n",
    "            * apply_transformations(\n",
    "                df, params[\"channels\"][i], params[\"alpha\"][i], params[\"lam\"][i]\n",
    "            )\n",
    "            for i in range(len(params[\"channels\"]))\n",
    "        )\n",
    "        + df[\"epsilon\"]\n",
    "    )\n",
    "\n",
    "    return df"
   ]
  },
  {
   "cell_type": "markdown",
   "metadata": {},
   "source": [
    "Now let's use those functions to generate synthetic data that represents what happens in our simulated world under a 'business as usual' (or counterfactual) scenario of no media campaign."
   ]
  },
  {
   "cell_type": "code",
   "execution_count": null,
   "metadata": {},
   "outputs": [],
   "source": [
    "params = {\n",
    "    \"channels\": [\"x1\", \"x2\"],\n",
    "    \"amplitude\": 1.0,\n",
    "    \"beta\": [3.0, 2.0],\n",
    "    \"lam\": [4.0, 3.0],\n",
    "    \"alpha\": [0.4, 0.2],\n",
    "}\n",
    "\n",
    "df_counterfactual = generate_counterfactual_dataset(params, rng)"
   ]
  },
  {
   "cell_type": "markdown",
   "metadata": {},
   "source": [
    "Finally, let's create a copy of this data, but one where we conducted an intervention. That is, a marketing campaign where we increased media spend in channel 1 by 40% for Q1 of 2021. This `df_actual` data will represent what actually happened in our world. The `df_counterfactual` data will represent what _would_ have happened if we had not conducted the intervention, and this will be used when we encounter Step 3 of the causal ladder."
   ]
  },
  {
   "cell_type": "code",
   "execution_count": null,
   "metadata": {},
   "outputs": [],
   "source": [
    "def simulate_intervention(df: pd.DataFrame, intervention_dates) -> pd.DataFrame:\n",
    "    \"\"\"Simulate an intervention.\n",
    "\n",
    "    This function will generate the 'actual' dataset. Based on the counterfactual\n",
    "    dataset, apply the intervention on the specified date and return the actual dataset.\n",
    "    \"\"\"\n",
    "    df = df.copy()\n",
    "    # increase x1 by 40% in for date_week between intervention_dates\n",
    "    df.loc[\n",
    "        (df[\"date_week\"] >= intervention_dates[0])\n",
    "        & (df[\"date_week\"] < intervention_dates[1]),\n",
    "        \"x1\",\n",
    "    ] *= 1.40\n",
    "    # compute the outcome variable\n",
    "    df = forward_pass(df, params)\n",
    "    return df\n",
    "\n",
    "\n",
    "intervention_dates = (pd.to_datetime(\"2021-01-01\"), pd.to_datetime(\"2021-03-31\"))\n",
    "df_actual = simulate_intervention(df_counterfactual, intervention_dates)"
   ]
  },
  {
   "cell_type": "markdown",
   "metadata": {},
   "source": [
    "Let's visialize the dataset:"
   ]
  },
  {
   "cell_type": "code",
   "execution_count": null,
   "metadata": {
    "tags": [
     "hide-input"
    ]
   },
   "outputs": [],
   "source": [
    "def plot_intervention_dates(intervention_dates, ax):\n",
    "    dates = [pd.to_datetime(date) for date in intervention_dates]\n",
    "    for date in dates:\n",
    "        ax.axvline(\n",
    "            x=date,\n",
    "            color=\"red\",\n",
    "            linestyle=\"--\",\n",
    "            label=\"intervention date\",\n",
    "        )\n",
    "\n",
    "\n",
    "fig, ax = plt.subplots(3, 1, sharex=True)\n",
    "\n",
    "sns.lineplot(x=\"date_week\", y=\"x1\", data=df_actual, ax=ax[0])\n",
    "ax[0].set(title=\"x1 spend\")\n",
    "\n",
    "sns.lineplot(x=\"date_week\", y=\"x2\", data=df_actual, ax=ax[1])\n",
    "ax[1].set(title=\"x2 spend\")\n",
    "\n",
    "sns.lineplot(x=\"date_week\", y=\"y\", data=df_actual, ax=ax[2])\n",
    "ax[2].set(title=\"outcome\")\n",
    "\n",
    "for axis in ax:\n",
    "    plot_intervention_dates(intervention_dates, axis)\n",
    "\n",
    "plt.suptitle(\"Visualizing the synthetic dataset of what we observed\");"
   ]
  },
  {
   "cell_type": "markdown",
   "metadata": {},
   "source": [
    "This plot shows our (normalised) media spends (top two panels) and the resulting sales (bottom panel). Our dataset also involves a period (between dashed red lines) where we ran a marketing campaign that increased our media spend by 40%."
   ]
  },
  {
   "cell_type": "markdown",
   "metadata": {},
   "source": [
    "## Build an MMM and fit to data\n",
    "\n",
    "As part of our regular MMM workflow, we'll build an MMM object and fit it to our synthetic data."
   ]
  },
  {
   "cell_type": "code",
   "execution_count": null,
   "metadata": {},
   "outputs": [],
   "source": [
    "mmm = MMM(\n",
    "    date_column=\"date_week\",\n",
    "    adstock=GeometricAdstock(l_max=8),\n",
    "    saturation=LogisticSaturation(),\n",
    "    channel_columns=[\"x1\", \"x2\"],\n",
    "    control_columns=[\"t\"],\n",
    "    yearly_seasonality=2,\n",
    ")"
   ]
  },
  {
   "cell_type": "code",
   "execution_count": null,
   "metadata": {},
   "outputs": [],
   "source": [
    "# prepare data for model\n",
    "X = df_actual.drop(\"y\", axis=1)\n",
    "y = df_actual[\"y\"]\n",
    "\n",
    "# fit\n",
    "mmm.fit(X=X, y=y, target_accept=0.85, chains=4, random_seed=rng)\n",
    "# generate posterior predictive samples\n",
    "mmm.sample_posterior_predictive(X, extend_idata=True, combined=True);"
   ]
  },
  {
   "cell_type": "markdown",
   "metadata": {},
   "source": [
    "Before starting our procedure for counterfactual inference, let's first confirm that the MMM is doing a reasonable job of accounting for the data. Below is a plot of the posterior predictive distribution for the sales (shaded regions) and the actual sales (black line)."
   ]
  },
  {
   "cell_type": "code",
   "execution_count": null,
   "metadata": {},
   "outputs": [],
   "source": [
    "fig = mmm.plot_posterior_predictive(original_scale=True)\n",
    "plot_intervention_dates(intervention_dates, fig.get_axes()[0])"
   ]
  },
  {
   "cell_type": "markdown",
   "metadata": {},
   "source": [
    "The model seems to be doing a good job of capturing the data so we can proceed."
   ]
  },
  {
   "cell_type": "markdown",
   "metadata": {},
   "source": [
    "## Level 1 - Association and Prediction\n",
    "\n",
    "On Level 1 of the ladder, we can do at least 2 things:\n",
    "\n",
    "1. Explore the model fit results - gain insights about the relationship between media spend and sales. Not note, at this point, even if our MMM represents a causal DAG that captures what we believe to be reasonable causal relationships, we are still only operating on the level of prediction and association.\n",
    "\n",
    "2. Use the model to predict future sales. This is a common use-case of MMMs and corresponds to step 1 on the causal ladder. Let's dive in to this in more detail.\n",
    "\n",
    "In order to predict future sales, we need to specify future values of our predictor variables. For simplicity, we will assume that our media spend will take on the mean of past media spends. We will then use the MMM to predict future sales. The code below generates a scenario for forecasting."
   ]
  },
  {
   "cell_type": "code",
   "execution_count": null,
   "metadata": {},
   "outputs": [],
   "source": [
    "n_new_periods = 20\n",
    "\n",
    "X_forecast = pd.DataFrame(\n",
    "    {\n",
    "        \"date_week\": pd.date_range(\n",
    "            start=X[\"date_week\"].max(), periods=1 + n_new_periods, freq=\"W-MON\"\n",
    "        )[1:]\n",
    "    }\n",
    ").assign(\n",
    "    # assume avarage of historical spends into the future\n",
    "    x1=X[\"x1\"].mean(),\n",
    "    x2=X[\"x2\"].mean(),\n",
    "    # other features\n",
    "    t=lambda df: range(len(X), len(X) + n_new_periods),\n",
    ")\n",
    "\n",
    "X_forecast.head()"
   ]
  },
  {
   "cell_type": "markdown",
   "metadata": {},
   "source": [
    "Now we have a 'forecasting scenario' we can use our MMM to predict future sales, based upon what it has learnt from historical data."
   ]
  },
  {
   "cell_type": "code",
   "execution_count": null,
   "metadata": {},
   "outputs": [],
   "source": [
    "y_forecast = mmm.sample_posterior_predictive(\n",
    "    X_pred=X_forecast, extend_idata=False, include_last_observations=True\n",
    ")"
   ]
  },
  {
   "cell_type": "markdown",
   "metadata": {},
   "source": [
    "Let's vizualize the forecasted sales."
   ]
  },
  {
   "cell_type": "code",
   "execution_count": null,
   "metadata": {
    "tags": [
     "hide-input"
    ]
   },
   "outputs": [],
   "source": [
    "def plot_in_sample(X, y, ax, n_points: int = 15):\n",
    "    (\n",
    "        y.to_frame()\n",
    "        .set_index(X[\"date_week\"])\n",
    "        .plot(ax=ax, marker=\"o\", color=\"black\", label=\"actuals\")\n",
    "    )\n",
    "    return ax\n",
    "\n",
    "\n",
    "def plot_out_of_sample(X_out_of_sample, y_out_of_sample, ax, color, label):\n",
    "    y_out_of_sample_groupby = y_out_of_sample[\"y\"].to_series().groupby(\"date\")\n",
    "\n",
    "    lower, upper = quantiles = [0.025, 0.975]\n",
    "    conf = y_out_of_sample_groupby.quantile(quantiles).unstack()\n",
    "    ax.fill_between(\n",
    "        X_out_of_sample[\"date_week\"].dt.to_pydatetime(),\n",
    "        conf[lower],\n",
    "        conf[upper],\n",
    "        alpha=0.25,\n",
    "        color=color,\n",
    "        label=f\"{label} interval\",\n",
    "    )\n",
    "\n",
    "    mean = y_out_of_sample_groupby.mean()\n",
    "    mean.plot(ax=ax, marker=\"o\", label=label, color=color, linestyle=\"--\")\n",
    "    ax.set(ylabel=\"Original Target Scale\", title=\"Out of sample predictions for MMM\")\n",
    "    return ax\n",
    "\n",
    "\n",
    "_, ax = plt.subplots()\n",
    "plot_in_sample(X, y, ax=ax)\n",
    "plot_out_of_sample(\n",
    "    X_forecast,\n",
    "    y_forecast,\n",
    "    ax=ax,\n",
    "    label=\"forecast\",\n",
    "    color=\"C1\",\n",
    ")\n",
    "ax.legend();"
   ]
  },
  {
   "cell_type": "markdown",
   "metadata": {},
   "source": [
    "The plot above shows the model's prediction for future sales (shaded region). Let's take a moment to unpack what we are seeing:\n",
    "\n",
    "* In our forecasting scenario, we make the simplifying assumption that the future media spend (for both channels) would be at a constant level, equal to their historical averages.\n",
    "* Therefore, there is no real variation in the model's prediction for future sales _from the perspective of media spend_.\n",
    "* However, the model does have a trend and seasonal component, so the variation in the prediction is due to these components.\n",
    "\n",
    "We can of course make this more realistic by considering different scenarios for future media spend, but is is a matter of refinement. What we have seen so far is the general process of using an MMM for Step 1 style forecasting."
   ]
  },
  {
   "cell_type": "markdown",
   "metadata": {},
   "source": [
    "## Level 2 - Intervention\n",
    "\n",
    "Now we'll climb up a step and look at how we can use our MMM to predict the effect of an intervention. In this case, we will consider the effect of the historical average of channel $x_2$ and _double_ the historical average of channel $x_1$. So let's generate the predictor variables for this intervention scenario:"
   ]
  },
  {
   "cell_type": "code",
   "execution_count": null,
   "metadata": {},
   "outputs": [],
   "source": [
    "X_intervention = pd.DataFrame(\n",
    "    {\n",
    "        \"date_week\": pd.date_range(\n",
    "            start=X[\"date_week\"].max(), periods=1 + n_new_periods, freq=\"W-MON\"\n",
    "        )[1:]\n",
    "    }\n",
    ").assign(\n",
    "    x1=X[\"x1\"].mean() * 2,  # double the historical average spend\n",
    "    x2=X[\"x2\"].mean(),  # maintain the historical average spend\n",
    "    # other features\n",
    "    t=lambda df: range(len(X), len(X) + n_new_periods),\n",
    ")\n",
    "\n",
    "X_intervention.head()"
   ]
  },
  {
   "cell_type": "markdown",
   "metadata": {},
   "source": [
    "Now we can run the intervention and ask the MMM what it believes the effect of this intervention will be on future sales. More formally, this amounts to sampling from the posterior predictive distribution, but under the intervention scenario."
   ]
  },
  {
   "cell_type": "code",
   "execution_count": null,
   "metadata": {},
   "outputs": [],
   "source": [
    "y_intervention = mmm.sample_posterior_predictive(\n",
    "    X_pred=X_intervention, extend_idata=False, include_last_observations=True\n",
    ")"
   ]
  },
  {
   "cell_type": "code",
   "execution_count": null,
   "metadata": {
    "tags": [
     "hide-input"
    ]
   },
   "outputs": [],
   "source": [
    "_, ax = plt.subplots()\n",
    "plot_in_sample(X, y, ax=ax)\n",
    "plot_out_of_sample(X_forecast, y_forecast, ax=ax, label=\"forecast\", color=\"C1\")\n",
    "plot_out_of_sample(\n",
    "    X_intervention,\n",
    "    y_intervention,\n",
    "    ax=ax,\n",
    "    label=\"intervention\",\n",
    "    color=\"C2\",\n",
    ")\n",
    "ax.legend();"
   ]
  },
  {
   "cell_type": "markdown",
   "metadata": {},
   "source": [
    "Nice! We can see that, relative to our 'business as usual` (Step 1 forecast), the MMM predicts that the intervention will lead to an increase in sales. This is a simple example of using an MMM for causal inference - we are predicting the effect of an intervention on future sales."
   ]
  },
  {
   "cell_type": "markdown",
   "metadata": {},
   "source": [
    ":::{seealso}\n",
    "For much more information on using Level 2 of the causal ladder, see the dedicated notebook on {ref}`mmm_budget_allocation_example`.\n",
    ":::"
   ]
  },
  {
   "cell_type": "markdown",
   "metadata": {},
   "source": [
    "## Level 3 - Counterfactual inference\n",
    "\n",
    "Finally we are at the top of the ladder! We will now use our MMM to estimate the effect of a previous intervention. Remember, our historical dataset includes a period where we increased media spend on $x_1$ by 40%. We will use our MMM to estimate the effect of this intervention on sales.\n",
    "\n",
    "To do this, we will compare what _actually_ happened, to what we think _would have happened_ under some alternative imagined counterfactual scenario such as not increasing media spend by 40%.\n",
    "\n",
    "This requires coming up with a counterfactual scenario where we have to think hard about what the $x_1$ media spend would have been in the absence of the campaign. In real-world situations this might be easy or difficult, depending.\n",
    "\n",
    "* Easy: If our marketing spend is predictable, we can simply use our business knowledge to define what the spend would have been in the absence of the campaign.\n",
    "* Difficult: If our marketing spend is unpredictable, we might have to use a more sophisticated model to predict what the spend would have been in the absence of the campaign. There are ways of doing this, but it is a bit of a side-quest, so is beyond the scope of this notebook.\n",
    "\n",
    "In our case, we will take the easy route. Because we simulated the data, we already know what our media spend would have been in the absence of the campaign. We can use this information to define our counterfactual scenario. This allows us to take a parameter recovery approach - we will be able to compare the model's counterfactual predictions to ground truth."
   ]
  },
  {
   "cell_type": "markdown",
   "metadata": {},
   "source": [
    ":::{admonition} Parameter recovery\n",
    ":class: note\n",
    "\n",
    "The logic of running through these steps on simulated actual and counterfactual data is that we can compare the MMM's ability to estimate the causal impact of the marketing campaign to the true causal impact that we know because we simulated the data. If we do ok here, we can be more confident that the MMM will be able to estimate the causal impact of the marketing campaign on real data where only the actual data is available.\n",
    ":::"
   ]
  },
  {
   "cell_type": "markdown",
   "metadata": {},
   "source": [
    "Let's make that more real by visualizing the `x1` and `x2` predictors, along with the `y` outcome variable. This is done for both the actual and counterfactual scenarios. We can see that there is divergence in the media spend in `x1` during the campaign period and also for the outcome variable `y`. The difference between the outcome in the actual and counterfactual scenarios is the causal effect of the marketing campaign (bottom plot)."
   ]
  },
  {
   "cell_type": "code",
   "execution_count": null,
   "metadata": {
    "tags": [
     "hide-input"
    ]
   },
   "outputs": [],
   "source": [
    "# calculate true causal impact\n",
    "true_causal_impact: pd.DataFrame = (\n",
    "    df_actual.copy()\n",
    "    .assign(\n",
    "        true_causal_impact=lambda x: x[\"y\"] - df_counterfactual[\"y\"],\n",
    "        true_cumulative_causal_impact=lambda x: (\n",
    "            x[\"y\"] - df_counterfactual[\"y\"]\n",
    "        ).cumsum(),\n",
    "    )\n",
    "    .loc[:, [\"date_week\", \"true_causal_impact\", \"true_cumulative_causal_impact\"]]\n",
    ")\n",
    "\n",
    "fig, ax = plt.subplots(4, 1, sharex=True, figsize=(12, 12))\n",
    "\n",
    "sns.lineplot(\n",
    "    x=\"date_week\", y=\"x1\", data=df_counterfactual, label=\"counterfactual\", ax=ax[0]\n",
    ")\n",
    "sns.lineplot(x=\"date_week\", y=\"x1\", data=df_actual, label=\"actual\", ax=ax[0])\n",
    "ax[0].set(title=\"x1 spend\")\n",
    "\n",
    "sns.lineplot(\n",
    "    x=\"date_week\", y=\"x2\", data=df_counterfactual, label=\"counterfactual\", ax=ax[1]\n",
    ")\n",
    "sns.lineplot(x=\"date_week\", y=\"x2\", data=df_actual, label=\"actual\", ax=ax[1])\n",
    "ax[1].set(title=\"x2 spend\")\n",
    "\n",
    "sns.lineplot(\n",
    "    x=\"date_week\", y=\"y\", data=df_counterfactual, label=\"counterfactual\", ax=ax[2]\n",
    ")\n",
    "sns.lineplot(x=\"date_week\", y=\"y\", data=df_actual, label=\"actual\", ax=ax[2])\n",
    "ax[2].set(title=\"outcome\")\n",
    "\n",
    "sns.lineplot(\n",
    "    x=\"date_week\",\n",
    "    y=\"true_causal_impact\",\n",
    "    data=true_causal_impact,\n",
    "    label=\"causal impact\",\n",
    "    ax=ax[3],\n",
    ")\n",
    "cumulative_impact = true_causal_impact[\"true_causal_impact\"].sum()\n",
    "ax[3].set(title=f\"True causal impact (cumulative total = {cumulative_impact:.2f})\")\n",
    "\n",
    "# plot intervention point\n",
    "for i in [0, 1, 2, 3]:\n",
    "    plot_intervention_dates(intervention_dates, ax[i])"
   ]
  },
  {
   "cell_type": "markdown",
   "metadata": {},
   "source": [
    ":::{note}\n",
    "Notice in the bottom plot that the causal impact of the campaign continues on for a short duration after the campaign as ended. This is a direct result of the adstock function in the MMM which models the lagged effect of media spend on sales. Similarly, there is a slight lag effect at the start of the campaign. There is also noise in the causal impact - this makes sense because the way how we similated this data was based on changes in media spend, not on a specified level of sales difference.\n",
    ":::"
   ]
  },
  {
   "cell_type": "markdown",
   "metadata": {},
   "source": [
    "Now we want to evaluate what the model thinks would have happened in the counterfactual scenario that the intervention did not take place. For this, we will use the counterfactual spend in `df.x1`. But remember, in a real-world scenario, we would not have access to this data and so we would have to estimate it as discussed above."
   ]
  },
  {
   "cell_type": "code",
   "execution_count": null,
   "metadata": {},
   "outputs": [],
   "source": [
    "X_counterfactual = df_counterfactual[[\"t\", \"date_week\", \"x1\", \"x2\"]]\n",
    "X_counterfactual.head()"
   ]
  },
  {
   "cell_type": "markdown",
   "metadata": {},
   "source": [
    "The command below effectively uses the do-operator to intervene on the DAG and set `x1` to the counterfactual spend, and use the model to predict what the sales would have been in the counterfactual scenario."
   ]
  },
  {
   "cell_type": "code",
   "execution_count": null,
   "metadata": {},
   "outputs": [],
   "source": [
    "y_counterfactual = mmm.sample_posterior_predictive(\n",
    "    X_pred=X_counterfactual, extend_idata=False\n",
    ");"
   ]
  },
  {
   "cell_type": "markdown",
   "metadata": {},
   "source": [
    "Now we have the actual sales data, and our predicted sales in the counterfactual scenario, we can calculate the causal impact of the intervention. This is done by comparing the actual sales to the predicted sales in the counterfactual scenario."
   ]
  },
  {
   "cell_type": "code",
   "execution_count": null,
   "metadata": {},
   "outputs": [],
   "source": [
    "y_obs = xr.DataArray(df_actual[\"y\"].to_numpy(), dims=[\"date\"])\n",
    "causal_impact = y_obs - y_counterfactual[\"y\"]"
   ]
  },
  {
   "cell_type": "code",
   "execution_count": null,
   "metadata": {
    "tags": [
     "hide-input"
    ]
   },
   "outputs": [],
   "source": [
    "def plot_counterfactual_posterior_predictive(\n",
    "    X_counterfactual: xr.DataArray, y_counterfactual: xr.DataArray, ax: plt.Axes\n",
    "):\n",
    "    y_counterfactual[\"y\"].quantile([0.025, 0.975], dim=[\"sample\"])\n",
    "    quantiles = y_counterfactual[\"y\"].quantile([0.025, 0.975], dim=[\"sample\"])\n",
    "    ax.fill_between(\n",
    "        X_counterfactual[\"date_week\"],\n",
    "        quantiles.sel({\"quantile\": 0.025}),\n",
    "        quantiles.sel({\"quantile\": 0.975}),\n",
    "        alpha=0.25,\n",
    "        color=\"C1\",\n",
    "        label=\"counterfactual interval\",\n",
    "    )\n",
    "\n",
    "\n",
    "def plot_causal_impact(\n",
    "    X_counterfactual: xr.DataArray, causal_impact: xr.DataArray, ax: plt.Axes\n",
    "):\n",
    "    quantiles = causal_impact.quantile([0.025, 0.975], dim=[\"sample\"])\n",
    "    ax.fill_between(\n",
    "        X_counterfactual[\"date_week\"],\n",
    "        quantiles.sel({\"quantile\": 0.025}),\n",
    "        quantiles.sel({\"quantile\": 0.975}),\n",
    "        alpha=0.25,\n",
    "        color=\"C0\",\n",
    "        # label=f\"{label} interval\",\n",
    "    )\n",
    "    # plot posterior predictive mean\n",
    "    causal_impact.mean(dim=\"sample\").plot(ax=ax, label=\"causal impact mean\")\n",
    "    ax.axhline(y=0, color=\"black\")\n",
    "    ax.set(title=\"Causal Impact\", xlabel=\"\", ylabel=r\"$\\Delta$y\")\n",
    "\n",
    "\n",
    "def get_cropped_causal_impact(causal_impact: xr.DataArray, intervention_dates):\n",
    "    return X_counterfactual[X_counterfactual[\"date_week\"] >= intervention_dates[0]]\n",
    "\n",
    "\n",
    "def plot_causal_impact_cumulative(\n",
    "    _X_counterfactual: xr.DataArray,\n",
    "    causal_impact: xr.DataArray,\n",
    "    intervention_dates,\n",
    "    ax: plt.Axes,\n",
    "):\n",
    "    _X_counterfactual = get_cropped_causal_impact(causal_impact, intervention_dates)\n",
    "    # select counterfactual where date_week is greater than intervention_date\n",
    "    _causal_impact = causal_impact.sel({\"date\": slice(intervention_dates[0], None)})\n",
    "    cum_causal_impact = _causal_impact.cumsum(dim=\"date\")\n",
    "    ax.plot(\n",
    "        _X_counterfactual[\"date_week\"],\n",
    "        cum_causal_impact.mean(dim=\"sample\"),\n",
    "        label=\"mean\",\n",
    "    )\n",
    "    quantiles = cum_causal_impact.quantile([0.025, 0.975], dim=[\"sample\"])\n",
    "    ax.fill_between(\n",
    "        _X_counterfactual[\"date_week\"],\n",
    "        quantiles.sel({\"quantile\": 0.025}),\n",
    "        quantiles.sel({\"quantile\": 0.975}),\n",
    "        alpha=0.25,\n",
    "        color=\"C0\",\n",
    "    )\n",
    "    ax.set(title=\"Cumulative causal Impact\", xlabel=\"date\", ylabel=\"y\")\n",
    "\n",
    "\n",
    "fig, ax = plt.subplots(3, 1, sharex=True, figsize=(12, 9))\n",
    "\n",
    "# Top plot - data and predictions in outcome space\n",
    "mmm.plot_posterior_predictive(original_scale=True, ax=ax[0], hdi_list=[0.94])\n",
    "plot_counterfactual_posterior_predictive(X_counterfactual, y_counterfactual, ax[0])\n",
    "ax[0].legend()\n",
    "ax[0].set(title=\"Outcome space\", xlabel=\"\")\n",
    "\n",
    "# Middle plot - causal impact\n",
    "plot_causal_impact(X_counterfactual, causal_impact, ax[1])\n",
    "sns.lineplot(\n",
    "    x=\"date_week\",\n",
    "    y=\"true_causal_impact\",\n",
    "    data=true_causal_impact,\n",
    "    label=\"true causal impact\",\n",
    "    ax=ax[1],\n",
    "    color=\"C1\",\n",
    ")\n",
    "# Bottom plot - cumulative causal impact\n",
    "plot_causal_impact_cumulative(\n",
    "    get_cropped_causal_impact(causal_impact, intervention_dates),\n",
    "    causal_impact,\n",
    "    intervention_dates,\n",
    "    ax[2],\n",
    ")\n",
    "\n",
    "sns.lineplot(\n",
    "    x=\"date_week\",\n",
    "    y=\"true_cumulative_causal_impact\",\n",
    "    data=true_causal_impact,\n",
    "    label=\"true\",\n",
    "    ax=ax[2],\n",
    ")\n",
    "\n",
    "for i in [0, 1, 2]:\n",
    "    plot_intervention_dates(intervention_dates, ax[i])"
   ]
  },
  {
   "cell_type": "markdown",
   "metadata": {},
   "source": [
    "**Top plot:** The top plot shows the actual sales data (black line), the posterior predicted sales under the actual scenario (blue shaded region), and the posterior predicted sales under the counterfactual scenario (orange shaded region). We might be able to see that the model predicts lower sales in the counterfactual scenario than in the actual scenario. This makes sense because the counterfactual scenario is one where we did not conduct the marketing campaign - so lower sales in this case would be expected.\n",
    "\n",
    "**Middle plot:** The middle plot shows the difference between the actual and counterfactual sales. This is the causal impact of the marketing campaign. We can see that the model predicts a positive causal impact of the marketing campaign. We can also see that the model predicts negligible causal impact of the marketing capaign before the campaign started - this makes total sense but it is important to check that we don't have some unexpected causal impact before the campaign started.\n",
    "\n",
    "**Bottom plot:** The bottom plot shows the estimated cumulative causal impact from the start of the campaign. And because we simulated the data and know the true causal impact, we can see that the model is doing a good job."
   ]
  },
  {
   "cell_type": "markdown",
   "metadata": {},
   "source": [
    "## Summary\n",
    "\n",
    "In this notebook, we've recapped Pearl's causal ladder and seen how different levels of causal reasoning can be applied to solve business problems with MMMs. We've seen how MMMs can be used to predict future sales (Step 1), optimize marketing spend (Step 2), and evaluate the impact of marketing campaigns (Step 3).\n",
    "\n",
    "We saw how counterfactual inference can be used to estimate the causal impact of marketing campaigns. In this notebook we used \"God Mode\" to simulate a world where we had knowledge of the counterfactual scenario - but in real world use cases we may have to estimate what the media spend would have been had we not run a marketing campaign.\n",
    "\n",
    "Of course, the methods demonstrated here can be used in other ways. An immediate one that comes to mind is to evaluate the causal impact of our past media spending by comparing it to a counterfactual scenario of zero media spend (on one or multiple channels), for example.\n",
    "\n",
    "We hope you see how this can be a powerful tool for businesses to understand the impact of their marketing efforts and make data-driven decisions."
   ]
  },
  {
   "cell_type": "code",
   "execution_count": null,
   "metadata": {},
   "outputs": [],
   "source": [
    "%load_ext watermark\n",
    "%watermark -n -u -v -iv -w -p pymc_marketing,pytensor"
   ]
  }
 ],
 "metadata": {
  "kernelspec": {
   "display_name": "pymc-marketing-dev",
   "language": "python",
   "name": "python3"
  },
  "language_info": {
   "codemirror_mode": {
    "name": "ipython",
    "version": 3
   },
   "file_extension": ".py",
   "mimetype": "text/x-python",
   "name": "python",
   "nbconvert_exporter": "python",
   "pygments_lexer": "ipython3",
   "version": "3.10.15"
  }
 },
 "nbformat": 4,
 "nbformat_minor": 2
}
