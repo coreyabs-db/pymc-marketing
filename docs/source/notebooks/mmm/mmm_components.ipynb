{
 "cells": [
  {
   "cell_type": "markdown",
   "id": "6bc7c733-2120-4e0c-a180-960b011dc834",
   "metadata": {},
   "source": [
    "(mmm_components)=\n",
    "# Custom Models with MMM components\n",
    "\n",
    "The underlying components used in the `MMM` class provide flexibility to build other, custom models. With a little knowledge of `PyMC` and how to customize these `PyMC-Marketing` components, a lot of different use-cases can be covered. \n",
    "\n",
    "This notebook is not an introduction but rather an advance example for those trying to understand the `PyMC-Marketing` internals for flexibility for custom use-cases.\n",
    "\n",
    "## Overview\n",
    "\n",
    "This notebook will cover the currently exposed model components from the PyMC-Marketing API. At the moment, this includes: \n",
    "\n",
    "- media transformations\n",
    "    - adstock: how today's media has an effect in the future\n",
    "    - saturation: the diminishing returns for media\n",
    "- recurring seasonality\n",
    "\n",
    "For each of these, the flexibility and customization will be showcased and combined together in a toy model with with `PyMC` directly."
   ]
  },
  {
   "cell_type": "markdown",
   "id": "848ba141-d8c8-4606-9ce7-81a4770904f1",
   "metadata": {},
   "source": [
    "## Setup"
   ]
  },
  {
   "cell_type": "code",
   "execution_count": null,
   "id": "79f7ad8d-b613-49d1-a866-a9e812baff2a",
   "metadata": {},
   "outputs": [],
   "source": [
    "from functools import partial\n",
    "\n",
    "import arviz as az\n",
    "import matplotlib.pyplot as plt\n",
    "import numpy as np\n",
    "import pandas as pd\n",
    "import pymc as pm\n",
    "import xarray as xr\n",
    "\n",
    "from pymc_marketing import mmm\n",
    "from pymc_marketing.mmm.plot import plot_curve\n",
    "from pymc_marketing.prior import Prior\n",
    "\n",
    "az.style.use(\"arviz-darkgrid\")\n",
    "plt.rcParams[\"figure.figsize\"] = [12, 7]\n",
    "plt.rcParams[\"figure.dpi\"] = 100\n",
    "\n",
    "%config InlineBackend.figure_format = \"retina\""
   ]
  },
  {
   "cell_type": "code",
   "execution_count": null,
   "id": "5453bccf-0d7e-43a6-a3db-56c27ab4e4cb",
   "metadata": {},
   "outputs": [],
   "source": [
    "seed = sum(map(ord, \"PyMC-Marketing provides flexible model components\"))\n",
    "rng = np.random.default_rng(seed)\n",
    "\n",
    "draw = partial(pm.draw, random_seed=rng)"
   ]
  },
  {
   "cell_type": "markdown",
   "id": "465c07f2-ae06-43ac-bd6a-c05e3f835bf0",
   "metadata": {},
   "source": [
    "## Media Transformations\n",
    "\n",
    "There are classes for each of the adstock and saturation transformations. They can be imported from the `pymc_marketing.mmm` module."
   ]
  },
  {
   "cell_type": "code",
   "execution_count": null,
   "id": "39c4e76e-39b8-4590-b8d1-5b3e0867b64a",
   "metadata": {},
   "outputs": [],
   "source": [
    "saturation = mmm.MichaelisMentenSaturation()"
   ]
  },
  {
   "cell_type": "markdown",
   "id": "4949acd9-e73a-4b17-b72e-0186536a8ef4",
   "metadata": {},
   "source": [
    "Saturation curves can take many different forms. In this example, we will use the Michaelis Menten curve which we provide in the `MichaelisMentenSaturation` class.\n",
    "\n",
    "This curve has two parameters, `alpha` and `lam`.\n",
    "\n",
    "A characteristic of these curves are diminishing returns in order to indicate saturation of a media variable. This can be seen in the plateauing as x increases."
   ]
  },
  {
   "cell_type": "code",
   "execution_count": null,
   "id": "828d7a1c-e772-499e-8bf8-1b988fc14df0",
   "metadata": {
    "tags": [
     "hide-input"
    ]
   },
   "outputs": [],
   "source": [
    "xx = np.linspace(0, 1)\n",
    "\n",
    "alpha = 1\n",
    "lam = 1 / 10\n",
    "yy = saturation.function(xx, alpha=alpha, lam=lam).eval()\n",
    "\n",
    "fig, ax = plt.subplots()\n",
    "fig.suptitle(\"Example Saturation Curve\")\n",
    "ax.plot(xx, yy)\n",
    "ax.plot(xx, np.ones_like(xx) * alpha, color=\"black\", linestyle=\"dashed\", alpha=0.75)\n",
    "ax.set(\n",
    "    xlabel=\"x\",\n",
    "    ylabel=\"Saturated x\",\n",
    "    title=f\"Michaelis Menten with {alpha=}, {lam=}\",\n",
    ");"
   ]
  },
  {
   "cell_type": "markdown",
   "id": "9137f68a-0d8f-4a16-b17d-38d7ddc1aa67",
   "metadata": {},
   "source": [
    "### Sampling Transformation Function\n",
    "\n",
    "Each of the transformation will have a set of default priors. These can be altered at initialization with the `priors` parameter but will ultimately be stored in the `function_priors` attribute of the instance. There will be a prior for each of the estimated parameters used in the function."
   ]
  },
  {
   "cell_type": "code",
   "execution_count": null,
   "id": "90123200-ab8e-4927-8227-d8f031544bf4",
   "metadata": {},
   "outputs": [],
   "source": [
    "saturation.function_priors"
   ]
  },
  {
   "cell_type": "markdown",
   "id": "73475f4e-49b9-4fe6-b36c-098a1601bd76",
   "metadata": {},
   "source": [
    "The `sample_prior` method can be used to sample the parameters of the functions.\n",
    "\n",
    "```{note}\n",
    "There is the prefix `saturation_` on each of the parameters in order to not clash with the larger model. This is the default but can be changed as well.\n",
    "```"
   ]
  },
  {
   "cell_type": "code",
   "execution_count": null,
   "id": "8458d759-f0d8-45e5-a9b2-e15cc8472017",
   "metadata": {},
   "outputs": [],
   "source": [
    "parameters = saturation.sample_prior(random_seed=rng)\n",
    "parameters"
   ]
  },
  {
   "cell_type": "markdown",
   "id": "830bab1f-5ab0-4658-8796-20398812838c",
   "metadata": {},
   "source": [
    "With parameters for the function, the curve can be sampled as well. Combining `sample_curve` and `plot_curve` together can provide good insight into the shape the curve makes!\n",
    "\n",
    "This shows the most likely curves under the prior distributions."
   ]
  },
  {
   "cell_type": "code",
   "execution_count": null,
   "id": "9c1cf62b-7578-45bd-9e91-312a6fcf7cfa",
   "metadata": {},
   "outputs": [],
   "source": [
    "curve = saturation.sample_curve(parameters, max_value=5)\n",
    "_, axes = saturation.plot_curve(curve)\n",
    "axes[0].set(\n",
    "    ylabel=\"Saturated x\",\n",
    "    title=\"Default Prior\",\n",
    ");"
   ]
  },
  {
   "cell_type": "markdown",
   "id": "0653b638-9b66-49be-97e6-4117117fce41",
   "metadata": {},
   "source": [
    "```{tip}\n",
    "The posterior can be used instead of the prior in both the `sample_curve` and `plot_curve` methods. Any additional coordinates from the parameters will be handled automatically!\n",
    "```"
   ]
  },
  {
   "cell_type": "markdown",
   "id": "88dd8f65-5f43-43c1-ae97-77e462af2e25",
   "metadata": {},
   "source": [
    "### Adding Parameter Dimensions\n",
    "\n",
    "In most cases, a separate saturation function will be estimated for each media channel. A dimension needs to be added to the prior of the function parameters to account for this.\n",
    "\n",
    "Let's create some example data to work toward this transformation."
   ]
  },
  {
   "cell_type": "code",
   "execution_count": null,
   "id": "51735809-32bd-4444-8c5e-c57a56330c54",
   "metadata": {
    "tags": [
     "hide-input"
    ]
   },
   "outputs": [],
   "source": [
    "def random_spends(coords) -> xr.DataArray:\n",
    "    \"\"\"Create random spends that turn off and on.\"\"\"\n",
    "    size = tuple([len(values) for values in coords.values()])\n",
    "    dims = list(coords.keys())\n",
    "\n",
    "    amount_rv = pm.HalfNormal.dist(size=size)\n",
    "    stopped_rv = pm.Normal.dist(size=size).cumsum(axis=0) <= 0\n",
    "    spends_rv = amount_rv * stopped_rv\n",
    "\n",
    "    return xr.DataArray(\n",
    "        draw(spends_rv),\n",
    "        coords=coords,\n",
    "        dims=dims,\n",
    "        name=\"spends\",\n",
    "    )"
   ]
  },
  {
   "cell_type": "markdown",
   "id": "6ec5f6dc-be42-4bf8-98bc-c7b99256f52c",
   "metadata": {},
   "source": [
    "For this example, we will have 2 years of media spend for 4 channels"
   ]
  },
  {
   "cell_type": "code",
   "execution_count": null,
   "id": "8c9c26b2-4aee-4711-abb4-3f113ef1f35e",
   "metadata": {},
   "outputs": [],
   "source": [
    "n_dates = 52 * 2\n",
    "dates = pd.date_range(\"2023-01-01\", periods=n_dates, freq=\"W-MON\")\n",
    "\n",
    "channels = [\"C1\", \"C2\", \"C3\", \"C4\"]\n",
    "\n",
    "coords = {\n",
    "    \"date\": dates,\n",
    "    \"channel\": channels,\n",
    "}"
   ]
  },
  {
   "cell_type": "code",
   "execution_count": null,
   "id": "09e04512-7937-4d64-90ca-bb996ea89eed",
   "metadata": {},
   "outputs": [],
   "source": [
    "df_spends = random_spends(coords=coords).to_pandas()\n",
    "df_spends.head()"
   ]
  },
  {
   "cell_type": "code",
   "execution_count": null,
   "id": "da6cb78a-723c-4a77-8549-8b5cce395570",
   "metadata": {
    "tags": [
     "hide-input"
    ]
   },
   "outputs": [],
   "source": [
    "ax = df_spends.plot(title=\"Example Media Spend Data\", ylabel=\"Spend\", alpha=0.75)\n",
    "ax.legend(title=\"Channel\", loc=\"center left\", bbox_to_anchor=(1, 0.5));"
   ]
  },
  {
   "cell_type": "markdown",
   "id": "29643530-023a-4435-b7ca-dabc29a947fa",
   "metadata": {},
   "source": [
    "As mentioned, the default priors **do not** have a channel dimension. In order to use with the in our model with \"channel\" dim, we have to add the dims to each of the function priors."
   ]
  },
  {
   "cell_type": "code",
   "execution_count": null,
   "id": "6370dee9-683b-40bf-853f-558997829de0",
   "metadata": {},
   "outputs": [],
   "source": [
    "for dist in saturation.function_priors.values():\n",
    "    dist.dims = \"channel\"\n",
    "\n",
    "saturation.function_priors"
   ]
  },
  {
   "cell_type": "markdown",
   "id": "8711914b-5acb-4a1b-bf0a-5ac13424cda4",
   "metadata": {},
   "source": [
    "The previous workflow can be used to understand our priors still. Just pass the `coords` to the `sample_prior` method in order to add dims to the appropriate variables."
   ]
  },
  {
   "cell_type": "code",
   "execution_count": null,
   "id": "b051c487-1488-4bc3-85e2-1df029c9f3a1",
   "metadata": {},
   "outputs": [],
   "source": [
    "prior = saturation.sample_prior(coords=coords, random_seed=rng)\n",
    "prior"
   ]
  },
  {
   "cell_type": "markdown",
   "id": "fe879577-ce22-4938-a3f9-cf26f907d321",
   "metadata": {},
   "source": [
    "Since each channel prior is the same, there will just be some noise between the HDI and curve samples."
   ]
  },
  {
   "cell_type": "code",
   "execution_count": null,
   "id": "d65d83aa-3321-4933-82da-e5d0c35b9b40",
   "metadata": {},
   "outputs": [],
   "source": [
    "curve = saturation.sample_curve(prior)\n",
    "saturation.plot_curve(curve);"
   ]
  },
  {
   "cell_type": "markdown",
   "id": "fb83a570-dec1-4d3a-bf95-32b12c40bc54",
   "metadata": {},
   "source": [
    "### Using in PyMC Model\n",
    "\n",
    "When using the transformation in a larger `PyMC` model, the `apply` method will be used.\n",
    "\n",
    "This method will: \n",
    "\n",
    "- create distributions based on prior specification of the instance\n",
    "- apply the transformation to the data\n",
    "\n",
    "The `dims` parameter is the shape of parameters and not the data. The data has a different shape but will need to be broadcastable with the parameters!"
   ]
  },
  {
   "cell_type": "code",
   "execution_count": null,
   "id": "f2b9df24-89f6-45f4-89a8-1d3afa18403f",
   "metadata": {},
   "outputs": [],
   "source": [
    "with pm.Model(coords=coords) as model:\n",
    "    saturated_spends = saturation.apply(df_spends, dims=\"channel\")"
   ]
  },
  {
   "cell_type": "markdown",
   "id": "63584aed-55c1-401e-8aae-58e9b5a6aa16",
   "metadata": {},
   "source": [
    "Since independent alpha and lam were specified, we see that in the model graph below:"
   ]
  },
  {
   "cell_type": "code",
   "execution_count": null,
   "id": "b08bfa91-39b5-4493-93e9-fa5798af7c0e",
   "metadata": {},
   "outputs": [],
   "source": [
    "pm.model_to_graphviz(model)"
   ]
  },
  {
   "cell_type": "markdown",
   "id": "0eb015a8-38b7-4f3a-a1a8-82b7708efc0e",
   "metadata": {},
   "source": [
    "```{note}\n",
    "Neither the `df_spends` nor `saturated_spends` show in the model. If needed, use `pm.Data` and `pm.Deterministic` to save off.\n",
    "```\n",
    "\n",
    "Our variable will be (date, channel) dims."
   ]
  },
  {
   "cell_type": "code",
   "execution_count": null,
   "id": "3b1297b5-8794-449f-a916-4071be0ec7e1",
   "metadata": {},
   "outputs": [],
   "source": [
    "saturated_spends.type.shape"
   ]
  },
  {
   "cell_type": "markdown",
   "id": "8719dde4-ec3e-4d98-9e6b-f8db11b0b516",
   "metadata": {},
   "source": [
    "We can manipulate this in anyway we'd like to connect it in with the larger model."
   ]
  },
  {
   "cell_type": "markdown",
   "id": "e46b6c45-9d23-43b3-afe6-c0351ed053bf",
   "metadata": {},
   "source": [
    "### Changing Assumptions\n",
    "\n",
    "As hinted above, the priors for the function parameters are customizable which can lead to many different models. Change the priors, change the model.\n",
    "\n",
    "The prior distributions just need to follow the distribution API [here](https://www.pymc-marketing.io/en/stable/api/generated/pymc_marketing.model_config.html)."
   ]
  },
  {
   "cell_type": "markdown",
   "id": "7ae18f3d-5ec1-4765-aa7e-bc898e90758d",
   "metadata": {},
   "source": [
    "Instead of the defaults, we can use:\n",
    "- hierarchical parameter for `lam` parameter\n",
    "- common `alpha` parameter\n",
    "  "
   ]
  },
  {
   "cell_type": "code",
   "execution_count": null,
   "id": "2f5f4dc4-311f-4bbc-aba2-8524cc9f128f",
   "metadata": {},
   "outputs": [],
   "source": [
    "hierarchical_lam = Prior(\n",
    "    \"HalfNormal\",\n",
    "    sigma=Prior(\"HalfNormal\", sigma=1),\n",
    "    dims=\"channel\",\n",
    ")\n",
    "common_alpha = Prior(\"Gamma\", mu=2, sigma=1)\n",
    "priors = {\n",
    "    \"lam\": hierarchical_lam,\n",
    "    \"alpha\": common_alpha,\n",
    "}\n",
    "\n",
    "saturation = mmm.MichaelisMentenSaturation(priors=priors)\n",
    "\n",
    "saturation.function_priors"
   ]
  },
  {
   "cell_type": "markdown",
   "id": "1d51eefc-6fa3-47f5-86fe-4f726802896a",
   "metadata": {},
   "source": [
    "Then this can be used in a new `PyMC` model which leads to a much different model graph than before!"
   ]
  },
  {
   "cell_type": "code",
   "execution_count": null,
   "id": "a6347478-842d-4c26-bd4b-45ed1cae0ce5",
   "metadata": {},
   "outputs": [],
   "source": [
    "with pm.Model(coords=coords) as model:\n",
    "    saturated_spends = saturation.apply(df_spends, dims=\"channel\")\n",
    "\n",
    "pm.model_to_graphviz(model)"
   ]
  },
  {
   "cell_type": "markdown",
   "id": "7faadb18-b198-455e-810d-587313992019",
   "metadata": {},
   "source": [
    "The shape of the output will still be (date, channel) even though some of the parameter's dims has changed."
   ]
  },
  {
   "cell_type": "code",
   "execution_count": null,
   "id": "83826a03-6705-4d56-88f9-befab50c5faa",
   "metadata": {},
   "outputs": [],
   "source": [
    "saturated_spends.type.shape"
   ]
  },
  {
   "cell_type": "markdown",
   "id": "897c7c61-ac64-4b9f-bfd2-969fb08970a2",
   "metadata": {},
   "source": [
    "The previous workflow still helps us understand the produced curves: \n",
    "\n",
    "- `sample_prior`\n",
    "- `sample_curve`\n",
    "- `plot_curve`"
   ]
  },
  {
   "cell_type": "code",
   "execution_count": null,
   "id": "3ae6dc3e-c926-42d3-87c8-817a97951a1f",
   "metadata": {},
   "outputs": [],
   "source": [
    "prior = saturation.sample_prior(coords=coords, random_seed=rng)"
   ]
  },
  {
   "cell_type": "markdown",
   "id": "a87fca88-11b0-4729-a0a2-0d19ba3030b7",
   "metadata": {},
   "source": [
    "Though they all look the same in the prior, the data generation process is indeed different as seen in the model graph."
   ]
  },
  {
   "cell_type": "code",
   "execution_count": null,
   "id": "4c14abf4-760a-4523-a439-eb462b2dd967",
   "metadata": {
    "editable": true,
    "slideshow": {
     "slide_type": ""
    },
    "tags": []
   },
   "outputs": [],
   "source": [
    "curve = saturation.sample_curve(prior)\n",
    "saturation.plot_curve(curve);"
   ]
  },
  {
   "cell_type": "markdown",
   "id": "b3890eae-f638-41c0-98c0-fcbabf336078",
   "metadata": {},
   "source": [
    "#### Geo Hierarchical Model\n",
    "\n",
    "The dimensions of the parameters are not limited to 1D so additional hierarchies can be defined. \n",
    "\n",
    "Below defines: \n",
    "\n",
    "- alpha which is hierarchical across channels\n",
    "- lam which is common across all geos but different channels"
   ]
  },
  {
   "cell_type": "code",
   "execution_count": null,
   "id": "51d21595-779a-4f21-8b03-399eb1cb0986",
   "metadata": {},
   "outputs": [],
   "source": [
    "# For reference\n",
    "mmm.MichaelisMentenSaturation.default_priors"
   ]
  },
  {
   "cell_type": "code",
   "execution_count": null,
   "id": "21d81d40-a4bf-4e5c-87aa-da10a2b015dd",
   "metadata": {},
   "outputs": [],
   "source": [
    "hierarchical_alpha = Prior(\n",
    "    \"Gamma\",\n",
    "    mu=Prior(\"HalfNormal\", sigma=1, dims=\"geo\"),\n",
    "    sigma=Prior(\"HalfNormal\", sigma=1, dims=\"geo\"),\n",
    "    dims=(\"channel\", \"geo\"),\n",
    ")\n",
    "common_lam = Prior(\"HalfNormal\", sigma=1, dims=\"channel\")\n",
    "priors = {\n",
    "    \"alpha\": hierarchical_alpha,\n",
    "    \"lam\": common_lam,\n",
    "}\n",
    "saturation = mmm.MichaelisMentenSaturation(priors=priors)"
   ]
  },
  {
   "cell_type": "markdown",
   "id": "9a771532-10b8-434a-bc20-f79f82c3cb04",
   "metadata": {},
   "source": [
    "Our new data set needs to have information for geo now. This is channel spends by date **and geo**. This is stored in an `xarray.DataArray` which can be converted to a 3D `numpy.ndarray`.\n",
    "\n",
    "Displaying the data is easy with pandas."
   ]
  },
  {
   "cell_type": "code",
   "execution_count": null,
   "id": "cc7c6c2f-f93b-464c-b209-c09c10143093",
   "metadata": {},
   "outputs": [],
   "source": [
    "geo_coords = {\n",
    "    **coords,\n",
    "    \"geo\": [\"Region1\", \"Region2\", \"Region3\"],\n",
    "}\n",
    "\n",
    "geo_spends = random_spends(coords=geo_coords)"
   ]
  },
  {
   "cell_type": "code",
   "execution_count": null,
   "id": "5a267927-9eb8-4c05-8434-e3b2f1212e1b",
   "metadata": {},
   "outputs": [],
   "source": [
    "geo_spends.to_series().unstack(\"channel\").head(6)"
   ]
  },
  {
   "cell_type": "markdown",
   "id": "a044efc4-0d34-4cda-a798-a1e699577228",
   "metadata": {},
   "source": [
    "As long as the `dims` argument of `apply` can broadcast with the data going in, then the media transformations can be used!\n",
    "\n",
    "Here, the data is in the shape (date, channel, geo) so it can broadcast with the parameters in shape (channel, geo) to create the saturated spends."
   ]
  },
  {
   "cell_type": "code",
   "execution_count": null,
   "id": "75367178-930d-4c84-8c3b-6400a8421281",
   "metadata": {},
   "outputs": [],
   "source": [
    "with pm.Model(coords=geo_coords) as geo_model:\n",
    "    geo_data = pm.Data(\n",
    "        \"geo_data\",\n",
    "        geo_spends.to_numpy(),\n",
    "        dims=(\"date\", \"channel\", \"geo\"),\n",
    "    )\n",
    "    saturated_geo_spends = pm.Deterministic(\n",
    "        \"saturated_geo_spends\",\n",
    "        saturation.apply(geo_data, dims=(\"channel\", \"geo\")),\n",
    "        dims=(\"date\", \"channel\", \"geo\"),\n",
    "    )"
   ]
  },
  {
   "cell_type": "markdown",
   "id": "3dc6529a-1fc4-4c50-bb54-cc01b66c98dc",
   "metadata": {},
   "source": [
    "The saturation assumptions can be seen in the model graph:"
   ]
  },
  {
   "cell_type": "code",
   "execution_count": null,
   "id": "28d19daf-d4a5-470e-b42b-d2c3e7b00251",
   "metadata": {},
   "outputs": [],
   "source": [
    "pm.model_to_graphviz(geo_model)"
   ]
  },
  {
   "cell_type": "markdown",
   "id": "6fb1f421-ed54-424c-9169-ed2a69259f3f",
   "metadata": {},
   "source": [
    "```{tip}\n",
    "The `PyMC` model context will stay the same but changing model assumptions will happen with input data and prior configuration!\n",
    "```\n"
   ]
  },
  {
   "cell_type": "markdown",
   "id": "959757f9-5693-485f-8161-87e13d6b3804",
   "metadata": {},
   "source": [
    "## Seasonality\n",
    "\n",
    "Recurring seasonality can be modeled with either a `MonthlyFourier` or `YearlyFourier` instance."
   ]
  },
  {
   "cell_type": "code",
   "execution_count": null,
   "id": "678ed54f-6ef7-48cd-a941-b53a084e6b6b",
   "metadata": {},
   "outputs": [],
   "source": [
    "yearly = mmm.YearlyFourier(n_order=2)"
   ]
  },
  {
   "cell_type": "markdown",
   "id": "fc25d898-1101-4752-a903-b1dcc7976e2d",
   "metadata": {},
   "source": [
    "There is a similar workflow to understand these priors as before:\n",
    "\n",
    "- `sample_prior`: Sample all the priors\n",
    "- `sample_curve`: Sample the curve across the whole period\n",
    "- `plot_curve`: Plot the HDI and few samples"
   ]
  },
  {
   "cell_type": "code",
   "execution_count": null,
   "id": "8a861f00-318f-42ab-b647-80f2f8c434c4",
   "metadata": {},
   "outputs": [],
   "source": [
    "prior = yearly.sample_prior()\n",
    "curve = yearly.sample_curve(prior)\n",
    "yearly.plot_curve(curve);"
   ]
  },
  {
   "cell_type": "markdown",
   "id": "5623a4cb-4115-4a3c-ab35-b1a6c1db7bbc",
   "metadata": {},
   "source": [
    "This also supports arbitrary hierarchies that can be defined with the `Prior` class. Pass these in with the `prior` parameters. \n",
    "\n",
    "```{note}\n",
    "A dimension associated with the prefix will be required! By default it is `fourier`\n",
    "```"
   ]
  },
  {
   "cell_type": "code",
   "execution_count": null,
   "id": "1b1ff650-db41-4291-8d32-cb7fb31ed7be",
   "metadata": {},
   "outputs": [],
   "source": [
    "prior = Prior(\n",
    "    \"Normal\",\n",
    "    mu=[0, 0, -1, 0],\n",
    "    sigma=Prior(\"Gamma\", mu=0.15, sigma=0.1, dims=\"fourier\"),\n",
    "    dims=(\"geo\", \"fourier\"),\n",
    ")\n",
    "yearly = mmm.YearlyFourier(n_order=2, prior=prior)"
   ]
  },
  {
   "cell_type": "markdown",
   "id": "a3097c6d-a38b-4bc2-b2e2-f74621412a44",
   "metadata": {},
   "source": [
    "The above workflow works here as well! The coords just need to be passed like in `pm.Model`."
   ]
  },
  {
   "cell_type": "code",
   "execution_count": null,
   "id": "143c8bb8-9c13-4cdd-8245-9373dca98692",
   "metadata": {},
   "outputs": [],
   "source": [
    "coords = {\n",
    "    \"geo\": [\"A\", \"B\"],\n",
    "}\n",
    "prior = yearly.sample_prior(coords=coords)\n",
    "curve = yearly.sample_curve(prior)"
   ]
  },
  {
   "cell_type": "markdown",
   "id": "bb682b10-58bc-48ed-935a-0c45f2472836",
   "metadata": {},
   "source": [
    "Based on the hierarchical priors, we can see similar seasonality betweens geos. However, they are not exactly the same!"
   ]
  },
  {
   "cell_type": "code",
   "execution_count": null,
   "id": "8cf4f19e-a49d-450f-b26a-a08d0a0ef703",
   "metadata": {},
   "outputs": [],
   "source": [
    "subplot_kwargs = {\"ncols\": 1}\n",
    "sample_kwargs = {\"n\": 3}\n",
    "fig, _ = yearly.plot_curve(\n",
    "    curve, subplot_kwargs=subplot_kwargs, sample_kwargs=sample_kwargs\n",
    ")\n",
    "fig.suptitle(\"Prior seasonality\");"
   ]
  },
  {
   "cell_type": "markdown",
   "id": "c370ca7a-981c-4ff2-99f0-07ee2b22130d",
   "metadata": {},
   "source": [
    "## Example Custom MMM\n",
    "\n",
    "Lots of flexibility by combining them together. This will build off the example above and now include an adstock transformation of the data as well."
   ]
  },
  {
   "cell_type": "code",
   "execution_count": null,
   "id": "4e30fab6-dc97-4e71-a230-717e533695c0",
   "metadata": {},
   "outputs": [],
   "source": [
    "def create_media_transformation(adstock, saturation, adstock_first: bool = True):\n",
    "    \"\"\"Flexible media transformation which allows for order to transformations.\"\"\"\n",
    "    first, second = (adstock, saturation) if adstock_first else (saturation, adstock)\n",
    "\n",
    "    def media_transformation(x, dims):\n",
    "        return second.apply(first.apply(x, dims=dims), dims=dims)\n",
    "\n",
    "    return media_transformation"
   ]
  },
  {
   "cell_type": "markdown",
   "id": "35ee8003-5238-4a79-8dab-d0878c991aa5",
   "metadata": {},
   "source": [
    "Our adstock function will have a hierarchical parameter for each geo. Our configuration is flexible enough to change this as long as the final dims will broadcast with the data!"
   ]
  },
  {
   "cell_type": "code",
   "execution_count": null,
   "id": "e0d1dc37-0a34-4eb4-8546-86c48d6db100",
   "metadata": {},
   "outputs": [],
   "source": [
    "# For reference\n",
    "mmm.GeometricAdstock.default_priors"
   ]
  },
  {
   "cell_type": "markdown",
   "id": "0d8ceea8-1cde-4e36-892e-38702a11cf10",
   "metadata": {},
   "source": [
    "These are also hierarchical parameters but across a different dimensions than the saturation transformation."
   ]
  },
  {
   "cell_type": "code",
   "execution_count": null,
   "id": "25cfb533-4537-4f0d-98f4-cdcdcf50d0d8",
   "metadata": {},
   "outputs": [],
   "source": [
    "hierarchical_alpha = Prior(\n",
    "    \"Beta\",\n",
    "    alpha=Prior(\"HalfNormal\", sigma=1, dims=\"channel\"),\n",
    "    beta=Prior(\"HalfNormal\", sigma=1, dims=\"channel\"),\n",
    "    dims=(\"channel\", \"geo\"),\n",
    ")\n",
    "priors = {\n",
    "    \"alpha\": hierarchical_alpha,\n",
    "}\n",
    "adstock = mmm.GeometricAdstock(l_max=10, priors=priors)"
   ]
  },
  {
   "cell_type": "markdown",
   "id": "e82fe995-954e-486b-b2a4-80185a1cb311",
   "metadata": {},
   "source": [
    "Then for some additional differences between geo and observations, we will assume an intercept and noise around observations. The intercept will be independent across geos and the noise will be assumed to be hierarchical across geos.\n",
    "\n",
    "The `Prior` class will be used to reflect these assumptions outside of the model context"
   ]
  },
  {
   "cell_type": "code",
   "execution_count": null,
   "id": "51fddfb2-bde2-4fe6-9f46-32abe5e74ed3",
   "metadata": {},
   "outputs": [],
   "source": [
    "intercept_dist = Prior(\"Normal\", mu=2.5, sigma=0.25, dims=\"geo\")\n",
    "sigma_dist = Prior(\n",
    "    \"Normal\",\n",
    "    mu=-1,\n",
    "    sigma=Prior(\"Gamma\", mu=0.25, sigma=0.05),\n",
    "    dims=\"geo\",\n",
    "    transform=\"exp\",\n",
    ")"
   ]
  },
  {
   "cell_type": "code",
   "execution_count": null,
   "id": "7ef6134f-65b0-459e-aa68-0160c3a5ed25",
   "metadata": {},
   "outputs": [],
   "source": [
    "media_transformation = create_media_transformation(\n",
    "    adstock, saturation, adstock_first=True\n",
    ")\n",
    "\n",
    "with pm.Model(coords=geo_coords) as geo_model:\n",
    "    intercept = intercept_dist.create_variable(\"intercept\")\n",
    "\n",
    "    # Media\n",
    "    geo_data = pm.Data(\n",
    "        \"geo_data\",\n",
    "        geo_spends.to_numpy(),\n",
    "        dims=(\"date\", \"channel\", \"geo\"),\n",
    "    )\n",
    "    channel_contributions = pm.Deterministic(\n",
    "        \"channel_contributions\",\n",
    "        media_transformation(geo_data, dims=(\"channel\", \"geo\")),\n",
    "        dims=(\"date\", \"channel\", \"geo\"),\n",
    "    )\n",
    "\n",
    "    media_contributions = pm.Deterministic(\n",
    "        \"media_contributions\",\n",
    "        channel_contributions.sum(axis=1),\n",
    "        dims=(\"date\", \"geo\"),\n",
    "    )\n",
    "\n",
    "    # Seasonality\n",
    "    dayofyear = pm.Data(\n",
    "        \"dayofyear\",\n",
    "        geo_spends.coords[\"date\"].dt.dayofyear.to_numpy(),\n",
    "        dims=\"date\",\n",
    "    )\n",
    "    fourier_trend = pm.Deterministic(\n",
    "        \"fourier_trend\",\n",
    "        yearly.apply(dayofyear),\n",
    "        # Because of the prior\n",
    "        dims=(\"date\", \"geo\"),\n",
    "    )\n",
    "\n",
    "    # Combined\n",
    "    mu = pm.Deterministic(\n",
    "        \"mu\",\n",
    "        intercept + media_contributions + fourier_trend,\n",
    "        dims=(\"date\", \"geo\"),\n",
    "    )\n",
    "\n",
    "    sigma = sigma_dist.create_variable(\"target_sigma\")\n",
    "    target = pm.Normal(\n",
    "        \"target\",\n",
    "        mu=mu,\n",
    "        sigma=sigma,\n",
    "        dims=(\"date\", \"geo\"),\n",
    "        # observed=...,\n",
    "    )"
   ]
  },
  {
   "cell_type": "markdown",
   "id": "edc7341b-0870-4c91-92dc-78a366011f49",
   "metadata": {},
   "source": [
    "The combined data generation process can be seen below:"
   ]
  },
  {
   "cell_type": "code",
   "execution_count": null,
   "id": "20fd4448-8fdd-480c-ab1e-627ece451be5",
   "metadata": {},
   "outputs": [],
   "source": [
    "pm.model_to_graphviz(geo_model)"
   ]
  },
  {
   "cell_type": "markdown",
   "id": "943590e3-be61-4ea6-93b7-5b60db27b1a3",
   "metadata": {},
   "source": [
    "We can then sample from this model to investigate the target variable of the MMM."
   ]
  },
  {
   "cell_type": "code",
   "execution_count": null,
   "id": "8a7c5b3e-1066-4748-ac83-7a5f1d85630b",
   "metadata": {},
   "outputs": [],
   "source": [
    "with geo_model:\n",
    "    prior = pm.sample_prior_predictive(random_seed=rng).prior\n",
    "\n",
    "prior"
   ]
  },
  {
   "cell_type": "markdown",
   "id": "9f77d8d2-acc6-4506-8e5e-9d17d8243e50",
   "metadata": {},
   "source": [
    "We will use the `plot_curve` helper function to plot the `target` variable across time for each region. This shows the HDI and 2 prior samples for each of the 3 time series."
   ]
  },
  {
   "cell_type": "code",
   "execution_count": null,
   "id": "8931a5c7-9512-4cc1-9c10-e09c64b82e2d",
   "metadata": {},
   "outputs": [],
   "source": [
    "fig, axes = plot_curve(\n",
    "    prior[\"target\"],\n",
    "    {\"date\"},\n",
    "    sample_kwargs={\n",
    "        \"rng\": rng,\n",
    "        \"n\": 2,\n",
    "    },\n",
    "    subplot_kwargs={\"ncols\": 3, \"figsize\": (15, 4)},\n",
    ")\n",
    "axes[0].set(ylabel=\"MMM target\")\n",
    "fig.suptitle(\"Prior samples from geo MMM\");"
   ]
  },
  {
   "cell_type": "markdown",
   "id": "e8bf21b1-204d-4e60-95d1-75d70ff22974",
   "metadata": {},
   "source": [
    "## Summary\n",
    "\n",
    "Custom models are possible using the components that build up the `MMM` class and `PyMC` distributions themselves. With some prior distribution configuration and the components that PyMC-Marketing provides, novel models can be built up to fit various use-cases and various model assumptions.\n",
    "\n",
    "Much of the flexibility will come from the prior distribution configuration rather then the transformation themselves. This is meant to keep a standard interface while working with them regardless what their role is.\n",
    "\n",
    "If there is any suggestions or feedback on how to make better custom models with the package, [create a GitHub Issue](https://github.com/pymc-labs/pymc-marketing/issues/new) or chime into the various discussions.\n",
    "\n",
    "Though models can be built up like this, the prebuilt structures provide many benefits as well. For instance, the `MMM` class provides:\n",
    "\n",
    "- scaling of input and output data\n",
    "- plotting methods for parameters, predictive data, contributions, etc\n",
    "- customized adstock and saturation transformations\n",
    "- out of sample predictions\n",
    "- lift test integration\n",
    "- budget optimization\n",
    "\n",
    "Our recommendation is to start with the prebuilt models and work up from there."
   ]
  },
  {
   "cell_type": "code",
   "execution_count": null,
   "id": "195f7ca9-270d-47aa-bbe3-b5d1f3b81841",
   "metadata": {},
   "outputs": [],
   "source": [
    "%load_ext watermark\n",
    "%watermark -n -u -v -iv -w -p pymc_marketing,pytensor"
   ]
  }
 ],
 "metadata": {
  "kernelspec": {
   "display_name": "Python 3 (ipykernel)",
   "language": "python",
   "name": "python3"
  },
  "language_info": {
   "codemirror_mode": {
    "name": "ipython",
    "version": 3
   },
   "file_extension": ".py",
   "mimetype": "text/x-python",
   "name": "python",
   "nbconvert_exporter": "python",
   "pygments_lexer": "ipython3",
   "version": "3.12.4"
  }
 },
 "nbformat": 4,
 "nbformat_minor": 5
}
