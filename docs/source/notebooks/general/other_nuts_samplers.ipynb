{
 "cells": [
  {
   "cell_type": "markdown",
   "id": "51e3591e",
   "metadata": {},
   "source": [
    "(other_nuts_samplers)=\n",
    "# Other NUTS Samplers\n",
    "\n",
    "In this notebook we show how to fit a CLV model with other NUTS samplers. These alternative samplers can be significantly faster and also sample on the GPU.\n",
    "\n",
    "```{note}\n",
    "You need to install these packages in your Python environment.\n",
    "```\n",
    "\n",
    "```{tip}\n",
    "You can pass the exact same `nuts_sampler` argument to the MMM models. \n",
    "```\n",
    "\n",
    "```{tip}\n",
    "GPU support only works with select samplers in PyMC that use the [JAX](https://github.com/jax-ml/jax) backend. These samplers include `numpyro`, `blackjax`, and `nutpie`. \n",
    "\n",
    "Make sure the GPU is registered, follow the instructions [here](https://github.com/jax-ml/jax?tab=readme-ov-file#installation).\n",
    "```"
   ]
  },
  {
   "cell_type": "markdown",
   "id": "7c95ddb5",
   "metadata": {},
   "source": [
    "For the purpose of illustration, we will use the same data and model as in the other CLV notebooks.\n"
   ]
  },
  {
   "cell_type": "code",
   "execution_count": null,
   "id": "81c950fb",
   "metadata": {},
   "outputs": [],
   "source": [
    "import arviz as az\n",
    "import matplotlib.pyplot as plt\n",
    "from lifetimes.datasets import load_cdnow_summary\n",
    "\n",
    "from pymc_marketing import clv\n",
    "\n",
    "az.style.use(\"arviz-darkgrid\")\n",
    "plt.rcParams[\"figure.figsize\"] = [12, 7]\n",
    "plt.rcParams[\"figure.dpi\"] = 100\n",
    "plt.rcParams[\"figure.facecolor\"] = \"white\"\n",
    "\n",
    "%load_ext autoreload\n",
    "%autoreload 2\n",
    "%config InlineBackend.figure_format = \"retina\""
   ]
  },
  {
   "cell_type": "code",
   "execution_count": null,
   "id": "9351cc15",
   "metadata": {},
   "outputs": [],
   "source": [
    "df = (\n",
    "    load_cdnow_summary(index_col=[0])\n",
    "    .reset_index()\n",
    "    .rename(columns={\"ID\": \"customer_id\"})\n",
    ")"
   ]
  },
  {
   "cell_type": "markdown",
   "id": "f1ce2819",
   "metadata": {},
   "source": [
    "We can pass the keyword argument `nuts_sampler` to the `fit` method of the `CLV` model to specify the NUTS sampler to use. In addition, we can pass additional keyword arguments which will be passed to the [`pymc.sample`](https://www.pymc.io/projects/docs/en/stable/api/generated/pymc.sampling.mcmc.sample.html#pymc.sampling.mcmc.sample) method via the model builder layer.  For example, we can use the `numpyro` sampler as:"
   ]
  },
  {
   "cell_type": "code",
   "execution_count": null,
   "id": "a99638b5",
   "metadata": {},
   "outputs": [],
   "source": [
    "sampler_kwargs = {\n",
    "    \"draws\": 2_000,\n",
    "    \"target_accept\": 0.9,\n",
    "    \"chains\": 5,\n",
    "    \"random_seed\": 42,\n",
    "}\n",
    "\n",
    "model = clv.BetaGeoModel(data=df)\n",
    "idata_numpyro = model.fit(nuts_sampler=\"numpyro\", **sampler_kwargs)"
   ]
  },
  {
   "cell_type": "markdown",
   "id": "6e067978",
   "metadata": {},
   "source": [
    "Similarly, we can use the `blackjax` sampler as:"
   ]
  },
  {
   "cell_type": "code",
   "execution_count": null,
   "id": "3a9f3f60",
   "metadata": {},
   "outputs": [],
   "source": [
    "idata_blackjax = model.fit(nuts_sampler=\"blackjax\", **sampler_kwargs)"
   ]
  },
  {
   "cell_type": "markdown",
   "id": "ea4245b8",
   "metadata": {},
   "source": [
    "Finally, we can use the `nutpie` which is a Rust implementation of NUTS."
   ]
  },
  {
   "cell_type": "code",
   "execution_count": null,
   "id": "e545e778",
   "metadata": {},
   "outputs": [],
   "source": [
    "idata_nutpie = model.fit(nuts_sampler=\"nutpie\", **sampler_kwargs)"
   ]
  },
  {
   "cell_type": "markdown",
   "id": "c01afebd",
   "metadata": {},
   "source": [
    "The results from the samplers are almost identical:"
   ]
  },
  {
   "cell_type": "code",
   "execution_count": null,
   "id": "41b21bc3",
   "metadata": {
    "tags": [
     "hide-input"
    ]
   },
   "outputs": [],
   "source": [
    "fig, axes = plt.subplots(\n",
    "    nrows=2, ncols=2, figsize=(12, 8), sharex=False, sharey=False, layout=\"constrained\"\n",
    ")\n",
    "\n",
    "axes = axes.ravel()\n",
    "\n",
    "for i, var_name in enumerate([\"a\", \"b\", \"alpha\", \"r\"]):\n",
    "    for j, (idata, label) in enumerate(\n",
    "        zip(\n",
    "            [idata_blackjax, idata_nutpie, idata_numpyro],\n",
    "            [\"blackjax\", \"nutpie\", \"numpyro\"],\n",
    "            strict=False,\n",
    "        )\n",
    "    ):\n",
    "        az.plot_posterior(\n",
    "            data=idata,\n",
    "            var_names=[var_name],\n",
    "            color=f\"C{j}\",\n",
    "            point_estimate=None,\n",
    "            hdi_prob=\"hide\",\n",
    "            label=label,\n",
    "            ax=axes[i],\n",
    "        )\n",
    "\n",
    "fig.suptitle(\n",
    "    \"Posterior istributions of model parameters\",\n",
    "    fontsize=18,\n",
    "    fontweight=\"bold\",\n",
    "    y=1.05,\n",
    ");"
   ]
  },
  {
   "cell_type": "code",
   "execution_count": null,
   "id": "94d98693",
   "metadata": {},
   "outputs": [],
   "source": [
    "%load_ext watermark\n",
    "%watermark -n -u -v -iv -w -p blackjax,numpyro,nutpie,pymc"
   ]
  }
 ],
 "metadata": {
  "hide_input": false,
  "kernelspec": {
   "display_name": "Python 3 (ipykernel)",
   "language": "python",
   "name": "python3"
  },
  "language_info": {
   "codemirror_mode": {
    "name": "ipython",
    "version": 3
   },
   "file_extension": ".py",
   "mimetype": "text/x-python",
   "name": "python",
   "nbconvert_exporter": "python",
   "pygments_lexer": "ipython3",
   "version": "3.10.14"
  },
  "toc": {
   "base_numbering": 1,
   "nav_menu": {},
   "number_sections": true,
   "sideBar": true,
   "skip_h1_title": false,
   "title_cell": "Table of Contents",
   "title_sidebar": "Contents",
   "toc_cell": false,
   "toc_position": {},
   "toc_section_display": true,
   "toc_window_display": false
  }
 },
 "nbformat": 4,
 "nbformat_minor": 5
}
