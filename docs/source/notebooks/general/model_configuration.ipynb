{
 "cells": [
  {
   "cell_type": "markdown",
   "id": "bc1f69aa-913d-49fa-8e20-58f953301851",
   "metadata": {},
   "source": [
    "(model_configuration)=\n",
    "# Model Configuration\n",
    "\n",
    "This notebook provides details about the model configuration in PyMC-Marketing. This API provides a very flexible way to express the model Priors and likelihoods so that we can have enough expressiveness to build custom models."
   ]
  },
  {
   "cell_type": "markdown",
   "id": "3d539a0c",
   "metadata": {},
   "source": [
    "## Setup"
   ]
  },
  {
   "cell_type": "code",
   "execution_count": null,
   "id": "9d6bc077-24d1-47de-8542-5497ade670e3",
   "metadata": {},
   "outputs": [],
   "source": [
    "import arviz as az\n",
    "import matplotlib.pyplot as plt\n",
    "import numpy as np\n",
    "import pandas as pd\n",
    "import pymc as pm\n",
    "\n",
    "from pymc_marketing.model_config import ModelConfigError, parse_model_config\n",
    "from pymc_marketing.prior import Prior\n",
    "\n",
    "az.style.use(\"arviz-darkgrid\")\n",
    "plt.rcParams[\"figure.figsize\"] = [12, 7]\n",
    "plt.rcParams[\"figure.dpi\"] = 100\n",
    "\n",
    "%load_ext autoreload\n",
    "%autoreload 2\n",
    "%config InlineBackend.figure_format = \"retina\""
   ]
  },
  {
   "cell_type": "code",
   "execution_count": null,
   "id": "6fa99350-cc39-4ef9-9c9a-f6e0f7091636",
   "metadata": {},
   "outputs": [],
   "source": [
    "seed = sum(map(ord, \"Create priors to reflect your marketing beliefs\"))\n",
    "rng = np.random.default_rng(seed)"
   ]
  },
  {
   "cell_type": "markdown",
   "id": "a5f28af2-a8a2-4046-ad65-940464862424",
   "metadata": {},
   "source": [
    "## Prior Distributions\n",
    "\n",
    "The {class}`~pymc_marketing.prior.Prior` class is our way to expression distributions and relationships between them.\n",
    "\n",
    "### Basic Usage\n",
    "\n",
    "Every prior will need a distribution name that comes from `PyMC`. View the full list in the documentation [here](https://www.pymc.io/projects/docs/en/stable/api/distributions.html)."
   ]
  },
  {
   "cell_type": "code",
   "execution_count": null,
   "id": "34815050-4f1b-4345-b31b-466fb357a974",
   "metadata": {},
   "outputs": [],
   "source": [
    "scalar_distribution = Prior(\"Normal\")\n",
    "scalar_distribution"
   ]
  },
  {
   "cell_type": "markdown",
   "id": "b76493fe-48a1-472e-9c8a-fbf632d89baf",
   "metadata": {},
   "source": [
    "If not, then an exception will be raised."
   ]
  },
  {
   "cell_type": "code",
   "execution_count": null,
   "id": "06314bd5-ebce-4c41-b2c5-b99143c13192",
   "metadata": {},
   "outputs": [],
   "source": [
    "try:\n",
    "    Prior(\"UnknownDistribution\")\n",
    "except Exception as e:\n",
    "    print(e)"
   ]
  },
  {
   "cell_type": "markdown",
   "id": "d76c8fbd-5a22-408d-af96-c9a0ae712da5",
   "metadata": {},
   "source": [
    "Specific parameters can be passed as **keyword arguments** but are not required if the `PyMC` distribution has defaults."
   ]
  },
  {
   "cell_type": "code",
   "execution_count": null,
   "id": "d12e116e-32f4-4f15-a9ee-4d6a0472590c",
   "metadata": {},
   "outputs": [],
   "source": [
    "scalar_distribution = Prior(\"Normal\", mu=0, sigma=3.5)\n",
    "scalar_distribution"
   ]
  },
  {
   "cell_type": "markdown",
   "id": "3b46a0bd-d178-4afc-9f5e-3dcf19170e7e",
   "metadata": {},
   "source": [
    "There will be a check at initialization against the `PyMC` distribution."
   ]
  },
  {
   "cell_type": "code",
   "execution_count": null,
   "id": "38a7db8f-9cc0-4e5b-8c64-c04415b0f35a",
   "metadata": {},
   "outputs": [],
   "source": [
    "try:\n",
    "    Prior(\"Normal\", mu=0, b=1)\n",
    "except Exception as e:\n",
    "    print(e)"
   ]
  },
  {
   "cell_type": "markdown",
   "id": "e4bb33ab-9045-4701-9daa-eaa3b4b6d80c",
   "metadata": {},
   "source": [
    "However, there are some limitations to that. Take this invalid parameterization below:"
   ]
  },
  {
   "cell_type": "code",
   "execution_count": null,
   "id": "a8dcb6f8-1357-4de4-b5d5-a30ab2c48e5b",
   "metadata": {},
   "outputs": [],
   "source": [
    "invalid_distribution = Prior(\"Normal\", mu=1, sigma=1, tau=2)"
   ]
  },
  {
   "cell_type": "markdown",
   "id": "660cb88e-3693-43fa-819e-866cd06aba81",
   "metadata": {},
   "source": [
    "The `create_variable` method is used to make variables from this distribution and it isn't until then that there is an error."
   ]
  },
  {
   "cell_type": "code",
   "execution_count": null,
   "id": "5e1df586-c4d2-4ac0-9a27-cc3313a0005b",
   "metadata": {},
   "outputs": [],
   "source": [
    "with pm.Model():\n",
    "    try:\n",
    "        invalid_distribution.create_variable(\"mu\")\n",
    "    except Exception as e:\n",
    "        print(e)"
   ]
  },
  {
   "cell_type": "markdown",
   "id": "9db15fc8-86ac-4a4f-94f2-54bbe7e6fc1e",
   "metadata": {},
   "source": [
    "This goes for incorrect values as well!"
   ]
  },
  {
   "cell_type": "code",
   "execution_count": null,
   "id": "bb04847a-0500-4597-9fbe-bb772607d4de",
   "metadata": {},
   "outputs": [],
   "source": [
    "invalid_distribution = Prior(\"Normal\", mu=1, sigma=-1)\n",
    "invalid_distribution"
   ]
  },
  {
   "cell_type": "markdown",
   "id": "5de45592-94fb-4bb8-976f-48edf4244a57",
   "metadata": {},
   "source": [
    "The `dims` parameter are used to express the dimensions of the distribution. This variable is not part of a model so the values are not reflected with the distribution itself."
   ]
  },
  {
   "cell_type": "code",
   "execution_count": null,
   "id": "925e49bf-97f3-4fa8-863e-2655abc65e82",
   "metadata": {},
   "outputs": [],
   "source": [
    "vector_distribution = Prior(\"Normal\", dims=\"channel\")\n",
    "vector_distribution"
   ]
  },
  {
   "cell_type": "markdown",
   "id": "56f329cd-c5fc-44c2-9c27-07d33fe9697c",
   "metadata": {},
   "source": [
    "If there are dimensions, then the coords need to exist in the larger model. But they exist separately and can defined in advance.\n",
    "\n",
    "```{tip}\n",
    "Each `Prior` instance is just instructions to create a variable, so they can be used multiple times!\n",
    "```"
   ]
  },
  {
   "cell_type": "code",
   "execution_count": null,
   "id": "ad58dacf-9f56-47f9-b5ca-6678f27d5856",
   "metadata": {},
   "outputs": [],
   "source": [
    "coords = {\"channel\": [\"C1\", \"C2\"]}\n",
    "with pm.Model(coords=coords) as model:\n",
    "    alpha = vector_distribution.create_variable(\"alpha\")\n",
    "    beta = vector_distribution.create_variable(\"beta\")\n",
    "\n",
    "pm.model_to_graphviz(model)"
   ]
  },
  {
   "cell_type": "markdown",
   "id": "27f9583f-b676-4ac2-85a5-d522815de5e3",
   "metadata": {},
   "source": [
    "If the coords were not specified then this would cause a PyMC error."
   ]
  },
  {
   "cell_type": "code",
   "execution_count": null,
   "id": "76a89202-7f68-4e89-a77a-ae917b1b3573",
   "metadata": {},
   "outputs": [],
   "source": [
    "with pm.Model() as model:\n",
    "    try:\n",
    "        vector_distribution.create_variable(\"var\")\n",
    "    except Exception as e:\n",
    "        print(e)"
   ]
  },
  {
   "cell_type": "markdown",
   "id": "b1000cc0-2087-48b0-a276-f8921f5db750",
   "metadata": {},
   "source": [
    "The variables can get arbitrarily large as well by providing additional dims in a tuple."
   ]
  },
  {
   "cell_type": "code",
   "execution_count": null,
   "id": "26101b33-78b3-47fc-996f-140660efb1c9",
   "metadata": {},
   "outputs": [],
   "source": [
    "matrix_distribution = Prior(\"Normal\", dims=(\"channel\", \"geo\"))\n",
    "matrix_distribution"
   ]
  },
  {
   "cell_type": "code",
   "execution_count": null,
   "id": "d129b86f-80ac-473b-b815-9a7ef733ab5d",
   "metadata": {},
   "outputs": [],
   "source": [
    "tensor_distribution = Prior(\"Normal\", dims=(\"channel\", \"geo\", \"store\"))\n",
    "tensor_distribution"
   ]
  },
  {
   "cell_type": "markdown",
   "id": "15d51049-02e6-42e1-a31c-942a855347fb",
   "metadata": {},
   "source": [
    "### Hierarchical Variables\n",
    "\n",
    "Hierarchical variables can be defined by using distributions as the parameters of another distribution. The parent distributions will usually have a larger dimensionality than each of the parameters."
   ]
  },
  {
   "cell_type": "code",
   "execution_count": null,
   "id": "5620b88f-5137-4f4b-8ffb-f7362deaea85",
   "metadata": {},
   "outputs": [],
   "source": [
    "hierarchical_variable = Prior(\n",
    "    \"Normal\",\n",
    "    mu=Prior(\"Normal\"),\n",
    "    sigma=Prior(\"HalfNormal\"),\n",
    "    dims=\"channel\",\n",
    ")"
   ]
  },
  {
   "cell_type": "markdown",
   "id": "32c14b21-66b0-4948-9804-870c25876cbe",
   "metadata": {},
   "source": [
    "We can use the `to_graph` method to create visualize the variable with dummy coordinates.\n",
    "\n",
    "```{note}\n",
    "No need to worry about variable naming! The child parameters will all be automatically named based on the parent.\n",
    "```"
   ]
  },
  {
   "cell_type": "code",
   "execution_count": null,
   "id": "e830baac-08fd-492a-ae65-0f6aa36debf9",
   "metadata": {},
   "outputs": [],
   "source": [
    "hierarchical_variable.to_graph()"
   ]
  },
  {
   "cell_type": "markdown",
   "id": "b80a4e49-bb8c-4e4d-b533-c00ab150d886",
   "metadata": {},
   "source": [
    "```{warning}\n",
    "The validity of the parameter values will not be checked. \n",
    "```\n",
    "\n",
    "There can be negative sigma parameter in a Normal distribution whether that comes from value or another distribution!"
   ]
  },
  {
   "cell_type": "code",
   "execution_count": null,
   "id": "b82d2483-1064-4014-a0c5-498f95ab6b0d",
   "metadata": {},
   "outputs": [],
   "source": [
    "Prior(\"Normal\", mu=1, sigma=-1)"
   ]
  },
  {
   "cell_type": "code",
   "execution_count": null,
   "id": "3062face-a9c6-446d-8c93-91b99af18059",
   "metadata": {},
   "outputs": [],
   "source": [
    "Prior(\"Normal\", sigma=Prior(\"Normal\"))"
   ]
  },
  {
   "cell_type": "markdown",
   "id": "d0d12fd8-07ef-4fcc-816f-cabd6667c1dc",
   "metadata": {},
   "source": [
    "```{tip}\n",
    "Model reparamterizations can help with model convergence depending on the model posterior!\n",
    "```\n",
    "\n",
    "For Normal distribution, the common non-centered parameterization is supported with the `centered` flag."
   ]
  },
  {
   "cell_type": "code",
   "execution_count": null,
   "id": "81cee492-654b-4bbb-94b7-25bc87f7dca1",
   "metadata": {},
   "outputs": [],
   "source": [
    "non_centered_hierarchical_variable = Prior(\n",
    "    \"Normal\",\n",
    "    mu=Prior(\"Normal\"),\n",
    "    sigma=Prior(\"HalfNormal\"),\n",
    "    dims=\"channel\",\n",
    "    # Flag for non-centered\n",
    "    centered=False,\n",
    ")\n",
    "non_centered_hierarchical_variable.to_graph()"
   ]
  },
  {
   "cell_type": "markdown",
   "id": "003ba849-188c-47ac-98c0-248f5c5a08c3",
   "metadata": {},
   "source": [
    "Other distributions can be hierarchical as well. Just use distributions for parameters of a parent distribution. For instance, the Beta distribution has two positive parameters, `alpha` and `beta` which can be reflect as HalfNormal distributions."
   ]
  },
  {
   "cell_type": "code",
   "execution_count": null,
   "id": "04bf7a16-89a5-4ef7-865e-aab5fe576ca6",
   "metadata": {},
   "outputs": [],
   "source": [
    "zero_to_one_variable = Prior(\n",
    "    \"Beta\",\n",
    "    alpha=Prior(\"HalfNormal\"),\n",
    "    beta=Prior(\"HalfNormal\"),\n",
    "    dims=\"channel\",\n",
    ")\n",
    "zero_to_one_variable.to_graph()"
   ]
  },
  {
   "cell_type": "markdown",
   "id": "485d6608-228c-491b-93ec-0af713508a25",
   "metadata": {},
   "source": [
    "### Transformations\n",
    "\n",
    "The `transform` variable can be used for any of the distributions to change its domain.\n",
    "\n",
    "These transformations will be taken from `pytensor.tensor` or `pm.math` in that order.\n",
    "\n",
    "Below is a non-centered hierarchical Normal distribution that is put through a sigmoid function in order to change the domain to (0, 1)."
   ]
  },
  {
   "cell_type": "code",
   "execution_count": null,
   "id": "33529f87-e8e0-471d-8a09-3c7df6b9dcaa",
   "metadata": {},
   "outputs": [],
   "source": [
    "hierarchical_zero_to_one_distribution = Prior(\n",
    "    \"Normal\",\n",
    "    mu=Prior(\"Normal\"),\n",
    "    sigma=Prior(\"HalfNormal\"),\n",
    "    dims=\"channel\",\n",
    "    centered=False,\n",
    "    transform=\"sigmoid\",\n",
    ")\n",
    "hierarchical_zero_to_one_distribution.to_graph()"
   ]
  },
  {
   "cell_type": "markdown",
   "id": "ee2270a5-2c73-4464-b924-59d01133dc5d",
   "metadata": {},
   "source": [
    "### Prior Visualization\n",
    "\n",
    "For scalar distributions, make use of the `preliz` attribute of the model in order to visualize. \n",
    "\n",
    "```{tip}\n",
    "Defaults for the parameters will have to be provided or there will be an error.\n",
    "```"
   ]
  },
  {
   "cell_type": "code",
   "execution_count": null,
   "id": "68ac9293-3d2c-4797-81ed-a50171c7f384",
   "metadata": {},
   "outputs": [],
   "source": [
    "beta_distribution = Prior(\"Beta\", alpha=1, beta=4)\n",
    "\n",
    "beta_distribution.preliz.plot_pdf();"
   ]
  },
  {
   "cell_type": "markdown",
   "id": "d1a6d281-9646-48e1-ab09-6e9de21e9c11",
   "metadata": {},
   "source": [
    "```{tip}\n",
    "Using the `constrain` method can help hone in on a prior. It is a wrapper around [PreliZ's `maxent` function](https://preliz.readthedocs.io/en/latest/api_reference.html#preliz.unidimensional.maxent).\n",
    "```"
   ]
  },
  {
   "cell_type": "code",
   "execution_count": null,
   "id": "6a02cdb4-9fe9-4eb5-97a3-91fd7abf1835",
   "metadata": {},
   "outputs": [],
   "source": [
    "constrained_distribution = Prior(\"Normal\").constrain(lower=4, upper=6)\n",
    "constrained_distribution"
   ]
  },
  {
   "cell_type": "markdown",
   "id": "07ef8e38",
   "metadata": {},
   "source": [
    "To keep a parameter value fixed, pass it to the Prior instance. In the following example, the mean is fixed at 2. "
   ]
  },
  {
   "cell_type": "code",
   "execution_count": null,
   "id": "59d7fecc",
   "metadata": {},
   "outputs": [],
   "source": [
    "constrained_distribution = Prior(\"Gamma\", mu=2).constrain(lower=1, upper=10)\n",
    "constrained_distribution"
   ]
  },
  {
   "cell_type": "markdown",
   "id": "007646bd-61f4-4a2d-8400-14c36e08f289",
   "metadata": {},
   "source": [
    "For more complicated distributions, consider using the `sample_prior` method in order to access the prior. Or PreliZ's functions like [predictive explorer](https://preliz.readthedocs.io/en/latest/examples/observed_space_examples.html#predictive-explorer).\n",
    "\n",
    "\n",
    "```{note}\n",
    "Any coordinates will have to be passed like in `pm.Model`.\n",
    "```"
   ]
  },
  {
   "cell_type": "code",
   "execution_count": null,
   "id": "8c2b4ea7-c33d-4d86-a7f8-18434bd0a298",
   "metadata": {},
   "outputs": [],
   "source": [
    "complicated_distribution = Prior(\n",
    "    \"Normal\",\n",
    "    mu=Prior(\"Normal\", sigma=1),\n",
    "    sigma=Prior(\"Normal\", mu=-1, sigma=0.15, transform=\"exp\"),\n",
    "    centered=False,\n",
    "    dims=\"channel\",\n",
    "    transform=\"sigmoid\",\n",
    ")\n",
    "\n",
    "coords = {\n",
    "    \"channel\": [\"C1\", \"C2\"],\n",
    "}\n",
    "prior = complicated_distribution.sample_prior(\n",
    "    coords=coords, samples=1_000, random_seed=rng\n",
    ")\n",
    "prior"
   ]
  },
  {
   "cell_type": "markdown",
   "id": "876f6d5e-9131-4077-b7cd-a8e0000d2dea",
   "metadata": {},
   "source": [
    "The prior variables can be visualized in whatever way works best. Here is a KDE of the variables to see the marginal distributions."
   ]
  },
  {
   "cell_type": "code",
   "execution_count": null,
   "id": "e7bd00b8",
   "metadata": {},
   "outputs": [],
   "source": [
    "fig, axes = plt.subplots(\n",
    "    nrows=2, ncols=1, figsize=(10, 9), sharex=True, sharey=True, layout=\"constrained\"\n",
    ")\n",
    "\n",
    "az.plot_posterior(prior, var_names=[\"var\"], grid=(2, 1), ax=axes)\n",
    "fig.suptitle(\"Prior Distribution\", fontsize=18, fontweight=\"bold\");"
   ]
  },
  {
   "cell_type": "markdown",
   "id": "22c8037e-4168-443b-b1b5-150d73dd4129",
   "metadata": {},
   "source": [
    "Use any workflow to make sense of the prior distribution! For instance, the joint distribution which shows these two channels are correlated due to the hierarchical generation."
   ]
  },
  {
   "cell_type": "code",
   "execution_count": null,
   "id": "c9911821-e9c3-4607-b53e-78c086c6a89c",
   "metadata": {},
   "outputs": [],
   "source": [
    "def plot_correlation(df: pd.DataFrame, x: str = \"C1\", y: str = \"C2\") -> plt.Axes:\n",
    "    corr = df.loc[:, [x, y]].corr().iloc[0, 1]\n",
    "    title = f\"Joint distribution between {x} and {y} ({corr = :.3f})\"\n",
    "    return df.plot.scatter(x=x, y=y, title=title)\n",
    "\n",
    "\n",
    "ax = prior[\"var\"].to_series().unstack().pipe(plot_correlation)\n",
    "padding = 0.025\n",
    "bounds = (0 - padding, 1 + padding)\n",
    "ax.set(xlim=bounds, ylim=bounds);"
   ]
  },
  {
   "cell_type": "markdown",
   "id": "90a9d504-6118-4fb9-a21b-7e01d8e5b5e8",
   "metadata": {},
   "source": [
    "### Automatic Broadcasting\n",
    "\n",
    "The broadcasting of the dims will be handled automatically.\n",
    "\n",
    "For instance, the `mu` of the variable needs to be transposed in order to work with `(\"channel\", \"geo\")` dims.\n",
    "\n",
    "With all this functionality, we can see that the prior distributions can become quite expressive!"
   ]
  },
  {
   "cell_type": "code",
   "execution_count": null,
   "id": "078a2501-0e82-4551-b01a-042450e36ddb",
   "metadata": {},
   "outputs": [],
   "source": [
    "def create_2d_variable(mu_dims, sigma_dims) -> Prior:\n",
    "    mu = Prior(\n",
    "        \"Normal\",\n",
    "        mu=Prior(\"Normal\"),\n",
    "        sigma=Prior(\"HalfNormal\"),\n",
    "        dims=mu_dims,\n",
    "    )\n",
    "    sigma = Prior(\n",
    "        \"Normal\",\n",
    "        mu=Prior(\"Normal\"),\n",
    "        sigma=Prior(\"HalfNormal\"),\n",
    "        centered=False,\n",
    "        dims=sigma_dims,\n",
    "        transform=\"exp\",\n",
    "    )\n",
    "    return Prior(\n",
    "        \"Normal\",\n",
    "        mu=mu,\n",
    "        sigma=sigma,\n",
    "        dims=(\"channel\", \"geo\"),\n",
    "    )\n",
    "\n",
    "\n",
    "variable_2d = create_2d_variable(mu_dims=\"channel\", sigma_dims=\"geo\")\n",
    "variable_2d.to_graph()"
   ]
  },
  {
   "cell_type": "markdown",
   "id": "e018082e-23fb-48ab-ac69-e506a8fe9d9b",
   "metadata": {},
   "source": [
    "And the user can spend more time thinking about just the assumptions of the variables rather than logic to ensure the dimensions work."
   ]
  },
  {
   "cell_type": "code",
   "execution_count": null,
   "id": "e0bdf8b8-34b7-4918-8106-2203b7db6152",
   "metadata": {},
   "outputs": [],
   "source": [
    "different_assumptions_2d = create_2d_variable(mu_dims=\"channel\", sigma_dims=\"channel\")\n",
    "\n",
    "different_assumptions_2d.to_graph()"
   ]
  },
  {
   "cell_type": "markdown",
   "id": "6e01638c-5e10-4796-a76b-7fd3b1b1ac3c",
   "metadata": {},
   "source": [
    "### Serialization\n",
    "\n",
    "The `to_json` and `from_json` methods can be helpful for storage of the distributions."
   ]
  },
  {
   "cell_type": "code",
   "execution_count": null,
   "id": "f34d2031-90f1-4c06-a0ab-2f3133cdb9c1",
   "metadata": {},
   "outputs": [],
   "source": [
    "variable_2d_dict = variable_2d.to_json()\n",
    "variable_2d_dict"
   ]
  },
  {
   "cell_type": "code",
   "execution_count": null,
   "id": "cd833a19-ef27-4701-8b8e-a41990bd5a10",
   "metadata": {},
   "outputs": [],
   "source": [
    "Prior.from_json(variable_2d_dict).to_graph()"
   ]
  },
  {
   "cell_type": "markdown",
   "id": "41abb828-e67b-4995-b20c-a83b965493c3",
   "metadata": {},
   "source": [
    "## Use in PyMC-Marketing\n",
    "\n",
    "Distributions will be expressed in this manner throughout the package including but not limited to: \n",
    "\n",
    "- MMM components\n",
    "    - [media transformations](https://www.pymc-marketing.io/en/stable/notebooks/mmm/mmm_components.html#media-transformations)\n",
    " \n",
    "### Backwards compatibility\n",
    "\n",
    "The `from_json` method will create a `Prior` instance from the previous format.\n",
    "\n",
    "For instance, take this previous configuration: "
   ]
  },
  {
   "cell_type": "code",
   "execution_count": null,
   "id": "29e66da3-4fba-4f85-8379-f0d237d45123",
   "metadata": {},
   "outputs": [],
   "source": [
    "old_model_config = {\n",
    "    \"alpha\": {\n",
    "        \"dist\": \"Normal\",\n",
    "        \"kwargs\": {\n",
    "            \"mu\": 0,\n",
    "            \"sigma\": 1,\n",
    "        },\n",
    "    },\n",
    "    \"beta\": {\n",
    "        \"dist\": \"Laplace\",\n",
    "        \"kwargs\": {\n",
    "            \"mu\": 1,\n",
    "            \"b\": 0.5,\n",
    "        },\n",
    "    },\n",
    "}"
   ]
  },
  {
   "cell_type": "markdown",
   "id": "d63987c0-2525-4b12-8415-cd62dd66265f",
   "metadata": {},
   "source": [
    "This can be parsed with the `Prior.from_json` constructor for each key. Much more consise too!"
   ]
  },
  {
   "cell_type": "code",
   "execution_count": null,
   "id": "92413026-9d9a-4424-b236-09f54b254545",
   "metadata": {},
   "outputs": [],
   "source": [
    "new_model_config = {\n",
    "    name: Prior.from_json(key) for name, key in old_model_config.items()\n",
    "}\n",
    "\n",
    "new_model_config"
   ]
  },
  {
   "cell_type": "code",
   "execution_count": null,
   "id": "1636ae9b-452c-4772-8b60-085c9b044154",
   "metadata": {},
   "outputs": [],
   "source": [
    "new_model_config[\"alpha\"].to_json()"
   ]
  },
  {
   "cell_type": "markdown",
   "id": "01370c37-2e03-46bc-98c5-fcd8bae1b8e7",
   "metadata": {},
   "source": [
    "The `parse_model_config` function will do just this and is used internally. It also provides some deprecation warnings."
   ]
  },
  {
   "cell_type": "code",
   "execution_count": null,
   "id": "54e8e716-b2c9-4019-8620-2616f9783576",
   "metadata": {},
   "outputs": [],
   "source": [
    "parse_model_config(old_model_config)"
   ]
  },
  {
   "cell_type": "markdown",
   "id": "9839e1c3-5026-405e-a019-09a20eaac6a1",
   "metadata": {},
   "source": [
    "As well as the ability to catch some errors while parsing."
   ]
  },
  {
   "cell_type": "code",
   "execution_count": null,
   "id": "00f9e291-3b8f-4457-8451-4b1fb0d0acbb",
   "metadata": {},
   "outputs": [],
   "source": [
    "invalid_model_config = {\n",
    "    \"alpha\": {\n",
    "        \"dist\": \"InvalidDistribution\",\n",
    "    },\n",
    "    \"beta\": {\n",
    "        \"dist\": \"Normal\",\n",
    "        \"kwargs\": {\"mu\": \"one\", \"sigma\": \"two\"},\n",
    "    },\n",
    "    \"gamma\": {\n",
    "        \"dist\": \"HalfNormal\",\n",
    "        \"kwargs\": {\"mu\": 1},\n",
    "    },\n",
    "}\n",
    "\n",
    "try:\n",
    "    parse_model_config(invalid_model_config)\n",
    "except ModelConfigError as e:\n",
    "    print(e)"
   ]
  },
  {
   "cell_type": "markdown",
   "id": "edad3ab9",
   "metadata": {},
   "source": [
    "## Appendix: Validation\n",
    "\n",
    "Behind the scenes, the `Prior` class uses th `validate_call` from [`Pydantic`](https://docs.pydantic.dev/latest/concepts/validators/) to ensure that the parameters are valid.`"
   ]
  },
  {
   "cell_type": "code",
   "execution_count": null,
   "id": "2d9eeb00",
   "metadata": {},
   "outputs": [],
   "source": [
    "try:\n",
    "    Prior()\n",
    "except Exception as e:\n",
    "    print(e)"
   ]
  },
  {
   "cell_type": "code",
   "execution_count": null,
   "id": "b6f909da",
   "metadata": {},
   "outputs": [],
   "source": [
    "try:\n",
    "    Prior(1)\n",
    "except Exception as e:\n",
    "    print(e)"
   ]
  },
  {
   "cell_type": "code",
   "execution_count": null,
   "id": "818f52e3-7d53-4b62-afd0-4331b1849509",
   "metadata": {},
   "outputs": [],
   "source": [
    "%load_ext watermark\n",
    "%watermark -n -u -v -iv -w -p pymc_marketing,pytensor"
   ]
  }
 ],
 "metadata": {
  "kernelspec": {
   "display_name": "Python 3 (ipykernel)",
   "language": "python",
   "name": "python3"
  },
  "language_info": {
   "codemirror_mode": {
    "name": "ipython",
    "version": 3
   },
   "file_extension": ".py",
   "mimetype": "text/x-python",
   "name": "python",
   "nbconvert_exporter": "python",
   "pygments_lexer": "ipython3",
   "version": "3.11.5"
  }
 },
 "nbformat": 4,
 "nbformat_minor": 5
}
