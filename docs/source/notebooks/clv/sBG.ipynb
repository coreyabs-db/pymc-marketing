{
 "cells": [
  {
   "cell_type": "markdown",
   "id": "83b05792",
   "metadata": {},
   "source": [
    "# Shifted Beta Geometric model with individual customer data"
   ]
  },
  {
   "cell_type": "markdown",
   "id": "3913b9b2",
   "metadata": {},
   "source": [
    "In this notebook we replicate the main results and figures from \n",
    "\n",
    "Fader, P. S., & Hardie, B. G. (2007). How to project customer retention. Journal of Interactive Marketing, 21(1), 76-90. https://journals.sagepub.com/doi/pdf/10.1002/dir.20074\n",
    "\n",
    "The authors describe the Shifted Beta Geometric (sBG) model for customer behavior in a discrete contractual setting. It assumes that:\n",
    "  * At the end of each period, a customer has a probability `theta` of renewing the contract\n",
    "    and `1-theta` of cancelling\n",
    "  * The probability `theta` does not change over time for a given customer\n",
    "  * The probability `theta` varies across customers according to a Beta prior distribution\n",
    "    with hyperparameters `alpha` and `beta`."
   ]
  },
  {
   "cell_type": "code",
   "execution_count": null,
   "id": "5a4844d3",
   "metadata": {},
   "outputs": [],
   "source": [
    "import arviz as az\n",
    "import matplotlib.pyplot as plt\n",
    "import numpy as np\n",
    "import pandas as pd\n",
    "import xarray as xr\n",
    "\n",
    "from pymc_marketing import clv\n",
    "\n",
    "# Plotting configuration\n",
    "az.style.use(\"arviz-darkgrid\")\n",
    "plt.rcParams[\"figure.figsize\"] = [12, 7]\n",
    "plt.rcParams[\"figure.dpi\"] = 100\n",
    "plt.rcParams[\"figure.facecolor\"] = \"white\"\n",
    "\n",
    "%load_ext autoreload\n",
    "%autoreload 2\n",
    "%config InlineBackend.figure_format = \"retina\""
   ]
  },
  {
   "cell_type": "code",
   "execution_count": null,
   "id": "256cdb7c-2b20-47bd-88f4-31151753abea",
   "metadata": {},
   "outputs": [],
   "source": [
    "seed = sum(map(ord, \"Individual sBG Model\"))\n",
    "rng = np.random.default_rng(seed)"
   ]
  },
  {
   "cell_type": "markdown",
   "id": "928b7701",
   "metadata": {},
   "source": [
    "## Recreating the dataset"
   ]
  },
  {
   "cell_type": "markdown",
   "id": "8b54f141",
   "metadata": {},
   "source": [
    "The dataset contains the percentage of customers still enrolled in the service after each time period. There are two distinct groups of users: regular and high-end, believed to have different attrition rates. Each group had 1000 customers at the start.\n",
    "\n",
    "As in the original paper, we will fit the data from the first 7 time periods only, and use the following periods for validation."
   ]
  },
  {
   "cell_type": "code",
   "execution_count": null,
   "id": "fa6b1dae",
   "metadata": {},
   "outputs": [],
   "source": [
    "df = pd.DataFrame(\n",
    "    {\n",
    "        \"regular\": [\n",
    "            100.0,\n",
    "            63.1,\n",
    "            46.8,\n",
    "            38.2,\n",
    "            32.6,\n",
    "            28.9,\n",
    "            26.2,\n",
    "            24.1,\n",
    "            22.3,\n",
    "            20.7,\n",
    "            19.4,\n",
    "            18.3,\n",
    "            17.3,\n",
    "        ],\n",
    "        \"highend\": [\n",
    "            100.0,\n",
    "            86.9,\n",
    "            74.3,\n",
    "            65.3,\n",
    "            59.3,\n",
    "            55.1,\n",
    "            51.7,\n",
    "            49.1,\n",
    "            46.8,\n",
    "            44.5,\n",
    "            42.7,\n",
    "            40.9,\n",
    "            39.4,\n",
    "        ],\n",
    "    }\n",
    ")\n",
    "df"
   ]
  },
  {
   "cell_type": "markdown",
   "id": "4208bfb6",
   "metadata": {},
   "source": [
    "The implemented pymc-marketing model fits each individual `theta`, \n",
    "in contrast to the paper approach where the inidividual parameters are marginalized out.\n",
    "\n",
    "For our analysis we wil have to create a synthetic dataset with individual data, following the aggregate group trends."
   ]
  },
  {
   "cell_type": "code",
   "execution_count": null,
   "id": "9c8b6292",
   "metadata": {},
   "outputs": [],
   "source": [
    "def individual_data_from_percentage_alive(percentage_alive, initial_customers):\n",
    "    n_alive = np.asarray(percentage_alive / 100 * initial_customers, dtype=int)\n",
    "\n",
    "    died_at = np.zeros((initial_customers,), dtype=int)\n",
    "    counter = 0\n",
    "    for t, diff in enumerate((n_alive[:-1] - n_alive[1:]), start=1):\n",
    "        died_at[counter : counter + diff] = t\n",
    "        counter += diff\n",
    "\n",
    "    censoring_t = t + 1\n",
    "    died_at[counter:] = censoring_t\n",
    "\n",
    "    return died_at"
   ]
  },
  {
   "cell_type": "code",
   "execution_count": null,
   "id": "ac8a4ec2",
   "metadata": {},
   "outputs": [],
   "source": [
    "T = 8  # In the paper only the first 7 years are included in the model\n",
    "\n",
    "truncated_df = df[:T]\n",
    "initial_customers = 1000  # Seems to be what F&H use, according to Appendix B\n",
    "churn_highend = individual_data_from_percentage_alive(\n",
    "    truncated_df[\"highend\"], initial_customers\n",
    ")\n",
    "churn_regular = individual_data_from_percentage_alive(\n",
    "    truncated_df[\"regular\"], initial_customers\n",
    ")\n",
    "churn_regular[::10]"
   ]
  },
  {
   "cell_type": "markdown",
   "id": "df41d457",
   "metadata": {},
   "source": [
    "Customers which haven't churned have `t_churn == T == 8`. \n",
    "The model will handle these differently, as their lifetimes are [censored](https://en.wikipedia.org/wiki/Censoring_(statistics))."
   ]
  },
  {
   "cell_type": "markdown",
   "id": "64f004e9",
   "metadata": {},
   "source": [
    "## Fitting the sBG models for high end and regular users"
   ]
  },
  {
   "cell_type": "code",
   "execution_count": null,
   "id": "b4465019",
   "metadata": {},
   "outputs": [],
   "source": [
    "dataset_highend = pd.DataFrame(\n",
    "    {\n",
    "        \"customer_id\": np.arange(initial_customers),\n",
    "        \"t_churn\": churn_highend,\n",
    "        \"T\": T,\n",
    "    }\n",
    ")"
   ]
  },
  {
   "cell_type": "code",
   "execution_count": null,
   "id": "c6b57694",
   "metadata": {},
   "outputs": [],
   "source": [
    "highend_users = clv.ShiftedBetaGeoModelIndividual(data=dataset_highend)\n",
    "highend_users.build_model()\n",
    "highend_users"
   ]
  },
  {
   "cell_type": "code",
   "execution_count": null,
   "id": "27a69d38",
   "metadata": {},
   "outputs": [],
   "source": [
    "dataset_regular = pd.DataFrame(\n",
    "    {\n",
    "        \"customer_id\": np.arange(initial_customers),\n",
    "        \"t_churn\": churn_regular,\n",
    "        \"T\": T,\n",
    "    }\n",
    ")"
   ]
  },
  {
   "cell_type": "code",
   "execution_count": null,
   "id": "658b7f32",
   "metadata": {},
   "outputs": [],
   "source": [
    "regular_users = clv.ShiftedBetaGeoModelIndividual(data=dataset_regular)\n",
    "regular_users.build_model()\n",
    "regular_users"
   ]
  },
  {
   "cell_type": "code",
   "execution_count": null,
   "id": "90456dbd",
   "metadata": {},
   "outputs": [],
   "source": [
    "highend_users.fit(random_seed=rng)\n",
    "regular_users.fit(random_seed=rng);"
   ]
  },
  {
   "cell_type": "markdown",
   "id": "312d0d57",
   "metadata": {},
   "source": [
    "## Contrasting posterior inferences with the repo MLE estimates"
   ]
  },
  {
   "cell_type": "markdown",
   "id": "51acb3c4",
   "metadata": {},
   "source": [
    "The sBG model has 2 population parameters of interest: `alpha` and `beta`. \n",
    "These parameters define the population distribution of the individual customer's churn rates `theta`. \n",
    "The larger the values of `alpha` and `beta` the more homogenous the churn rates are across different customers. \n",
    "\n",
    "The ratio of `alpha` to `beta` tells us the expected churn rates. If `alpha/beta == 0.1`, we expect the average customer to have a `0.1` probability of churning between each time period."
   ]
  },
  {
   "cell_type": "code",
   "execution_count": null,
   "id": "cc8e73aa",
   "metadata": {},
   "outputs": [],
   "source": [
    "# MLE estimates from the paper\n",
    "ref_val = {\n",
    "    \"highend\": [0.704, 3.806],\n",
    "    \"regular\": [0.688, 1.182],\n",
    "}"
   ]
  },
  {
   "cell_type": "code",
   "execution_count": null,
   "id": "bf0939d9",
   "metadata": {},
   "outputs": [],
   "source": [
    "highend_users.fit_summary(var_names=[\"alpha\", \"beta\"])"
   ]
  },
  {
   "cell_type": "code",
   "execution_count": null,
   "id": "3d8d4a64",
   "metadata": {},
   "outputs": [],
   "source": [
    "az.plot_posterior(\n",
    "    highend_users.fit_result, var_names=[\"alpha\", \"beta\"], ref_val=ref_val[\"highend\"]\n",
    ");"
   ]
  },
  {
   "cell_type": "code",
   "execution_count": null,
   "id": "da731d08",
   "metadata": {},
   "outputs": [],
   "source": [
    "regular_users.fit_summary(var_names=[\"alpha\", \"beta\"])"
   ]
  },
  {
   "cell_type": "code",
   "execution_count": null,
   "id": "94b7c6c2",
   "metadata": {},
   "outputs": [],
   "source": [
    "az.plot_posterior(\n",
    "    regular_users.fit_result, var_names=[\"alpha\", \"beta\"], ref_val=ref_val[\"regular\"]\n",
    ");"
   ]
  },
  {
   "cell_type": "markdown",
   "id": "d25d118c",
   "metadata": {},
   "source": [
    "The model fitting agrees with the Maximum Likelihood estimates described in the original paper.\n",
    "In addition, MCMC sampling, gives us useful information about the uncertainty of the fits."
   ]
  },
  {
   "cell_type": "markdown",
   "id": "61849a13",
   "metadata": {},
   "source": [
    "## Recreating main results and figures from the paper"
   ]
  },
  {
   "cell_type": "markdown",
   "id": "edfaee99",
   "metadata": {},
   "source": [
    "Figure 6 from the paper shows the group distribution of `theta` churn rates. \n",
    "\n",
    "The inferred distributions are relatively wide in both groups, which follows directly from the fact that both `alpha` and `beta` were inferred to be < 10.\n",
    "\n",
    "It is still clear that the distribution of `theta` for the highend users has much more mass near lower values,\n",
    "suggesting highend users have lower attrition rates on average, when compared with regular users."
   ]
  },
  {
   "cell_type": "code",
   "execution_count": null,
   "id": "642abe8e",
   "metadata": {},
   "outputs": [],
   "source": [
    "new_highend_theta = highend_users.distribution_new_customer_theta(\n",
    "    n=100, random_seed=rng\n",
    ")\n",
    "new_regular_theta = regular_users.distribution_new_customer_theta(\n",
    "    n=100, random_seed=rng\n",
    ");"
   ]
  },
  {
   "cell_type": "code",
   "execution_count": null,
   "id": "de01e40f",
   "metadata": {},
   "outputs": [],
   "source": [
    "ax = az.plot_dist(new_highend_theta, label=\"highend\")\n",
    "ax = az.plot_dist(new_regular_theta, label=\"regular\", ax=ax, color=\"C1\")\n",
    "ax.set_xlabel(\"theta\")\n",
    "plt.ylim([0, 4])\n",
    "ax.set_title(\"Figure 6\");"
   ]
  },
  {
   "cell_type": "markdown",
   "id": "0434200c",
   "metadata": {},
   "source": [
    "Figures 4 and 5 show the predicted average churn and retention trends for the two groups.\n",
    "We can see that predictions nicely match the observed data (black line), even when extrapolating into the time periods that were held-out when fitting the model.\n",
    "\n",
    "The plots also highlight an interesting implication from the model: \n",
    "the retention rates are expected to increase over time, as the more precarious customers gradually drop out. This is a direct consequence of modelling individual churn rates as being fixed over time."
   ]
  },
  {
   "cell_type": "code",
   "execution_count": null,
   "id": "d1df4e07",
   "metadata": {},
   "outputs": [],
   "source": [
    "churn_highend = highend_users.distribution_customer_churn_time(\n",
    "    customer_id=np.arange(initial_customers),\n",
    "    random_seed=rng,\n",
    ")\n",
    "churn_regular = regular_users.distribution_customer_churn_time(\n",
    "    customer_id=np.arange(initial_customers),\n",
    "    random_seed=rng,\n",
    ")"
   ]
  },
  {
   "cell_type": "code",
   "execution_count": null,
   "id": "5ec83e3c",
   "metadata": {},
   "outputs": [],
   "source": [
    "weeks = xr.DataArray(np.arange(1, 14), dims=[\"weeks\"])\n",
    "\n",
    "survival_perc_highend = 100 - 100 * (churn_highend < weeks)\n",
    "survival_perc_regular = 100 - 100 * (churn_regular < weeks)"
   ]
  },
  {
   "cell_type": "code",
   "execution_count": null,
   "id": "10031f3e",
   "metadata": {},
   "outputs": [],
   "source": [
    "az.plot_hdi(\n",
    "    weeks,\n",
    "    survival_perc_highend.mean(\"customer_id\"),\n",
    "    hdi_prob=0.95,\n",
    "    color=\"C0\",\n",
    "    fill_kwargs={\"label\": \"high end\"},\n",
    ")\n",
    "az.plot_hdi(\n",
    "    weeks,\n",
    "    survival_perc_regular.mean(\"customer_id\"),\n",
    "    hdi_prob=0.95,\n",
    "    color=\"C1\",\n",
    "    fill_kwargs={\"label\": \"regular\"},\n",
    ")\n",
    "\n",
    "plt.plot(weeks, df[\"highend\"], color=\"k\", label=\"observed\")\n",
    "plt.plot(weeks, df[\"regular\"], color=\"k\")\n",
    "\n",
    "plt.axvline(7, ls=\":\", color=\"k\")\n",
    "plt.ylim([0, 105])\n",
    "plt.ylabel(\"% Surviving\")\n",
    "plt.legend()\n",
    "plt.title(\"Figure 4\");"
   ]
  },
  {
   "cell_type": "code",
   "execution_count": null,
   "id": "c95e138a",
   "metadata": {},
   "outputs": [],
   "source": [
    "retention_rate_highend = survival_perc_highend.isel(\n",
    "    weeks=slice(1, None, None)\n",
    ") / survival_perc_highend.isel(weeks=slice(None, -1, None))\n",
    "retention_rate_regular = survival_perc_regular.isel(\n",
    "    weeks=slice(1, None, None)\n",
    ") / survival_perc_regular.isel(weeks=slice(None, -1, None))\n",
    "\n",
    "retention_rate_highend_obs = df[\"highend\"][1:].values / df[\"highend\"][:-1].values\n",
    "retention_rate_regular_obs = df[\"regular\"][1:].values / df[\"regular\"][:-1].values"
   ]
  },
  {
   "cell_type": "code",
   "execution_count": null,
   "id": "ba4327f6",
   "metadata": {},
   "outputs": [],
   "source": [
    "weeks_ = weeks[:-1]\n",
    "\n",
    "az.plot_hdi(\n",
    "    weeks_,\n",
    "    retention_rate_highend.mean(\"customer_id\"),\n",
    "    hdi_prob=0.95,\n",
    "    color=\"C0\",\n",
    "    fill_kwargs={\"label\": \"high end\"},\n",
    ")\n",
    "az.plot_hdi(\n",
    "    weeks_,\n",
    "    retention_rate_regular.mean(\"customer_id\"),\n",
    "    hdi_prob=0.95,\n",
    "    color=\"C1\",\n",
    "    fill_kwargs={\"label\": \"regular\"},\n",
    ")\n",
    "\n",
    "plt.plot(weeks_, retention_rate_highend_obs, color=\"k\", label=\"observed\")\n",
    "plt.plot(weeks_, retention_rate_regular_obs, color=\"k\")\n",
    "\n",
    "plt.axvline(7, ls=\"--\", color=\"k\")\n",
    "plt.ylim([0.5, 1.05])\n",
    "plt.ylabel(\"Retention Rate\")\n",
    "plt.legend()\n",
    "plt.title(\"Figure 5\");"
   ]
  },
  {
   "cell_type": "code",
   "execution_count": null,
   "id": "76930173",
   "metadata": {},
   "outputs": [],
   "source": [
    "%load_ext watermark\n",
    "%watermark -n -u -v -iv -w -p pymc,pytensor"
   ]
  }
 ],
 "metadata": {
  "hide_input": false,
  "kernelspec": {
   "display_name": "Python 3 (ipykernel)",
   "language": "python",
   "name": "python3"
  },
  "language_info": {
   "codemirror_mode": {
    "name": "ipython",
    "version": 3
   },
   "file_extension": ".py",
   "mimetype": "text/x-python",
   "name": "python",
   "nbconvert_exporter": "python",
   "pygments_lexer": "ipython3",
   "version": "3.10.14"
  },
  "toc": {
   "base_numbering": 1,
   "nav_menu": {},
   "number_sections": true,
   "sideBar": true,
   "skip_h1_title": false,
   "title_cell": "Table of Contents",
   "title_sidebar": "Contents",
   "toc_cell": false,
   "toc_position": {},
   "toc_section_display": true,
   "toc_window_display": false
  },
  "varInspector": {
   "cols": {
    "lenName": 16,
    "lenType": 16,
    "lenVar": 40
   },
   "kernels_config": {
    "python": {
     "delete_cmd_postfix": "",
     "delete_cmd_prefix": "del ",
     "library": "var_list.py",
     "varRefreshCmd": "print(var_dic_list())"
    },
    "r": {
     "delete_cmd_postfix": ") ",
     "delete_cmd_prefix": "rm(",
     "library": "var_list.r",
     "varRefreshCmd": "cat(var_dic_list()) "
    }
   },
   "types_to_exclude": [
    "module",
    "function",
    "builtin_function_or_method",
    "instance",
    "_Feature"
   ],
   "window_display": false
  }
 },
 "nbformat": 4,
 "nbformat_minor": 5
}
