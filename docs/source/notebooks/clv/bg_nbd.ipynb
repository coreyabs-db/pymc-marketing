{
 "cells": [
  {
   "cell_type": "markdown",
   "id": "51e3591e",
   "metadata": {},
   "source": [
    "# BG/NBD Model\n",
    "\n",
    "In this notebook we show how to fit a BG/NBD model in PyMC-Marketing. We compare the results with the [`lifetimes`](https://github.com/CamDavidsonPilon/lifetimes) package (no longer maintained). The model is presented in the paper: Fader, P. S., Hardie, B. G., & Lee, K. L. (2005). [“Counting your customers” the easy way: An alternative to the Pareto/NBD model. Marketing science, 24(2), 275-284.](http://www.brucehardie.com/papers/bgnbd_2004-04-20.pdf)"
   ]
  },
  {
   "cell_type": "markdown",
   "id": "68f7ba7e",
   "metadata": {},
   "source": [
    "## Prepare Notebook"
   ]
  },
  {
   "cell_type": "code",
   "execution_count": null,
   "id": "81c950fb",
   "metadata": {},
   "outputs": [],
   "source": [
    "import arviz as az\n",
    "import matplotlib.pyplot as plt\n",
    "import pandas as pd\n",
    "import xarray as xr\n",
    "from fastprogress.fastprogress import progress_bar\n",
    "from lifetimes import BetaGeoFitter\n",
    "\n",
    "from pymc_marketing import clv\n",
    "\n",
    "# Plotting configuration\n",
    "az.style.use(\"arviz-darkgrid\")\n",
    "plt.rcParams[\"figure.figsize\"] = [12, 7]\n",
    "plt.rcParams[\"figure.dpi\"] = 100\n",
    "plt.rcParams[\"figure.facecolor\"] = \"white\"\n",
    "\n",
    "%load_ext autoreload\n",
    "%autoreload 2\n",
    "%config InlineBackend.figure_format = \"retina\""
   ]
  },
  {
   "cell_type": "markdown",
   "id": "6e4b3b25",
   "metadata": {},
   "source": [
    "## Read Data\n",
    "\n",
    "We use the `CDNOW` dataset (see lifetimes [quick-start](https://lifetimes.readthedocs.io/en/latest/Quickstart.html))."
   ]
  },
  {
   "cell_type": "code",
   "execution_count": null,
   "id": "a99638b5",
   "metadata": {},
   "outputs": [],
   "source": [
    "data_path = \"https://raw.githubusercontent.com/pymc-labs/pymc-marketing/main/data/clv_quickstart.csv\"\n",
    "\n",
    "df = pd.read_csv(data_path)\n",
    "\n",
    "df.head()"
   ]
  },
  {
   "cell_type": "markdown",
   "id": "35cc830b",
   "metadata": {},
   "source": [
    "Recall from the `lifetimes` documentation the following definitions:\n",
    "\n",
    "> - `frequency` represents the number of repeat purchases the customer has made. This means that it’s one less than the total number of purchases. This is actually slightly wrong. It’s the count of time periods the customer had a purchase in. So if using days as units, then it’s the count of days the customer had a purchase on.\n",
    "> - `T` represents the age of the customer in whatever time units chosen (weekly, in the above dataset). This is equal to the duration between a customer’s first purchase and the end of the period under study.\n",
    "> - `recency` represents the age of the customer when they made their most recent purchases. This is equal to the duration between a customer’s first purchase and their latest purchase. (Thus if they have made only 1 purchase, the recency is 0.)"
   ]
  },
  {
   "cell_type": "markdown",
   "id": "192738eb",
   "metadata": {},
   "source": [
    "```{tip}\n",
    "We rename the index column to `customer_id` as this is required by the model\n",
    "```"
   ]
  },
  {
   "cell_type": "code",
   "execution_count": null,
   "id": "6eb810b4",
   "metadata": {},
   "outputs": [],
   "source": [
    "data = (\n",
    "    df.reset_index()\n",
    "    .rename(columns={\"index\": \"customer_id\"})\n",
    "    .drop(columns=\"monetary_value\")\n",
    ")"
   ]
  },
  {
   "cell_type": "markdown",
   "id": "91cb4b6f",
   "metadata": {},
   "source": [
    "## Model Specification\n",
    "\n",
    "The BG/NBD model is a probabilistic model that describes the buying behavior of a customer in the non-contractual setting. It is based on the following assumptions for each customer:\n",
    "\n",
    "### Frequency Process\n",
    "\n",
    "1. While active, the time between transactions is distributed exponential with transaction rate, i.e., \n",
    "\n",
    "    $$f(t_{j}|t_{j-1}; \\lambda) = \\lambda \\exp(-\\lambda (t_{j} - t_{j - 1})), \\quad t_{j} \\geq t_{j - 1} \\geq 0$$ \n",
    "\n",
    "2. Heterogeneity in $\\lambda$ follows a gamma distribution with pdf\n",
    "\n",
    "    $$f(\\lambda|r, \\alpha) = \\frac{\\alpha^{r}\\lambda^{r - 1}\\exp(-\\lambda \\alpha)}{\\Gamma(r)}, \\quad \\lambda  > 0$$\n",
    "\n",
    "### Dropout Process\n",
    "\n",
    "3. After any transaction, a customer becomes inactive with probability $p$.\n",
    "\n",
    "4. Heterogeneity in $p$ follows a beta distribution with pdf\n",
    "\n",
    "    $$f(p|a, b) = \\frac{\\Gamma(a + b)}{\\Gamma(a) \\Gamma(b)} p^{a - 1}(1 - p)^{b - 1}, \\quad 0 \\leq p \\leq 1$$\n",
    "\n",
    "5. The transaction rate $\\lambda$ and the dropout probability $p$ vary independently across customers.\n",
    "\n",
    "Instead of estimating $\\lambda$ and $p$ for each specific customer, we do it for a randomly chosen customer, i.e. we work with the expected values of the parameters. Hence, we are interesting in finding the posterior distribution of the parameters $r$, $\\alpha$, $a$, and $b$."
   ]
  },
  {
   "cell_type": "markdown",
   "id": "6183c040",
   "metadata": {},
   "source": [
    "## Model Fitting\n",
    "\n",
    "Estimating such parameters is very easy in PyMC-Marketing. We instantiate the model in a similar way:"
   ]
  },
  {
   "cell_type": "code",
   "execution_count": null,
   "id": "13835b98",
   "metadata": {},
   "outputs": [],
   "source": [
    "model_mcmc = clv.BetaGeoModel(data=data)"
   ]
  },
  {
   "cell_type": "markdown",
   "id": "efb17e6b",
   "metadata": {},
   "source": [
    "We can *build* the model so that we can see the model specification:"
   ]
  },
  {
   "cell_type": "code",
   "execution_count": null,
   "id": "36acdf94",
   "metadata": {},
   "outputs": [],
   "source": [
    "model_mcmc.build_model()\n",
    "print(model_mcmc)"
   ]
  },
  {
   "cell_type": "markdown",
   "id": "07ab143f",
   "metadata": {},
   "source": [
    "We can now fit the model. The default sampler in PyMC-Marketing is the No-U-Turn Sampler (NUTS). We use the default $4$ chains and $1000$ draws per chain."
   ]
  },
  {
   "cell_type": "markdown",
   "id": "c2130e31",
   "metadata": {},
   "source": [
    "```{note}\n",
    "It is not necessary to build the model before fitting it. We can fit the model directly.\n",
    "```"
   ]
  },
  {
   "cell_type": "code",
   "execution_count": null,
   "id": "d23e4726",
   "metadata": {},
   "outputs": [],
   "source": [
    "sample_kwargs = {\n",
    "    \"draws\": 2_000,\n",
    "    \"chains\": 4,\n",
    "    \"target_accept\": 0.9,\n",
    "    \"random_seed\": 42,\n",
    "}\n",
    "\n",
    "idata_mcmc = model_mcmc.fit(**sample_kwargs)"
   ]
  },
  {
   "cell_type": "code",
   "execution_count": null,
   "id": "f677d6c3",
   "metadata": {},
   "outputs": [],
   "source": [
    "idata_mcmc"
   ]
  },
  {
   "cell_type": "markdown",
   "id": "bb34fe6a",
   "metadata": {},
   "source": [
    "We can look into the summary table:"
   ]
  },
  {
   "cell_type": "code",
   "execution_count": null,
   "id": "d2ac4ed8",
   "metadata": {},
   "outputs": [],
   "source": [
    "model_mcmc.fit_summary()"
   ]
  },
  {
   "cell_type": "markdown",
   "id": "ef632c94",
   "metadata": {},
   "source": [
    "We see that the `r_hat` values are close to $1$, which indicates convergence. \n",
    "\n",
    "We can also plot posterior distributions of the parameters and the rank plots:"
   ]
  },
  {
   "cell_type": "code",
   "execution_count": null,
   "id": "c741f7a9",
   "metadata": {},
   "outputs": [],
   "source": [
    "axes = az.plot_trace(\n",
    "    data=model_mcmc.idata,\n",
    "    compact=True,\n",
    "    kind=\"rank_bars\",\n",
    "    backend_kwargs={\"figsize\": (12, 9), \"layout\": \"constrained\"},\n",
    ")\n",
    "plt.gcf().suptitle(\"BG/NBD Model Trace\", fontsize=18, fontweight=\"bold\");"
   ]
  },
  {
   "cell_type": "markdown",
   "id": "32e840aa",
   "metadata": {},
   "source": [
    "### Using MAP fit\n",
    "\n",
    "CLV models such as `BetaGeoModel`, can provide the maximum a posteriori estimates using a numerical optimizer (`L-BFGS-B`) from `scipy.optimize` under the hood."
   ]
  },
  {
   "cell_type": "code",
   "execution_count": null,
   "id": "a1fd1538",
   "metadata": {},
   "outputs": [],
   "source": [
    "model_map = clv.BetaGeoModel(data=data)\n",
    "idata_map = model_map.fit(fit_method=\"map\")"
   ]
  },
  {
   "cell_type": "code",
   "execution_count": null,
   "id": "c3d3eb19",
   "metadata": {},
   "outputs": [],
   "source": [
    "idata_map"
   ]
  },
  {
   "cell_type": "markdown",
   "id": "89beb37c",
   "metadata": {},
   "source": [
    "This time we get point estimates for the parameters."
   ]
  },
  {
   "cell_type": "code",
   "execution_count": null,
   "id": "aff35563",
   "metadata": {},
   "outputs": [],
   "source": [
    "map_summary = model_map.fit_summary()\n",
    "\n",
    "map_summary"
   ]
  },
  {
   "cell_type": "markdown",
   "id": "a32a086c",
   "metadata": {},
   "source": [
    "## Comparing with the `lifetimes` package\n",
    "\n",
    "For the sake of comparison, we also fit the model using the `lifetimes` package."
   ]
  },
  {
   "cell_type": "code",
   "execution_count": null,
   "id": "18f89d63",
   "metadata": {},
   "outputs": [],
   "source": [
    "bgf = BetaGeoFitter()\n",
    "bgf.fit(\n",
    "    frequency=data[\"frequency\"].values,\n",
    "    recency=data[\"recency\"].values,\n",
    "    T=data[\"T\"].values,\n",
    ")\n",
    "\n",
    "bgf.summary"
   ]
  },
  {
   "cell_type": "code",
   "execution_count": null,
   "id": "6a1d034e",
   "metadata": {
    "tags": [
     "hide-input"
    ]
   },
   "outputs": [],
   "source": [
    "fig, axes = plt.subplots(\n",
    "    nrows=2, ncols=2, figsize=(12, 9), sharex=False, sharey=False, layout=\"constrained\"\n",
    ")\n",
    "\n",
    "axes = axes.flatten()\n",
    "\n",
    "for i, var_name in enumerate([\"r\", \"alpha\", \"a\", \"b\"]):\n",
    "    ax = axes[i]\n",
    "    az.plot_posterior(\n",
    "        model_mcmc.idata.posterior[var_name].values.flatten(),\n",
    "        color=\"C0\",\n",
    "        point_estimate=\"mean\",\n",
    "        ax=ax,\n",
    "        label=\"MCMC\",\n",
    "    )\n",
    "    ax.axvline(x=map_summary[var_name], color=\"C1\", linestyle=\"--\", label=\"MAP\")\n",
    "    ax.axvline(\n",
    "        x=bgf.summary[\"coef\"][var_name], color=\"C2\", linestyle=\"--\", label=\"lifetimes\"\n",
    "    )\n",
    "    ax.legend(loc=\"upper right\")\n",
    "    ax.set_title(var_name)\n",
    "\n",
    "plt.gcf().suptitle(\"BG/NBD Model Parameters\", fontsize=18, fontweight=\"bold\");"
   ]
  },
  {
   "cell_type": "markdown",
   "id": "393969db",
   "metadata": {},
   "source": [
    "## Some Applications\n",
    "\n",
    "Now that you have fitted the model, we can use it to make predictions. For example, we can predict the expected probability of a customer being alive as a function of time (steps). Here is a snippet of code to do that:"
   ]
  },
  {
   "cell_type": "markdown",
   "id": "a1c538d0",
   "metadata": {},
   "source": [
    "### Expected Number of Purchases"
   ]
  },
  {
   "cell_type": "markdown",
   "id": "0cfd1f3e",
   "metadata": {},
   "source": [
    "Let us take a sample of users:"
   ]
  },
  {
   "cell_type": "code",
   "execution_count": null,
   "id": "74a66344",
   "metadata": {},
   "outputs": [],
   "source": [
    "example_customer_ids = [1, 6, 10, 18, 45, 1412]\n",
    "\n",
    "data_small = data.query(\"customer_id.isin(@example_customer_ids)\")\n",
    "\n",
    "data_small.head(6)"
   ]
  },
  {
   "cell_type": "markdown",
   "id": "5c807a24",
   "metadata": {},
   "source": [
    "Observe that the last two customers are *frequent buyers* as compared to the others."
   ]
  },
  {
   "cell_type": "code",
   "execution_count": null,
   "id": "3d0363d6",
   "metadata": {},
   "outputs": [],
   "source": [
    "steps = 90\n",
    "\n",
    "expected_num_purchases_steps = xr.concat(\n",
    "    objs=[\n",
    "        model_mcmc.expected_purchases(\n",
    "            data=data_small,\n",
    "            future_t=t,\n",
    "        )\n",
    "        for t in progress_bar(range(steps))\n",
    "    ],\n",
    "    dim=\"t\",\n",
    ").transpose(..., \"t\")"
   ]
  },
  {
   "cell_type": "markdown",
   "id": "77d8b442",
   "metadata": {},
   "source": [
    "We can plot the expected number of purchases for the next $90$ periods:"
   ]
  },
  {
   "cell_type": "code",
   "execution_count": null,
   "id": "a544c6fa",
   "metadata": {
    "tags": [
     "hide-input"
    ]
   },
   "outputs": [],
   "source": [
    "fig, axes = plt.subplots(\n",
    "    nrows=len(example_customer_ids),\n",
    "    ncols=1,\n",
    "    figsize=(12, 15),\n",
    "    sharex=True,\n",
    "    sharey=True,\n",
    "    layout=\"constrained\",\n",
    ")\n",
    "\n",
    "axes = axes.flatten()\n",
    "\n",
    "for i, customer_id in enumerate(example_customer_ids):\n",
    "    ax = axes[i]\n",
    "    customer_expected_num_purchases_steps = expected_num_purchases_steps.sel(\n",
    "        customer_id=customer_id\n",
    "    )\n",
    "    az.plot_hdi(\n",
    "        range(steps),\n",
    "        customer_expected_num_purchases_steps,\n",
    "        hdi_prob=0.94,\n",
    "        color=\"C0\",\n",
    "        fill_kwargs={\"alpha\": 0.3, \"label\": \"$94 \\\\%$ HDI\"},\n",
    "        ax=ax,\n",
    "    )\n",
    "    az.plot_hdi(\n",
    "        range(steps),\n",
    "        customer_expected_num_purchases_steps,\n",
    "        hdi_prob=0.5,\n",
    "        color=\"C0\",\n",
    "        fill_kwargs={\"alpha\": 0.5, \"label\": \"$50 \\\\%$ HDI\"},\n",
    "        ax=ax,\n",
    "    )\n",
    "    ax.plot(\n",
    "        range(steps),\n",
    "        customer_expected_num_purchases_steps.mean(dim=(\"chain\", \"draw\")),\n",
    "        color=\"C0\",\n",
    "        label=\"posterior mean\",\n",
    "    )\n",
    "    ax.legend(loc=\"upper left\")\n",
    "    ax.set(title=f\"Customer {customer_id}\", xlabel=\"t\", ylabel=\"purchases\")\n",
    "\n",
    "axes[-1].set(xlabel=\"steps\")\n",
    "plt.gcf().suptitle(\"Expected Number of Purchases\", fontsize=18, fontweight=\"bold\");"
   ]
  },
  {
   "cell_type": "markdown",
   "id": "b39b64d9",
   "metadata": {},
   "source": [
    "Note that the *frequent buyers* are expected to make more purchases in the future."
   ]
  },
  {
   "cell_type": "markdown",
   "id": "b708252c",
   "metadata": {},
   "source": [
    "### Probability of a Customer Being Alive\n",
    "\n",
    "We now look into the probability of a customer being alive for the next $90$ periods:"
   ]
  },
  {
   "cell_type": "code",
   "execution_count": null,
   "id": "6cc94438",
   "metadata": {},
   "outputs": [],
   "source": [
    "steps = 90\n",
    "\n",
    "future_alive_all = []\n",
    "\n",
    "for t in progress_bar(range(steps)):\n",
    "    future_data = data_small.copy()\n",
    "    future_data[\"T\"] = future_data[\"T\"] + t\n",
    "    future_alive = model_mcmc.expected_probability_alive(data=future_data)\n",
    "    future_alive_all.append(future_alive)\n",
    "\n",
    "expected_probability_alive_steps = xr.concat(\n",
    "    objs=future_alive_all,\n",
    "    dim=\"t\",\n",
    ").transpose(..., \"t\")"
   ]
  },
  {
   "cell_type": "code",
   "execution_count": null,
   "id": "d6c4f03f",
   "metadata": {
    "tags": [
     "hide-input"
    ]
   },
   "outputs": [],
   "source": [
    "fig, axes = plt.subplots(\n",
    "    nrows=len(example_customer_ids),\n",
    "    ncols=1,\n",
    "    figsize=(12, 15),\n",
    "    sharex=True,\n",
    "    sharey=True,\n",
    "    layout=\"constrained\",\n",
    ")\n",
    "\n",
    "axes = axes.flatten()\n",
    "\n",
    "for i, customer_id in enumerate(example_customer_ids):\n",
    "    ax = axes[i]\n",
    "    customer_expected_probability_alive_steps = expected_probability_alive_steps.sel(\n",
    "        customer_id=customer_id\n",
    "    )\n",
    "    az.plot_hdi(\n",
    "        range(steps),\n",
    "        customer_expected_probability_alive_steps,\n",
    "        hdi_prob=0.94,\n",
    "        color=\"C1\",\n",
    "        fill_kwargs={\"alpha\": 0.3, \"label\": \"$94 \\\\%$ HDI\"},\n",
    "        ax=ax,\n",
    "    )\n",
    "    az.plot_hdi(\n",
    "        range(steps),\n",
    "        customer_expected_probability_alive_steps,\n",
    "        hdi_prob=0.5,\n",
    "        color=\"C1\",\n",
    "        fill_kwargs={\"alpha\": 0.5, \"label\": \"$50 \\\\%$ HDI\"},\n",
    "        ax=ax,\n",
    "    )\n",
    "    ax.plot(\n",
    "        range(steps),\n",
    "        customer_expected_probability_alive_steps.mean(dim=(\"chain\", \"draw\")),\n",
    "        color=\"C1\",\n",
    "        label=\"posterior mean\",\n",
    "    )\n",
    "    ax.legend(loc=\"upper right\")\n",
    "    ax.set(title=f\"Customer {customer_id}\", ylabel=\"probability alive\", ylim=(0, 1))\n",
    "\n",
    "axes[-1].set(xlabel=\"steps\")\n",
    "plt.gcf().suptitle(\n",
    "    \"Expected Probability Alive over Time\", fontsize=18, fontweight=\"bold\"\n",
    ");"
   ]
  },
  {
   "cell_type": "markdown",
   "id": "bb966f1a",
   "metadata": {},
   "source": [
    "```{tip}\n",
    "Here are some general remarks:\n",
    "- **It's important to remark these plots assume no future purchases.**\n",
    "- The decay probability is not the same as it depends in the purchase history of the customer. \n",
    "- The probability of being alive is always decreasing as we are assuming there is no change in the other parameters. \n",
    "- These probabilities are always non-negative, as expected.\n",
    "```\n",
    "\n",
    "```{warning}\n",
    "For the frequent buyers, the probability of being alive drops very fast as we are assuming no future purchases. It is very important to keep this in mind when interpreting the results.\n",
    "```"
   ]
  },
  {
   "cell_type": "markdown",
   "id": "0b58b022-5a7f-472a-b442-25ce3e37ff64",
   "metadata": {},
   "source": [
    "### Probability of a Customer Making Zero Purchases in a time range\n",
    "\n",
    "We now look into the probability of a customer making 0 purchases between now, and the next $t$ periods between 0 and 30."
   ]
  },
  {
   "cell_type": "code",
   "execution_count": null,
   "id": "5f64a20a-1a76-45c3-9deb-b1cbe81f8a81",
   "metadata": {},
   "outputs": [],
   "source": [
    "steps = 30\n",
    "expected_probability_zero_purchases = xr.concat(\n",
    "    objs=[\n",
    "        model_mcmc.expected_probability_no_purchase(\n",
    "            data=data_small,\n",
    "            t=t,\n",
    "        )\n",
    "        for t in progress_bar(range(steps))\n",
    "    ],\n",
    "    dim=\"t\",\n",
    ").transpose(..., \"t\")"
   ]
  },
  {
   "cell_type": "code",
   "execution_count": null,
   "id": "c1ddd450-e394-475b-ac82-2faad635b3d6",
   "metadata": {},
   "outputs": [],
   "source": [
    "fig, axes = plt.subplots(\n",
    "    nrows=len(example_customer_ids),\n",
    "    ncols=1,\n",
    "    figsize=(12, 15),\n",
    "    sharex=True,\n",
    "    sharey=True,\n",
    "    layout=\"constrained\",\n",
    ")\n",
    "\n",
    "axes = axes.flatten()\n",
    "\n",
    "for i, customer_id in enumerate(example_customer_ids):\n",
    "    ax = axes[i]\n",
    "    customer_expected_probability_zero_purchases = (\n",
    "        expected_probability_zero_purchases.sel(customer_id=customer_id)\n",
    "    )\n",
    "    az.plot_hdi(\n",
    "        range(steps),\n",
    "        customer_expected_probability_zero_purchases,\n",
    "        hdi_prob=0.94,\n",
    "        color=\"C1\",\n",
    "        fill_kwargs={\"alpha\": 0.3, \"label\": \"$94 \\\\%$ HDI\"},\n",
    "        ax=ax,\n",
    "    )\n",
    "    az.plot_hdi(\n",
    "        range(steps),\n",
    "        customer_expected_probability_zero_purchases,\n",
    "        hdi_prob=0.5,\n",
    "        color=\"C1\",\n",
    "        fill_kwargs={\"alpha\": 0.5, \"label\": \"$50 \\\\%$ HDI\"},\n",
    "        ax=ax,\n",
    "    )\n",
    "    ax.plot(\n",
    "        range(steps),\n",
    "        customer_expected_probability_zero_purchases.mean(dim=(\"chain\", \"draw\")),\n",
    "        color=\"C1\",\n",
    "        label=\"posterior mean\",\n",
    "    )\n",
    "    ax.legend(loc=\"upper right\")\n",
    "    ax.set(title=f\"Customer {customer_id}\", ylabel=\"Probability\", ylim=(0, 1))\n",
    "\n",
    "axes[-1].set(xlabel=\"steps\")\n",
    "plt.gcf().suptitle(\n",
    "    \"Expected Probability Zero Purchases between $(T, T+t]$.\",\n",
    "    fontsize=18,\n",
    "    fontweight=\"bold\",\n",
    ");"
   ]
  },
  {
   "cell_type": "code",
   "execution_count": null,
   "id": "96a32f2b",
   "metadata": {},
   "outputs": [],
   "source": [
    "%reload_ext watermark\n",
    "%watermark -n -u -v -iv -w -p pymc,pytensor"
   ]
  },
  {
   "cell_type": "code",
   "execution_count": null,
   "id": "6d9640c8-665b-425b-85f3-d6ed1ebe7a24",
   "metadata": {},
   "outputs": [],
   "source": []
  }
 ],
 "metadata": {
  "hide_input": false,
  "kernelspec": {
   "display_name": "Python 3 (ipykernel)",
   "language": "python",
   "name": "python3"
  },
  "language_info": {
   "codemirror_mode": {
    "name": "ipython",
    "version": 3
   },
   "file_extension": ".py",
   "mimetype": "text/x-python",
   "name": "python",
   "nbconvert_exporter": "python",
   "pygments_lexer": "ipython3",
   "version": "3.10.15"
  },
  "toc": {
   "base_numbering": 1,
   "nav_menu": {},
   "number_sections": true,
   "sideBar": true,
   "skip_h1_title": false,
   "title_cell": "Table of Contents",
   "title_sidebar": "Contents",
   "toc_cell": false,
   "toc_position": {},
   "toc_section_display": true,
   "toc_window_display": false
  }
 },
 "nbformat": 4,
 "nbformat_minor": 5
}
