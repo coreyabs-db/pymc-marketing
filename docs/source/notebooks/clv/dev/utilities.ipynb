{
 "cells": [
  {
   "cell_type": "code",
   "execution_count": null,
   "id": "435ed203-5c3c-4efc-93d1-abac66ce7187",
   "metadata": {},
   "outputs": [],
   "source": [
    "import numpy as np\n",
    "import pandas as pd\n",
    "from pymc_marketing.clv import utils\n",
    "from pymc_marketing.clv import ParetoNBDModel\n",
    "from pymc_marketing.prior import Prior"
   ]
  },
  {
   "cell_type": "code",
   "execution_count": null,
   "id": "171d78a3-9fed-4758-93ac-90bc5d7d8709",
   "metadata": {},
   "outputs": [],
   "source": [
    "import pytensor\n",
    "\n",
    "#set flag to fix open issue\n",
    "pytensor.config.cxx = '/usr/bin/clang++'"
   ]
  },
  {
   "cell_type": "markdown",
   "id": "ce561a65-e600-42de-84b6-f3c683729fff",
   "metadata": {},
   "source": [
    "Create a simple dataset for testing:"
   ]
  },
  {
   "cell_type": "code",
   "execution_count": null,
   "id": "7de7f396-1d5b-4457-916b-c29ed90aa132",
   "metadata": {},
   "outputs": [],
   "source": [
    "d = [\n",
    "    [1, \"2015-01-01\", 1],\n",
    "    [1, \"2015-02-06\", 2],\n",
    "    [2, \"2015-01-01\", 2],\n",
    "    [3, \"2015-01-01\", 3],\n",
    "    [3, \"2015-01-02\", 1],\n",
    "    [3, \"2015-01-05\", 5],\n",
    "    [4, \"2015-01-16\", 6],\n",
    "    [4, \"2015-02-02\", 3],\n",
    "    [4, \"2015-02-05\", 3],\n",
    "    [4, \"2015-02-05\", 2],\n",
    "    [5, \"2015-01-16\", 3],\n",
    "    [5, \"2015-01-17\", 1],\n",
    "    [5, \"2015-01-18\", 8],\n",
    "    [6, \"2015-02-02\", 5],\n",
    "]\n",
    "test_data = pd.DataFrame(d, columns=[\"id\", \"date\", \"monetary_value\"])"
   ]
  },
  {
   "cell_type": "markdown",
   "id": "b089a2be-2c3e-4dd1-b96d-ee7c0bd02250",
   "metadata": {},
   "source": [
    "Note customer 4 made two purchases on 2015-02-05. \n",
    "\n",
    "`_find_first_transactions` flags the first purchase each customer has made, which must be excluded for modeling. It is called internally by `rfm_summary`."
   ]
  },
  {
   "cell_type": "code",
   "execution_count": null,
   "id": "932e8db6-78cf-49df-aa4a-83ee6584e5dd",
   "metadata": {},
   "outputs": [],
   "source": [
    "utils._find_first_transactions(\n",
    "    transactions=test_data, \n",
    "    customer_id_col = \"id\", \n",
    "    datetime_col = \"date\",\n",
    "    #monetary_value_col = \"monetary_value\", \n",
    "    #datetime_format = \"%Y%m%d\",\n",
    ").reindex()"
   ]
  },
  {
   "cell_type": "markdown",
   "id": "cd77dcbe-6990-4784-9960-9fc2b52e90f0",
   "metadata": {},
   "source": [
    "Notice how **9** is missing from the dataframe index. Multiple transactions in the same time period are treated as a single purchase, so the indices for those additional transactions are skipped. \n",
    "\n",
    "`rfm_summary` is the primary data preprocessing step for CLV modeling in the continuous, non-contractual domain:"
   ]
  },
  {
   "cell_type": "code",
   "execution_count": null,
   "id": "4c0a7de5-8825-40af-84e5-6cd0ad26a0e3",
   "metadata": {},
   "outputs": [],
   "source": [
    "rfm_df = utils.rfm_summary(\n",
    "    test_data, \n",
    "    customer_id_col = \"id\", \n",
    "    datetime_col = \"date\", \n",
    "    monetary_value_col = \"monetary_value\",\n",
    "    observation_period_end = \"2015-02-06\",\n",
    "    datetime_format = \"%Y-%m-%d\",\n",
    "    time_unit = \"W\",\n",
    "    include_first_transaction=True,\n",
    ")\n",
    "\n",
    "rfm_df.head()"
   ]
  },
  {
   "cell_type": "markdown",
   "id": "aa8a6479-04fd-48ec-a34a-817b6fdff93c",
   "metadata": {},
   "source": [
    "For MAP fits and covariate models, `rfm_train_test_split` can be used to evaluate models on unseen data. It is also useful for identifying the impact of a time-based event like a marketing campaign."
   ]
  },
  {
   "cell_type": "code",
   "execution_count": null,
   "id": "761edfe9-1b69-4966-83bf-4f1242eda2d5",
   "metadata": {},
   "outputs": [],
   "source": [
    "train_test = utils.rfm_train_test_split(\n",
    "    test_data, \n",
    "    customer_id_col = \"id\", \n",
    "    datetime_col = \"date\", \n",
    "    train_period_end = \"2015-02-01\",\n",
    "    monetary_value_col = \"monetary_value\",\n",
    ")\n",
    "\n",
    "train_test.head()"
   ]
  },
  {
   "cell_type": "markdown",
   "id": "73dc1b93-6a4f-4171-b838-30759b2c1e0e",
   "metadata": {},
   "source": [
    "`rfm_segments` will assign customer to segments based on their recency, frequency, and monetary value. It uses a quartile-based RFM score approach that is very computationally efficient, but defining custom segments is a rather subjective exercise. The returned dataframe also cannot be used for modeling because it does not zero out the initial transactions."
   ]
  },
  {
   "cell_type": "code",
   "execution_count": null,
   "id": "b6930f37-088e-4eeb-b096-689105ddc4ea",
   "metadata": {},
   "outputs": [],
   "source": [
    "segments = utils.rfm_segments(\n",
    "    test_data, \n",
    "    customer_id_col = \"id\", \n",
    "    datetime_col = \"date\", \n",
    "    monetary_value_col = \"monetary_value\",\n",
    "    observation_period_end = \"2015-02-06\",\n",
    "    datetime_format = \"%Y-%m-%d\",\n",
    "    time_unit = \"W\",\n",
    ")"
   ]
  },
  {
   "cell_type": "markdown",
   "id": "509f8d13-de5b-4a24-a468-a757888088f1",
   "metadata": {},
   "source": [
    "`_expected_cumulative_transactions` is a utility function for creating cumulative plots over time:"
   ]
  },
  {
   "cell_type": "code",
   "execution_count": null,
   "id": "b320a25b-b449-4c28-ac36-4a9ca573403a",
   "metadata": {},
   "outputs": [],
   "source": [
    "url_cdnow = \"https://raw.githubusercontent.com/pymc-labs/pymc-marketing/main/data/cdnow_transactions.csv\"\n",
    "raw_trans = pd.read_csv(url_cdnow)\n",
    "\n",
    "rfm_data = utils.rfm_summary(\n",
    "    raw_trans, \n",
    "    customer_id_col = \"id\", \n",
    "    datetime_col = \"date\", \n",
    "    datetime_format = \"%Y%m%d\",\n",
    "    time_unit = \"W\",\n",
    "    observation_period_end = \"19970930\",\n",
    "    #time_scaler = 7,\n",
    ")\n",
    "\n",
    "model_config = {\n",
    "    \"r_prior\": Prior(\"HalfFlat\"),\n",
    "    \"alpha_prior\": Prior(\"HalfFlat\"),\n",
    "    \"s_prior\": Prior(\"HalfFlat\"),\n",
    "    \"beta_prior\": Prior(\"HalfFlat\"),\n",
    "}\n",
    "\n",
    "pnbd = ParetoNBDModel(data=rfm_data,model_config=model_config)\n",
    "\n",
    "pnbd.fit()\n",
    "\n",
    "df_cum = utils._expected_cumulative_transactions(\n",
    "    model=pnbd,\n",
    "    transactions=raw_trans,\n",
    "    customer_id_col=\"id\",\n",
    "    datetime_col=\"date\",\n",
    "    t=25*7,\n",
    "    datetime_format=\"%Y%m%d\",\n",
    "    time_unit=\"W\",\n",
    "    set_index_date=True,\n",
    ")\n",
    "\n",
    "df_cum.info()"
   ]
  },
  {
   "cell_type": "code",
   "execution_count": null,
   "id": "7d7ee672-4418-4e4c-ab59-53c75ecf78d7",
   "metadata": {},
   "outputs": [],
   "source": [
    "df_cum"
   ]
  }
 ],
 "metadata": {
  "kernelspec": {
   "display_name": "Python 3 (ipykernel)",
   "language": "python",
   "name": "python3"
  },
  "language_info": {
   "codemirror_mode": {
    "name": "ipython",
    "version": 3
   },
   "file_extension": ".py",
   "mimetype": "text/x-python",
   "name": "python",
   "nbconvert_exporter": "python",
   "pygments_lexer": "ipython3",
   "version": "3.10.14"
  }
 },
 "nbformat": 4,
 "nbformat_minor": 5
}
