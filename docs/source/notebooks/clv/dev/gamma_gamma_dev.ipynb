{
 "cells": [
  {
   "cell_type": "markdown",
   "id": "d9de8716",
   "metadata": {
    "colab_type": "text",
    "id": "view-in-github"
   },
   "source": [
    "# Developer Gamma-gamma model PyMC implementation"
   ]
  },
  {
   "cell_type": "markdown",
   "id": "0e85a61d",
   "metadata": {},
   "source": [
    "**Reference**:Fader, P. S., & Hardie, B. G. (2013). The Gamma-Gamma model of monetary value. February, 2, 1-9.\n",
    "\n",
    "http://www.brucehardie.com/notes/025/gamma_gamma.pdf"
   ]
  },
  {
   "cell_type": "code",
   "execution_count": null,
   "id": "745a9531",
   "metadata": {
    "id": "d1736bce"
   },
   "outputs": [],
   "source": [
    "import arviz as az\n",
    "import matplotlib.pyplot as plt\n",
    "import numpy as np\n",
    "import pandas as pd\n",
    "import pymc as pm\n",
    "import pytensor.tensor as pt\n",
    "import seaborn as sns"
   ]
  },
  {
   "cell_type": "code",
   "execution_count": null,
   "id": "b9df0827",
   "metadata": {},
   "outputs": [],
   "source": [
    "from pymc_marketing import clv"
   ]
  },
  {
   "cell_type": "markdown",
   "id": "b4e9df33",
   "metadata": {},
   "source": [
    "## Simulate data"
   ]
  },
  {
   "cell_type": "code",
   "execution_count": null,
   "id": "bae5c34c",
   "metadata": {
    "id": "a374e74d"
   },
   "outputs": [],
   "source": [
    "rng = np.random.default_rng(42)\n",
    "\n",
    "# Hyperparameters\n",
    "p_true = 6.\n",
    "q_true = 4.\n",
    "v_true = 15.\n",
    "\n",
    "# Number of subjects\n",
    "N = 500  \n",
    "# Subject level parameters\n",
    "nu_true = pm.draw(pm.Gamma.dist(q_true, v_true, size=N), random_seed=rng)\n",
    "\n",
    "# Number of observations per subject\n",
    "x = rng.poisson(lam=2, size=N) + 1  \n",
    "idx = np.repeat(np.arange(0, N), x)\n",
    "# Observations\n",
    "z = pm.draw(pm.Gamma.dist(p_true, nu_true[idx]), random_seed=rng)"
   ]
  },
  {
   "cell_type": "code",
   "execution_count": null,
   "id": "7e511391",
   "metadata": {
    "colab": {
     "base_uri": "https://localhost:8080/"
    },
    "id": "a0dbb204",
    "outputId": "743601c8-48c5-46a7-993f-4bd19f083ea7"
   },
   "outputs": [],
   "source": [
    "print(sum(x))\n",
    "assert len(nu_true[idx]) == sum(x)"
   ]
  },
  {
   "cell_type": "code",
   "execution_count": null,
   "id": "12dbdd88",
   "metadata": {},
   "outputs": [],
   "source": [
    "plt.hist(z, bins=50, ec=\"w\")\n",
    "plt.xlabel(\"transaction value\")\n",
    "plt.ylabel(\"counts\")\n",
    "plt.title(\"Simulated data\");"
   ]
  },
  {
   "cell_type": "code",
   "execution_count": null,
   "id": "de3285f2",
   "metadata": {
    "colab": {
     "base_uri": "https://localhost:8080/"
    },
    "id": "4b87a31a",
    "outputId": "bd406a13-8e04-4206-dca8-4a63204fc234"
   },
   "outputs": [],
   "source": [
    "df = pd.DataFrame(data={\"z\": z, \"id\": idx})\n",
    "z_mean = df.groupby(\"id\").mean()[\"z\"].values\n",
    "z_mean[:10]"
   ]
  },
  {
   "cell_type": "markdown",
   "id": "4ff387fd",
   "metadata": {
    "id": "a2z_ZcC74wPI"
   },
   "source": [
    "## PyMMMC implementation"
   ]
  },
  {
   "cell_type": "markdown",
   "id": "d153908d",
   "metadata": {},
   "source": [
    "We can use the pre-built PyMMMC implementation of the Gamma-Gamma model, which also provides nice ploting and prediction methods"
   ]
  },
  {
   "cell_type": "markdown",
   "id": "0052cffd",
   "metadata": {},
   "source": [
    "### Using individual transactions 𝑧"
   ]
  },
  {
   "cell_type": "code",
   "execution_count": null,
   "id": "c6c912da",
   "metadata": {
    "id": "eoQmmIrj43NV"
   },
   "outputs": [],
   "source": [
    "model = clv.GammaGammaModelIndividual(customer_id=idx, individual_transaction_value=z)"
   ]
  },
  {
   "cell_type": "code",
   "execution_count": null,
   "id": "fdbcb6ae",
   "metadata": {},
   "outputs": [],
   "source": [
    "model"
   ]
  },
  {
   "cell_type": "code",
   "execution_count": null,
   "id": "ed88b572",
   "metadata": {},
   "outputs": [],
   "source": [
    "model.fit(random_seed=rng)"
   ]
  },
  {
   "cell_type": "code",
   "execution_count": null,
   "id": "9b6ecd8c",
   "metadata": {},
   "outputs": [],
   "source": [
    "az.plot_posterior(model.fit_result, var_names=[\"p\", \"q\", \"v\"], ref_val=[p_true, q_true, v_true]);"
   ]
  },
  {
   "cell_type": "code",
   "execution_count": null,
   "id": "4aad8c38",
   "metadata": {},
   "outputs": [],
   "source": [
    "expected_spend = model.expected_customer_spend(\n",
    "    customer_id=idx,\n",
    "    individual_transaction_value=z,\n",
    ").stack(sample=(\"draw\", \"chain\"))"
   ]
  },
  {
   "cell_type": "code",
   "execution_count": null,
   "id": "f31739aa",
   "metadata": {},
   "outputs": [],
   "source": [
    "# Choose 10 lowest, median and 10 highest spending clients\n",
    "selected_idxs = np.argsort(nu_true)[::-1][[10, 250, -10]]\n",
    "selected_idxs"
   ]
  },
  {
   "cell_type": "code",
   "execution_count": null,
   "id": "0b876dbc",
   "metadata": {},
   "outputs": [],
   "source": [
    "sns.kdeplot(expected_spend.sel(customer_id=selected_idxs[0]), fill=True, label=\"low spending client\")\n",
    "sns.kdeplot(expected_spend.sel(customer_id=selected_idxs[1]), fill=True, label=\"median spending client\")\n",
    "sns.kdeplot(expected_spend.sel(customer_id=selected_idxs[2]), fill=True, label=\"high spending client\")\n",
    "plt.axvline(expected_spend.mean(), color=\"k\", ls=\"--\", label=\"mean\")\n",
    "plt.legend();"
   ]
  },
  {
   "cell_type": "code",
   "execution_count": null,
   "id": "bb63ea2f",
   "metadata": {},
   "outputs": [],
   "source": [
    "new_spend = model.expected_new_customer_spend().stack(sample=(\"chain\", \"draw\"))"
   ]
  },
  {
   "cell_type": "code",
   "execution_count": null,
   "id": "e6b3cbce",
   "metadata": {},
   "outputs": [],
   "source": [
    "sns.kdeplot(new_spend.isel(new_customer_id=0), fill=True, label=\"high spending client\")\n",
    "plt.axvline(new_spend.mean(), color=\"k\", ls=\"--\", label=\"mean\")\n",
    "plt.legend();"
   ]
  },
  {
   "cell_type": "markdown",
   "id": "b990937f",
   "metadata": {},
   "source": [
    "### Using average transactions per user $\\overline{z}$"
   ]
  },
  {
   "cell_type": "code",
   "execution_count": null,
   "id": "ceab9d79",
   "metadata": {},
   "outputs": [],
   "source": [
    "model = clv.GammaGammaModel(\n",
    "    customer_id=idx,\n",
    "    mean_transaction_value=z_mean,\n",
    "    frequency=x,\n",
    ")\n",
    "model"
   ]
  },
  {
   "cell_type": "code",
   "execution_count": null,
   "id": "3ef00d5d",
   "metadata": {},
   "outputs": [],
   "source": [
    "model.fit(random_seed=rng)"
   ]
  },
  {
   "cell_type": "code",
   "execution_count": null,
   "id": "0fa4a09a",
   "metadata": {},
   "outputs": [],
   "source": [
    "az.plot_posterior(model.fit_result, var_names=[\"p\", \"q\", \"v\"], ref_val=[p_true, q_true, v_true]);"
   ]
  },
  {
   "cell_type": "code",
   "execution_count": null,
   "id": "87e08ddf",
   "metadata": {},
   "outputs": [],
   "source": [
    "expected_spend = model.expected_customer_spend(\n",
    "    customer_id=idx,\n",
    "    mean_transaction_value=z_mean,\n",
    "    frequency=x,\n",
    ").stack(sample=(\"draw\", \"chain\"))"
   ]
  },
  {
   "cell_type": "code",
   "execution_count": null,
   "id": "b41ec7a1",
   "metadata": {},
   "outputs": [],
   "source": [
    "sns.kdeplot(expected_spend.sel(customer_id=selected_idxs[0]), fill=True, label=\"low spending client\")\n",
    "sns.kdeplot(expected_spend.sel(customer_id=selected_idxs[1]), fill=True, label=\"median spending client\")\n",
    "sns.kdeplot(expected_spend.sel(customer_id=selected_idxs[2]), fill=True, label=\"high spending client\")\n",
    "plt.axvline(expected_spend.mean(), color=\"k\", ls=\"--\", label=\"mean\")\n",
    "plt.legend();"
   ]
  },
  {
   "cell_type": "code",
   "execution_count": null,
   "id": "5778d42e",
   "metadata": {},
   "outputs": [],
   "source": [
    "new_spend = model.expected_new_customer_spend().stack(sample=(\"chain\", \"draw\"))"
   ]
  },
  {
   "cell_type": "code",
   "execution_count": null,
   "id": "573e3867",
   "metadata": {},
   "outputs": [],
   "source": [
    "sns.kdeplot(new_spend.isel(new_customer_id=0), fill=True, label=\"high spending client\")\n",
    "plt.axvline(new_spend.mean(), color=\"k\", ls=\"--\", label=\"mean\")\n",
    "plt.legend();"
   ]
  },
  {
   "cell_type": "markdown",
   "id": "e09e9f4e",
   "metadata": {},
   "source": [
    "## Manual PyMC implementations"
   ]
  },
  {
   "cell_type": "markdown",
   "id": "bd328263",
   "metadata": {},
   "source": [
    "We show how the Gamma-Gamma model can be implemented by hand using PyMC. This clarifies how the model can be modified or extended to include more prior information or additional structure."
   ]
  },
  {
   "cell_type": "markdown",
   "id": "dbf08044",
   "metadata": {
    "id": "9uOgRCbkrzI5"
   },
   "source": [
    "### Gamma-Gamma model conditioned on individual transactions $z$"
   ]
  },
  {
   "cell_type": "code",
   "execution_count": null,
   "id": "0e2cec5d",
   "metadata": {
    "colab": {
     "base_uri": "https://localhost:8080/",
     "height": 57
    },
    "id": "b9cbe9f6",
    "outputId": "7a6bfcd7-d29c-4ae7-aad6-334ab2d72143"
   },
   "outputs": [],
   "source": [
    "with pm.Model() as m1:\n",
    "    p = pm.HalfFlat(\"p\")\n",
    "    q = pm.HalfFlat(\"q\")\n",
    "    v = pm.HalfFlat(\"v\")\n",
    "    \n",
    "    nu = pm.Gamma(\"nu\", q, v, size=N)\n",
    "    pm.Gamma(\"z\", p, nu[idx], observed=z)\n",
    "\n",
    "    pm.Deterministic(\"mean_spend\", p / nu)\n",
    "    \n",
    "    trace1 = pm.sample(random_seed=rng)"
   ]
  },
  {
   "cell_type": "code",
   "execution_count": null,
   "id": "50641733",
   "metadata": {
    "colab": {
     "base_uri": "https://localhost:8080/",
     "height": 143
    },
    "id": "e551477e",
    "outputId": "ec2b4c6c-a5eb-4776-f722-55b044c5d5cb"
   },
   "outputs": [],
   "source": [
    "az.summary(trace1, var_names=[\"p\", \"q\", \"v\"])"
   ]
  },
  {
   "cell_type": "code",
   "execution_count": null,
   "id": "b80b7192",
   "metadata": {
    "colab": {
     "base_uri": "https://localhost:8080/",
     "height": 319
    },
    "id": "457f526d",
    "outputId": "ba9c8f99-11a8-4c9f-ef1b-018eb42f763b"
   },
   "outputs": [],
   "source": [
    "az.plot_posterior(trace1, var_names=[\"p\", \"q\", \"v\"], ref_val=[p_true, q_true, v_true]);"
   ]
  },
  {
   "cell_type": "markdown",
   "id": "306dae0f",
   "metadata": {
    "id": "32ab5e06"
   },
   "source": [
    "### Gamma-gamma model conditioned on average transactions per user $\\overline{z}$"
   ]
  },
  {
   "cell_type": "markdown",
   "id": "4b1280c0",
   "metadata": {},
   "source": [
    "This fails to sample because the model contains \"nearly\" two independent parameters per observation. For more details check this [Discourse topic](https://discourse.pymc.io/t/gamma-model-sampling-much-worse-when-observation-summaries-are-used-instead-of-individual-observations/10444)"
   ]
  },
  {
   "cell_type": "code",
   "execution_count": null,
   "id": "d9b70be6",
   "metadata": {
    "colab": {
     "base_uri": "https://localhost:8080/",
     "height": 57
    },
    "id": "6f904e35",
    "outputId": "a55a6ce9-6591-486b-caa9-664b8802bb67"
   },
   "outputs": [],
   "source": [
    "with pm.Model() as m2:\n",
    "    p = pm.HalfFlat(\"p\")\n",
    "    q = pm.HalfFlat(\"q\")\n",
    "    v = pm.HalfFlat(\"v\")\n",
    "\n",
    "    nu = pm.Gamma(\"nu\", q, v, size=N)\n",
    "    # We use the convolution properties of the gamma distribution to model\n",
    "    # the mean of multiple transaction using the parameters of individual\n",
    "    # transactions\n",
    "    pm.Gamma(\"z_mean\", p*x, nu*x, observed=z_mean)\n",
    "    \n",
    "    trace2 = pm.sample(random_seed=rng)"
   ]
  },
  {
   "cell_type": "code",
   "execution_count": null,
   "id": "3c5a3391",
   "metadata": {
    "colab": {
     "base_uri": "https://localhost:8080/",
     "height": 143
    },
    "id": "fb5bb98b",
    "outputId": "fd178187-8065-4b78-bd32-d812b96cbfe6"
   },
   "outputs": [],
   "source": [
    "az.summary(trace2, var_names=[\"p\", \"q\", \"v\"])"
   ]
  },
  {
   "cell_type": "code",
   "execution_count": null,
   "id": "2ff9f612",
   "metadata": {
    "colab": {
     "base_uri": "https://localhost:8080/",
     "height": 319
    },
    "id": "bfd0848f",
    "outputId": "457d5a46-1c7d-42bf-d27b-ea95af761b04"
   },
   "outputs": [],
   "source": [
    "az.plot_posterior(trace2, var_names=[\"p\", \"q\", \"v\"], ref_val=[p_true, q_true, v_true]);"
   ]
  },
  {
   "cell_type": "markdown",
   "id": "574074ea",
   "metadata": {
    "id": "b7d1ff79"
   },
   "source": [
    "### Gamma-Gamma model conditioned on average transaction per user with $\\nu$ marginalized"
   ]
  },
  {
   "cell_type": "code",
   "execution_count": null,
   "id": "241b6bb5",
   "metadata": {
    "colab": {
     "base_uri": "https://localhost:8080/",
     "height": 57
    },
    "id": "2e3e5468",
    "outputId": "6633618e-90dd-4baa-892f-3680d95f7b5f"
   },
   "outputs": [],
   "source": [
    "with pm.Model() as m3:\n",
    "    p = pm.HalfFlat(\"p\")\n",
    "    q = pm.HalfFlat(\"q\")\n",
    "    v = pm.HalfFlat(\"v\")\n",
    "\n",
    "    # Likelihood of z_mean, marginalizing over nu\n",
    "    likelihood = pm.Potential(\n",
    "        \"likelihood\", \n",
    "        (\n",
    "            pt.gammaln(p * x + q)\n",
    "            - pt.gammaln(p * x)\n",
    "            - pt.gammaln(q)\n",
    "            + q * pt.log(v)\n",
    "            + (p * x - 1) * pt.log(z_mean)\n",
    "            + (p * x) * pt.log(x)\n",
    "            - (p * x + q) * pt.log(x * z_mean + v)\n",
    "        ),\n",
    "    )\n",
    "\n",
    "    # Closed form solution posterior individual nu\n",
    "    nu = pm.Deterministic(\"nu\", pm.Gamma.dist(p * x + q, v + x * z_mean))\n",
    "    pm.Deterministic(\"mean_spend\", p / nu)\n",
    "    \n",
    "    trace3 = pm.sample(random_seed=rng)"
   ]
  },
  {
   "cell_type": "code",
   "execution_count": null,
   "id": "83d0b47c",
   "metadata": {
    "colab": {
     "base_uri": "https://localhost:8080/",
     "height": 143
    },
    "id": "haDMtiT2sgkB",
    "outputId": "5c54f8c9-bccd-4dfb-c45f-196a500a1b62"
   },
   "outputs": [],
   "source": [
    "az.summary(trace3, var_names=[\"p\", \"q\", \"v\"])"
   ]
  },
  {
   "cell_type": "code",
   "execution_count": null,
   "id": "ccef0ffe",
   "metadata": {
    "colab": {
     "base_uri": "https://localhost:8080/",
     "height": 319
    },
    "id": "wcXq5snesg0b",
    "outputId": "d0d3f0dd-259f-4ca5-cbf0-dfad814cee91"
   },
   "outputs": [],
   "source": [
    "az.plot_posterior(trace3, var_names=[\"p\", \"q\", \"v\"], ref_val=[p_true, q_true, v_true]);"
   ]
  }
 ],
 "metadata": {
  "colab": {
   "include_colab_link": true,
   "name": "gamma-gamma model",
   "provenance": []
  },
  "hide_input": false,
  "kernelspec": {
   "display_name": "pymmmc",
   "language": "python",
   "name": "pymmmc"
  },
  "language_info": {
   "codemirror_mode": {
    "name": "ipython",
    "version": 3
   },
   "file_extension": ".py",
   "mimetype": "text/x-python",
   "name": "python",
   "nbconvert_exporter": "python",
   "pygments_lexer": "ipython3",
   "version": "3.10.8"
  },
  "toc": {
   "base_numbering": 1,
   "nav_menu": {},
   "number_sections": true,
   "sideBar": true,
   "skip_h1_title": false,
   "title_cell": "Table of Contents",
   "title_sidebar": "Contents",
   "toc_cell": false,
   "toc_position": {},
   "toc_section_display": true,
   "toc_window_display": false
  }
 },
 "nbformat": 4,
 "nbformat_minor": 5
}
