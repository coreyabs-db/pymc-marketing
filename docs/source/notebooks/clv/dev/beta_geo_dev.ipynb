{
 "cells": [
  {
   "cell_type": "code",
   "execution_count": null,
   "id": "ee5a6682",
   "metadata": {},
   "outputs": [],
   "source": [
    "import numpy as np\n",
    "import pymc as pm\n",
    "\n",
    "import xarray as xr\n",
    "\n",
    "from pymc_marketing.clv.models.beta_geo import BetaGeoModel\n",
    "from pymc_marketing.clv.distributions import continuous_contractual\n",
    "\n",
    "from lifetimes.fitters.beta_geo_fitter import BetaGeoFitter\n",
    "\n",
    "from scipy.special import expit, hyp2f1"
   ]
  },
  {
   "cell_type": "code",
   "execution_count": null,
   "id": "6036389d",
   "metadata": {},
   "outputs": [],
   "source": [
    "rng = np.random.default_rng(34)\n",
    "\n",
    "a_true = 0.8\n",
    "b_true = 2.5\n",
    "alpha_true = 3\n",
    "r_true = 4\n",
    "\n",
    "# Number of subjects\n",
    "N = 500\n",
    "# Subject level parameters\n",
    "p = pm.draw(pm.Beta.dist(a_true, b_true, size=N), random_seed=rng)\n",
    "lam = pm.draw(pm.Gamma.dist(r_true, alpha_true, size=N), random_seed=rng)\n",
    "\n",
    "T = pm.draw(pm.DiscreteUniform.dist(lower=20, upper=40, size=N), random_seed=rng)\n",
    "\n",
    "data = continuous_contractual.rng_fn(rng, lam, p, T, 0, size=N)\n",
    "\n",
    "recency = data[..., 0]\n",
    "frequency = data[..., 1]\n",
    "alive = 1 - data[..., 2]"
   ]
  },
  {
   "cell_type": "code",
   "execution_count": null,
   "id": "1b4ee6ab",
   "metadata": {},
   "outputs": [],
   "source": [
    "model = BetaGeoModel(\n",
    "    customer_id=np.arange(N),\n",
    "    frequency=frequency,\n",
    "    recency=recency,\n",
    "    T=T,\n",
    ")"
   ]
  },
  {
   "cell_type": "code",
   "execution_count": null,
   "id": "63245eec",
   "metadata": {},
   "outputs": [],
   "source": [
    "model.fit(chains=1);"
   ]
  },
  {
   "cell_type": "code",
   "execution_count": null,
   "id": "cbbd8012",
   "metadata": {},
   "outputs": [],
   "source": [
    "a = xr.DataArray([10, 20, 30], coords={\"customer_id\": range(3)})\n",
    "b = xr.DataArray([3, 4], coords={\"a\": [30, 40]})\n",
    "c = (b + a)\n",
    "c.transpose(\"customer_id\", \"a\").mean((\"customer_id\", \"a\"))"
   ]
  },
  {
   "cell_type": "code",
   "execution_count": null,
   "id": "6a0b90fb",
   "metadata": {},
   "outputs": [],
   "source": [
    "model.expected_probability_alive(np.arange(N), frequency, recency, T)"
   ]
  },
  {
   "cell_type": "code",
   "execution_count": null,
   "id": "715ccc49",
   "metadata": {},
   "outputs": [],
   "source": [
    "def true_expected_number_of_purchases(t):\n",
    "    left_term = (a_true + b_true - 1) / (a_true - 1)\n",
    "    right_term = 1 - (alpha_true / (alpha_true + t)) ** r_true * hyp2f1(\n",
    "        r_true, b_true, a_true + b_true - 1, t / (alpha_true + t)\n",
    "    )\n",
    "    return left_term * right_term"
   ]
  },
  {
   "cell_type": "code",
   "execution_count": null,
   "id": "edb661a3",
   "metadata": {},
   "outputs": [],
   "source": [
    "t = np.array(range(20, 40, 2))\n",
    "true_expected_number_of_purchases(t)"
   ]
  },
  {
   "cell_type": "code",
   "execution_count": null,
   "id": "fa0058ef",
   "metadata": {},
   "outputs": [],
   "source": []
  }
 ],
 "metadata": {
  "hide_input": false,
  "kernelspec": {
   "display_name": "pymmmc",
   "language": "python",
   "name": "pymmmc"
  },
  "language_info": {
   "codemirror_mode": {
    "name": "ipython",
    "version": 3
   },
   "file_extension": ".py",
   "mimetype": "text/x-python",
   "name": "python",
   "nbconvert_exporter": "python",
   "pygments_lexer": "ipython3",
   "version": "3.10.8"
  },
  "toc": {
   "base_numbering": 1,
   "nav_menu": {},
   "number_sections": true,
   "sideBar": true,
   "skip_h1_title": false,
   "title_cell": "Table of Contents",
   "title_sidebar": "Contents",
   "toc_cell": false,
   "toc_position": {},
   "toc_section_display": true,
   "toc_window_display": false
  }
 },
 "nbformat": 4,
 "nbformat_minor": 5
}
