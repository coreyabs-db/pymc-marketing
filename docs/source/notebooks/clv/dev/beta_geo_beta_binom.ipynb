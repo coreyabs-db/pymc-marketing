{
 "cells": [
  {
   "cell_type": "code",
   "execution_count": null,
   "id": "5e06e043-4631-47ae-a658-a9a928ff15e5",
   "metadata": {},
   "outputs": [],
   "source": [
    "import numpy as np\n",
    "import nutpie\n",
    "import pandas as pd\n",
    "from lifetimes import BetaGeoBetaBinomFitter\n",
    "\n",
    "import pymc as pm\n",
    "from pymc_marketing.clv import BetaGeoBetaBinomModel\n",
    "from pymc_marketing.prior import Prior"
   ]
  },
  {
   "cell_type": "code",
   "execution_count": null,
   "id": "fe652337-a582-4cce-bae0-a104316a0a4a",
   "metadata": {},
   "outputs": [],
   "source": [
    "data = pd.read_csv(\"https://raw.githubusercontent.com/pymc-labs/pymc-marketing/main/data/bgbb_donations.csv\") \n",
    "data.head()"
   ]
  },
  {
   "cell_type": "code",
   "execution_count": null,
   "id": "fae987d6-d412-4099-a9d1-bc985b92287d",
   "metadata": {},
   "outputs": [],
   "source": [
    "model_config = {\n",
    "    \"alpha_prior\": Prior(\"HalfFlat\"),\n",
    "    \"beta_prior\": Prior(\"HalfFlat\"),\n",
    "    \"gamma_prior\": Prior(\"HalfFlat\"),\n",
    "    \"delta_prior\": Prior(\"HalfFlat\"),\n",
    "}\n",
    "\n",
    "model = BetaGeoBetaBinomModel(data=data,model_config=model_config)\n",
    "model.build_model()\n",
    "model"
   ]
  },
  {
   "cell_type": "code",
   "execution_count": null,
   "id": "bc154487-8d4c-4015-9fe1-9bed0ac433fb",
   "metadata": {},
   "outputs": [],
   "source": [
    "pm.model_to_graphviz(model.model)"
   ]
  },
  {
   "cell_type": "code",
   "execution_count": null,
   "id": "8bd37568-78cf-49c7-9fe8-5b2640e37077",
   "metadata": {},
   "outputs": [],
   "source": [
    "model.fit(fit_method='map')"
   ]
  },
  {
   "cell_type": "code",
   "execution_count": null,
   "id": "2371018a-f69b-4f9e-add7-a21f69fb0749",
   "metadata": {},
   "outputs": [],
   "source": [
    "model.fit_summary()"
   ]
  },
  {
   "cell_type": "markdown",
   "id": "4c33df35-23ed-45f6-a604-4e895df3d340",
   "metadata": {},
   "source": [
    "Compare to `lifetimes`"
   ]
  },
  {
   "cell_type": "code",
   "execution_count": null,
   "id": "371bb7a1-9f5c-4bdf-81b1-a9504261badb",
   "metadata": {},
   "outputs": [],
   "source": [
    "bgbb = BetaGeoBetaBinomFitter().fit(data['frequency'].values,\n",
    "                             data['recency'].values,\n",
    "                             data['T'].values\n",
    "                                )\n",
    "bgbb"
   ]
  },
  {
   "cell_type": "code",
   "execution_count": null,
   "id": "80d11cc8-98fb-426e-89b2-693f0a8d22fa",
   "metadata": {},
   "outputs": [],
   "source": [
    "mcmc_model = BetaGeoBetaBinomModel(data=data)\n",
    "mcmc_model.build_model()\n",
    "pm.model_to_graphviz(mcmc_model.model)"
   ]
  },
  {
   "cell_type": "code",
   "execution_count": null,
   "id": "a27cd610-74eb-4872-b5e3-4868f04ede6d",
   "metadata": {},
   "outputs": [],
   "source": [
    "with mcmc_model.model:\n",
    "    prior_idata = pm.sample_prior_predictive()"
   ]
  },
  {
   "cell_type": "code",
   "execution_count": null,
   "id": "782608ed-e302-4591-9d51-a826086f5d98",
   "metadata": {},
   "outputs": [],
   "source": [
    "prior_idata"
   ]
  },
  {
   "cell_type": "markdown",
   "id": "eeec297b-0c6f-4146-b19c-6e7aa365c470",
   "metadata": {},
   "source": [
    "`nutpie` is about 3x faster than defaults NUTS sampler in `pymc`"
   ]
  },
  {
   "cell_type": "code",
   "execution_count": null,
   "id": "310e576b-8deb-45b9-8ba2-ce0904127efd",
   "metadata": {},
   "outputs": [],
   "source": [
    "# add warning supress here\n",
    "mcmc_model.fit(nuts_sampler=\"nutpie\")"
   ]
  }
 ],
 "metadata": {
  "kernelspec": {
   "display_name": "Python 3 (ipykernel)",
   "language": "python",
   "name": "python3"
  },
  "language_info": {
   "codemirror_mode": {
    "name": "ipython",
    "version": 3
   },
   "file_extension": ".py",
   "mimetype": "text/x-python",
   "name": "python",
   "nbconvert_exporter": "python",
   "pygments_lexer": "ipython3",
   "version": "3.10.14"
  }
 },
 "nbformat": 4,
 "nbformat_minor": 5
}
