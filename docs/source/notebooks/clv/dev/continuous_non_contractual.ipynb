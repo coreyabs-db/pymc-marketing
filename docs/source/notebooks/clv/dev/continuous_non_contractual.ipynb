{
 "cells": [
  {
   "cell_type": "markdown",
   "id": "37cf4c31",
   "metadata": {},
   "source": [
    "# Continuous non-Contractual"
   ]
  },
  {
   "cell_type": "code",
   "execution_count": null,
   "id": "a4ff3633",
   "metadata": {},
   "outputs": [],
   "source": [
    "from pymc_marketing.clv.distributions import ContNonContract\n",
    "\n",
    "import numpy as np\n",
    "import pandas as pd\n",
    "\n",
    "import pymc as pm\n",
    "\n",
    "import matplotlib.pyplot as plt\n",
    "import arviz as az"
   ]
  },
  {
   "cell_type": "markdown",
   "id": "4ba93a3e",
   "metadata": {},
   "source": [
    "## Ground Truth Parameter Values"
   ]
  },
  {
   "cell_type": "code",
   "execution_count": null,
   "id": "bcf84069",
   "metadata": {},
   "outputs": [],
   "source": [
    "rng = np.random.RandomState(seed=34)\n",
    "T = 10\n",
    "T0 = 0\n",
    "\n",
    "# individual-level model\n",
    "lam = 0.5; p = 0.3"
   ]
  },
  {
   "cell_type": "markdown",
   "id": "6d38b550",
   "metadata": {},
   "source": [
    "## Sampling from the Prior\n",
    "\n",
    "We will perform inference on the prior data to estimate the values of `lam` and `p` which have been set to 0.5 and 0.3 respectively."
   ]
  },
  {
   "cell_type": "code",
   "execution_count": null,
   "id": "3d597099",
   "metadata": {},
   "outputs": [],
   "source": [
    "cnc = ContNonContract.dist(\n",
    "    lam=lam,\n",
    "    p=p,\n",
    "    T=T,\n",
    ")\n",
    "\n",
    "prior_data = pm.draw(cnc, draws=10000)"
   ]
  },
  {
   "cell_type": "markdown",
   "id": "1bee22c5",
   "metadata": {},
   "source": [
    "## Posterior Inference"
   ]
  },
  {
   "cell_type": "code",
   "execution_count": null,
   "id": "796097ac",
   "metadata": {},
   "outputs": [],
   "source": [
    "with pm.Model() as model:\n",
    "\n",
    "    λ = pm.Gamma(name=\"λ\", alpha=0.1, beta=0.1)\n",
    "    π = pm.Beta(name=\"π\", alpha=0.1, beta=0.1)\n",
    "    \n",
    "    cnc = ContNonContract(\n",
    "        name=\"cnc\",\n",
    "        lam=λ,\n",
    "        p=π,\n",
    "        T=T,\n",
    "        observed=prior_data\n",
    "    )\n",
    "    \n",
    "    trace = pm.sample(draws=1000, chains=1, tune=500)"
   ]
  },
  {
   "cell_type": "code",
   "execution_count": null,
   "id": "73fffe14",
   "metadata": {},
   "outputs": [],
   "source": [
    "_ = az.plot_posterior(trace, ref_val=[lam, p])\n",
    "plt.tight_layout()"
   ]
  },
  {
   "cell_type": "code",
   "execution_count": null,
   "id": "9a12862a",
   "metadata": {},
   "outputs": [],
   "source": [
    "prior_data"
   ]
  },
  {
   "cell_type": "code",
   "execution_count": null,
   "id": "5f5c1d92",
   "metadata": {},
   "outputs": [],
   "source": []
  }
 ],
 "metadata": {
  "hide_input": false,
  "kernelspec": {
   "display_name": "pymmmc_env",
   "language": "python",
   "name": "pymmmc_env"
  },
  "language_info": {
   "codemirror_mode": {
    "name": "ipython",
    "version": 3
   },
   "file_extension": ".py",
   "mimetype": "text/x-python",
   "name": "python",
   "nbconvert_exporter": "python",
   "pygments_lexer": "ipython3",
   "version": "3.8.16"
  },
  "toc": {
   "base_numbering": 1,
   "nav_menu": {},
   "number_sections": true,
   "sideBar": true,
   "skip_h1_title": false,
   "title_cell": "Table of Contents",
   "title_sidebar": "Contents",
   "toc_cell": false,
   "toc_position": {},
   "toc_section_display": true,
   "toc_window_display": false
  }
 },
 "nbformat": 4,
 "nbformat_minor": 5
}
