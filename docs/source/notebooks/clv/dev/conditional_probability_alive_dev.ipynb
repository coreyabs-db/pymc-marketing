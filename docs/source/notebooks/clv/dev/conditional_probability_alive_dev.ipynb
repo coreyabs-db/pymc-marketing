{
 "cells": [
  {
   "cell_type": "code",
   "execution_count": null,
   "id": "498f9858",
   "metadata": {},
   "outputs": [],
   "source": [
    "import numpy as np\n",
    "import pymc as pm\n",
    "\n",
    "from pymc_marketing.clv.distributions import continuous_contractual, continuous_non_contractual\n",
    "\n",
    "from lifetimes.datasets import load_cdnow_summary\n",
    "\n",
    "from scipy.special import expit, hyp2f1\n",
    "\n",
    "import xarray as xr\n",
    "\n",
    "import matplotlib.pyplot as plt"
   ]
  },
  {
   "cell_type": "code",
   "execution_count": null,
   "id": "46488e43",
   "metadata": {},
   "outputs": [],
   "source": [
    "a = 0.8\n",
    "b = 2.5\n",
    "alpha = 3\n",
    "r = 4\n",
    "\n",
    "rng = np.random.default_rng(seed=34)\n",
    "\n",
    "df = load_cdnow_summary(index_col=[0])\n",
    "T = df[\"T\"].values"
   ]
  },
  {
   "cell_type": "code",
   "execution_count": null,
   "id": "0433183b",
   "metadata": {},
   "outputs": [],
   "source": [
    "def rng_fn(rng, a, b, r, alpha, T, T0, size):\n",
    "    p = rng.beta(a, b, size=size)\n",
    "    lam = rng.gamma(r, 1 / alpha, size=size)\n",
    "\n",
    "    return continuous_contractual.rng_fn(rng, lam, p, T, T0, size=size)"
   ]
  },
  {
   "cell_type": "code",
   "execution_count": null,
   "id": "e0c278e3",
   "metadata": {},
   "outputs": [],
   "source": [
    "data = rng_fn(rng, a, b, r, alpha, T, 0, size=len(T))"
   ]
  },
  {
   "cell_type": "code",
   "execution_count": null,
   "id": "da79a8b2",
   "metadata": {},
   "outputs": [],
   "source": [
    "recency = data[..., 0]\n",
    "frequency = data[..., 1]\n",
    "alive = 1 - data[..., 2]"
   ]
  },
  {
   "cell_type": "code",
   "execution_count": null,
   "id": "98e3a527",
   "metadata": {},
   "outputs": [],
   "source": [
    "def conditional_probability_alive_lifetimes(\n",
    "    frequency, \n",
    "    recency, \n",
    "    T\n",
    "):\n",
    "    log_div = (r + frequency) * np.log((alpha + T) / (alpha + recency)) + np.log(\n",
    "        a / (b + np.maximum(frequency, 1) - 1)\n",
    "    )\n",
    "\n",
    "    return np.atleast_1d(np.where(frequency == 0, 1.0, expit(-log_div)))"
   ]
  },
  {
   "cell_type": "code",
   "execution_count": null,
   "id": "b0e85add",
   "metadata": {},
   "outputs": [],
   "source": [
    "plt.hist(conditional_probability_alive_lifetimes(frequency, recency, T), bins=40);"
   ]
  },
  {
   "cell_type": "code",
   "execution_count": null,
   "id": "b5455972",
   "metadata": {},
   "outputs": [],
   "source": [
    "with pm.Model() as model:\n",
    "    pm.Normal(\"a\", a, sigma=0.1)\n",
    "    pm.Normal(\"b\", b, sigma=0.1)\n",
    "    pm.Normal(\"alpha\", alpha, sigma=0.1)\n",
    "    pm.Normal(\"r\", r, sigma=0.1)\n",
    "    \n",
    "    trace = pm.sample(chains=2)"
   ]
  },
  {
   "cell_type": "code",
   "execution_count": null,
   "id": "179c0ca0",
   "metadata": {},
   "outputs": [],
   "source": [
    "trace"
   ]
  },
  {
   "cell_type": "code",
   "execution_count": null,
   "id": "b4f74358",
   "metadata": {},
   "outputs": [],
   "source": [
    "dims = (\"customer_id\",)\n",
    "coords = {\"customer_id\": range(len(frequency))}\n",
    "\n",
    "frequency = xr.DataArray(\n",
    "    frequency, \n",
    "    dims=dims,\n",
    "    coords=coords,\n",
    ")\n",
    "\n",
    "recency = xr.DataArray(\n",
    "    recency, \n",
    "    dims=dims,\n",
    "    coords=coords,\n",
    ")\n",
    "\n",
    "T = xr.DataArray(\n",
    "    T, \n",
    "    dims=dims,\n",
    "    coords=coords,\n",
    ")"
   ]
  },
  {
   "cell_type": "code",
   "execution_count": null,
   "id": "0a5bc946",
   "metadata": {},
   "outputs": [],
   "source": [
    "def conditional_probability_alive(frequency, recency, T, trace):\n",
    "\n",
    "    dims = (\"customer_id\",)\n",
    "    coords = {\"customer_id\": range(len(frequency))}\n",
    "    \n",
    "    to_xarray = lambda array: xr.DataArray(data=array, coords=coords, dims=dims)\n",
    "\n",
    "    frequency = to_xarray(frequency)\n",
    "    recency = to_xarray(recency)\n",
    "    T = to_xarray(T)\n",
    "    \n",
    "    a = trace.posterior[\"a\"]\n",
    "    b = trace.posterior[\"b\"]\n",
    "    alpha = trace.posterior[\"alpha\"]\n",
    "    r = trace.posterior[\"r\"]\n",
    "    \n",
    "    log_div = (r + frequency) * np.log((alpha + T) / (alpha + recency)) + np.log(\n",
    "        a / (b + np.maximum(frequency, 1) - 1)\n",
    "    )\n",
    "\n",
    "    return xr.where(frequency == 0, 1.0, expit(-log_div))"
   ]
  },
  {
   "cell_type": "code",
   "execution_count": null,
   "id": "05648f81",
   "metadata": {},
   "outputs": [],
   "source": [
    "plt.hist(conditional_probability_alive(frequency, recency, T, trace).mean((\"draw\", \"chain\")), bins=40);"
   ]
  },
  {
   "cell_type": "code",
   "execution_count": null,
   "id": "ac23b096",
   "metadata": {},
   "outputs": [],
   "source": [
    "trace.posterior[\"a\"].mean()"
   ]
  },
  {
   "cell_type": "code",
   "execution_count": null,
   "id": "8d71b933",
   "metadata": {},
   "outputs": [],
   "source": [
    "def expected_number_of_purchases(t, frequency, recency, T):\n",
    "    numerator = 1 - ((alpha + T) / (alpha + T + t)) ** (r + frequency) * hyp2f1(\n",
    "        r + frequency,\n",
    "        b + frequency,\n",
    "        a + b + frequency - 1,\n",
    "        t / (alpha + T + t),\n",
    "    )\n",
    "    numerator *= (a + b + frequency - 1) / (a - 1)\n",
    "    denominator = 1 + (frequency > 0) * (a / (b + frequency - 1)) * (\n",
    "        (alpha + T) / (alpha + recency)\n",
    "    ) ** (r + frequency)\n",
    "    \n",
    "    return numerator/denominator"
   ]
  },
  {
   "cell_type": "code",
   "execution_count": null,
   "id": "ef8d2a53",
   "metadata": {},
   "outputs": [],
   "source": [
    "def to_xarray(*arrays):\n",
    "    num_customers = len(arrays[0])\n",
    "    dims = (\"customer_id\",)\n",
    "    coords = {\"customer_id\": range(num_customers)}\n",
    "\n",
    "    if len(arrays) == 1:\n",
    "        return xr.DataArray(data=arrays[0], coords=coords, dims=dims)\n",
    "\n",
    "    if any(len(array) != num_customers for array in arrays):\n",
    "        raise ValueError(\"The size of input arrays must be the same.\")\n",
    "\n",
    "    return (xr.DataArray(data=array, coords=coords, dims=dims) for array in arrays)\n",
    "\n",
    "frequency, recency, T = to_xarray(frequency, recency, T)\n",
    "\n",
    "t = xr.DataArray(\n",
    "    range(20, 40, 2),\n",
    "    coords={\"times\": range(10)},\n",
    "    dims=(\"times\",),\n",
    ")\n",
    "expected_number_of_purchases(t, frequency, recency, T)"
   ]
  },
  {
   "cell_type": "code",
   "execution_count": null,
   "id": "de098c95",
   "metadata": {},
   "outputs": [],
   "source": [
    "to_xarray = lambda array: xr.DataArray(array,\n",
    "    coords={\"customer_id\": range(len(array))},\n",
    "    dims=(\"customer_id\",),\n",
    ")\n",
    "t = to_xarray(range(20, 40, 2))\n",
    "frequency = to_xarray([1, 3, 5, 7, 9]*2)\n",
    "recency = to_xarray([20, 30]*5)\n",
    "T = to_xarray([25, 35]*5)"
   ]
  },
  {
   "cell_type": "code",
   "execution_count": null,
   "id": "265840fa",
   "metadata": {},
   "outputs": [],
   "source": [
    "expected_number_of_purchases(t, frequency, recency, T)"
   ]
  },
  {
   "cell_type": "code",
   "execution_count": null,
   "id": "c75ef8b6",
   "metadata": {},
   "outputs": [],
   "source": []
  }
 ],
 "metadata": {
  "hide_input": false,
  "kernelspec": {
   "display_name": "pymmmc",
   "language": "python",
   "name": "pymmmc"
  },
  "language_info": {
   "codemirror_mode": {
    "name": "ipython",
    "version": 3
   },
   "file_extension": ".py",
   "mimetype": "text/x-python",
   "name": "python",
   "nbconvert_exporter": "python",
   "pygments_lexer": "ipython3",
   "version": "3.10.8"
  },
  "toc": {
   "base_numbering": 1,
   "nav_menu": {},
   "number_sections": true,
   "sideBar": true,
   "skip_h1_title": false,
   "title_cell": "Table of Contents",
   "title_sidebar": "Contents",
   "toc_cell": false,
   "toc_position": {},
   "toc_section_display": true,
   "toc_window_display": false
  }
 },
 "nbformat": 4,
 "nbformat_minor": 5
}
