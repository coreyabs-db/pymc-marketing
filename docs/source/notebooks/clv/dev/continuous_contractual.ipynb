{
 "cells": [
  {
   "cell_type": "markdown",
   "id": "102e11c0",
   "metadata": {},
   "source": [
    "# Continuous Contractual"
   ]
  },
  {
   "cell_type": "code",
   "execution_count": null,
   "id": "5d728a3e",
   "metadata": {},
   "outputs": [],
   "source": [
    "import numpy as np\n",
    "import pandas as pd\n",
    "\n",
    "import pymc as pm\n",
    "import pandas as pd\n",
    "\n",
    "from pymc_marketing.clv.distributions import ContContract\n",
    "\n",
    "import matplotlib.pyplot as plt\n",
    "import arviz as az"
   ]
  },
  {
   "cell_type": "code",
   "execution_count": null,
   "id": "ed2f0413",
   "metadata": {},
   "outputs": [],
   "source": [
    "rng = np.random.RandomState(seed=34)\n",
    "T = 10\n",
    "T0 = 0\n",
    "\n",
    "# individual-level model\n",
    "lam = 0.5; p_true = 0.2"
   ]
  },
  {
   "cell_type": "code",
   "execution_count": null,
   "id": "ce6528b4",
   "metadata": {},
   "outputs": [],
   "source": [
    "dist = ContContract.dist(lam, p_true, T, T0, shape=(1000,))\n",
    "data = pm.draw(dist, random_seed=rng)\n",
    "data[:5]"
   ]
  },
  {
   "cell_type": "code",
   "execution_count": null,
   "id": "e3fe4fcb",
   "metadata": {},
   "outputs": [],
   "source": [
    "with pm.Model() as model:\n",
    "\n",
    "    λ = pm.Gamma(name=\"λ\", alpha=1, beta=1)\n",
    "    π = pm.Beta(name=\"π\", alpha=1, beta=1)\n",
    "    \n",
    "    cont_contractual = ContContract(\n",
    "        name=\"continuous-contractual-clv\",\n",
    "        lam=λ,\n",
    "        p=π,\n",
    "        T=10,\n",
    "        T0=0,\n",
    "        observed=data,\n",
    "    )\n",
    "    \n",
    "    trace = pm.sample(draws=2000, chains=1, tune=1000)"
   ]
  },
  {
   "cell_type": "code",
   "execution_count": null,
   "id": "a90b2e40",
   "metadata": {},
   "outputs": [],
   "source": [
    "_ = az.plot_posterior(trace, ref_val=[lam, p_true])"
   ]
  },
  {
   "cell_type": "code",
   "execution_count": null,
   "id": "79890864",
   "metadata": {},
   "outputs": [],
   "source": []
  }
 ],
 "metadata": {
  "hide_input": false,
  "kernelspec": {
   "display_name": "pymmmc",
   "language": "python",
   "name": "pymmmc"
  },
  "language_info": {
   "codemirror_mode": {
    "name": "ipython",
    "version": 3
   },
   "file_extension": ".py",
   "mimetype": "text/x-python",
   "name": "python",
   "nbconvert_exporter": "python",
   "pygments_lexer": "ipython3",
   "version": "3.10.8"
  },
  "toc": {
   "base_numbering": 1,
   "nav_menu": {},
   "number_sections": true,
   "sideBar": true,
   "skip_h1_title": false,
   "title_cell": "Table of Contents",
   "title_sidebar": "Contents",
   "toc_cell": false,
   "toc_position": {},
   "toc_section_display": true,
   "toc_window_display": false
  }
 },
 "nbformat": 4,
 "nbformat_minor": 5
}
