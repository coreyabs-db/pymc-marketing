{
 "cells": [
  {
   "cell_type": "markdown",
   "id": "d9de8716",
   "metadata": {
    "colab_type": "text",
    "id": "view-in-github"
   },
   "source": [
    "# Gamma-gamma Model\n",
    "\n",
    "In this notebook we show how to fit a Gamma-Gamma model in PyMC-Marketing. We compare the results with the [`lifetimes`](https://github.com/CamDavidsonPilon/lifetimes) package (no longer maintained and last meaningful update was July 2020). The model is presented in the paper: Fader, P. S., & Hardie, B. G. (2013). [The Gamma-Gamma model of monetary value](http://www.brucehardie.com/notes/025/gamma_gamma.pdf). February, 2, 1-9."
   ]
  },
  {
   "cell_type": "markdown",
   "id": "a579696d",
   "metadata": {},
   "source": [
    "## Prepare Notebook"
   ]
  },
  {
   "cell_type": "code",
   "execution_count": null,
   "id": "813aa3e6",
   "metadata": {},
   "outputs": [],
   "source": [
    "import arviz as az\n",
    "import matplotlib.pyplot as plt\n",
    "import pandas as pd\n",
    "from lifetimes import GammaGammaFitter\n",
    "\n",
    "from pymc_marketing import clv\n",
    "\n",
    "# Plotting configuration\n",
    "az.style.use(\"arviz-darkgrid\")\n",
    "plt.rcParams[\"figure.figsize\"] = [10, 6]\n",
    "plt.rcParams[\"figure.dpi\"] = 100\n",
    "plt.rcParams[\"figure.facecolor\"] = \"white\"\n",
    "\n",
    "%load_ext autoreload\n",
    "%autoreload 2\n",
    "%config InlineBackend.figure_format = \"retina\""
   ]
  },
  {
   "cell_type": "markdown",
   "id": "b4e9df33",
   "metadata": {},
   "source": [
    "## Load Data\n",
    "\n",
    "We start by loading the `CDNOW` dataset."
   ]
  },
  {
   "cell_type": "code",
   "execution_count": null,
   "id": "4039ce96",
   "metadata": {},
   "outputs": [],
   "source": [
    "data_path = \"https://raw.githubusercontent.com/pymc-labs/pymc-marketing/main/data/clv_quickstart.csv\"\n",
    "\n",
    "summary_with_money_value = pd.read_csv(data_path)\n",
    "summary_with_money_value[\"customer_id\"] = summary_with_money_value.index\n",
    "summary_with_money_value.head()"
   ]
  },
  {
   "cell_type": "markdown",
   "id": "d244cc1a",
   "metadata": {},
   "source": [
    "For the Gamma-Gamma model, we need to filter out customers who have made only one purchase."
   ]
  },
  {
   "cell_type": "code",
   "execution_count": null,
   "id": "bae5c34c",
   "metadata": {
    "id": "a374e74d"
   },
   "outputs": [],
   "source": [
    "returning_customers_summary = summary_with_money_value.query(\"frequency > 0\")\n",
    "\n",
    "returning_customers_summary.head()"
   ]
  },
  {
   "cell_type": "markdown",
   "id": "16374e35",
   "metadata": {},
   "source": [
    "## Model Specification\n",
    "\n",
    "Here we briefly describe the assumptions and the parametrization of the Gamma-Gamma model from the paper above.\n",
    "\n",
    "The model of spend per transaction is based on the following three general assumptions:\n",
    "\n",
    "- The monetary value of a customer’s given transaction varies randomly around their average transaction value.\n",
    "- Average transaction values vary across customers but do not vary over time for any given individual.\n",
    "- The distribution of average transaction values across customers is independent of the transaction process.\n",
    "  \n",
    "For a customer with x transactions, let $z_1, z_2, \\ldots, z_x$ denote the value of each transaction. The customer’s observed average transaction value by\n",
    "\n",
    "$$\n",
    "\\bar{z} = \\frac{1}{x} \\sum_{i=1}^{x} z_i\n",
    "$$\n",
    "\n",
    "Now let's describe the parametrization: \n",
    "\n",
    "1. We assume that $z_i \\sim \\text{Gamma}(p, ν)$, with $E(Z_i| p, ν) = \\xi = p/ν$.\n",
    "\n",
    "    – Given the convolution properties of the gamma, it follows that total spend across x transactions is distributed $\\text{Gamma}(px, ν)$.\n",
    "\n",
    "    – Given the scaling property of the gamma distribution, it follows that $\\bar{z} \\sim \\text{Gamma}(px, νx)$.\n",
    "\n",
    "2.  We assume $ν \\sim \\text{Gamma}(q, \\gamma)$.\n",
    "\n",
    "We are interested in estimating the parameters $p$, $q$ and $ν$."
   ]
  },
  {
   "cell_type": "markdown",
   "id": "8696dc0a",
   "metadata": {},
   "source": [
    "```{note}\n",
    "The Gamma-Gamma model assumes that there is no relationship between the monetary value and the purchase frequency. We can check this assumption by calculating the correlation between the average spend and the frequency of purchases.\n",
    "```"
   ]
  },
  {
   "cell_type": "code",
   "execution_count": null,
   "id": "c413718e",
   "metadata": {},
   "outputs": [],
   "source": [
    "returning_customers_summary[[\"monetary_value\", \"frequency\"]].corr()"
   ]
  },
  {
   "cell_type": "markdown",
   "id": "ea4bea0a",
   "metadata": {},
   "source": [
    "The value of this correlation is close to $0.11$, which in practice is considered low enough to proceed with the model."
   ]
  },
  {
   "cell_type": "markdown",
   "id": "df93d769",
   "metadata": {},
   "source": [
    "## Lifetimes Implementation\n",
    "\n",
    "First, we fit the model using the `lifetimes` package."
   ]
  },
  {
   "cell_type": "code",
   "execution_count": null,
   "id": "7e511391",
   "metadata": {
    "colab": {
     "base_uri": "https://localhost:8080/"
    },
    "id": "a0dbb204",
    "outputId": "743601c8-48c5-46a7-993f-4bd19f083ea7"
   },
   "outputs": [],
   "source": [
    "ggf = GammaGammaFitter()\n",
    "ggf.fit(\n",
    "    returning_customers_summary[\"frequency\"],\n",
    "    returning_customers_summary[\"monetary_value\"],\n",
    ")"
   ]
  },
  {
   "cell_type": "code",
   "execution_count": null,
   "id": "b65b7690",
   "metadata": {},
   "outputs": [],
   "source": [
    "ggf.summary"
   ]
  },
  {
   "cell_type": "markdown",
   "id": "cace007a",
   "metadata": {},
   "source": [
    "Once the model is fitted we can use the following method to compute the conditional expectation of the average profit per transaction for a group of one or more customers."
   ]
  },
  {
   "cell_type": "code",
   "execution_count": null,
   "id": "12dbdd88",
   "metadata": {},
   "outputs": [],
   "source": [
    "avg_profit = ggf.conditional_expected_average_profit(\n",
    "    summary_with_money_value[\"frequency\"], summary_with_money_value[\"monetary_value\"]\n",
    ")\n",
    "avg_profit.head(10)"
   ]
  },
  {
   "cell_type": "code",
   "execution_count": null,
   "id": "f0986b8f",
   "metadata": {},
   "outputs": [],
   "source": [
    "avg_profit.mean()"
   ]
  },
  {
   "cell_type": "markdown",
   "id": "4ff387fd",
   "metadata": {
    "id": "a2z_ZcC74wPI"
   },
   "source": [
    "## PyMC Marketing Implementation"
   ]
  },
  {
   "cell_type": "markdown",
   "id": "d153908d",
   "metadata": {},
   "source": [
    "We can use the pre-built PyMC Marketing implementation of the Gamma-Gamma model, which also provides nice plotting and prediction methods:"
   ]
  },
  {
   "cell_type": "markdown",
   "id": "f5e27387",
   "metadata": {},
   "source": [
    "We can *build* the model so that we can see the model specification:"
   ]
  },
  {
   "cell_type": "code",
   "execution_count": null,
   "id": "c6c912da",
   "metadata": {
    "id": "eoQmmIrj43NV"
   },
   "outputs": [],
   "source": [
    "model = clv.GammaGammaModel(data=returning_customers_summary)\n",
    "model.build_model()\n",
    "model"
   ]
  },
  {
   "cell_type": "markdown",
   "id": "1826502a",
   "metadata": {},
   "source": [
    "```{note}\n",
    "It is not necessary to build the model before fitting it. We can fit the model directly.\n",
    "```"
   ]
  },
  {
   "cell_type": "markdown",
   "id": "21608cf4",
   "metadata": {},
   "source": [
    "### Using MAP\n",
    "\n",
    "To begin with, lets use a numerical optimizer (`L-BFGS-B`) from `scipy.optimize` to find the maximum a posteriori (MAP) estimate of the parameters."
   ]
  },
  {
   "cell_type": "code",
   "execution_count": null,
   "id": "e39da004",
   "metadata": {},
   "outputs": [],
   "source": [
    "idata_map = model.fit(fit_method=\"map\").posterior.to_dataframe()"
   ]
  },
  {
   "cell_type": "code",
   "execution_count": null,
   "id": "b8f11643",
   "metadata": {},
   "outputs": [],
   "source": [
    "idata_map"
   ]
  },
  {
   "cell_type": "markdown",
   "id": "b140c648",
   "metadata": {},
   "source": [
    "These values are very close to the ones obtained by the `lifetimes` package."
   ]
  },
  {
   "cell_type": "markdown",
   "id": "756eb4d5",
   "metadata": {},
   "source": [
    "### MCMC\n",
    "\n",
    "We can also use MCMC to sample from the posterior distribution of the parameters. MCMC is a more robust method than MAP and provides uncertainty estimates for the parameters."
   ]
  },
  {
   "cell_type": "code",
   "execution_count": null,
   "id": "ed88b572",
   "metadata": {},
   "outputs": [],
   "source": [
    "sampler_kwargs = {\n",
    "    \"draws\": 2_000,\n",
    "    \"target_accept\": 0.9,\n",
    "    \"chains\": 4,\n",
    "    \"random_seed\": 42,\n",
    "}\n",
    "\n",
    "idata_mcmc = model.fit(**sampler_kwargs)"
   ]
  },
  {
   "cell_type": "code",
   "execution_count": null,
   "id": "52c3b00e",
   "metadata": {},
   "outputs": [],
   "source": [
    "idata_mcmc"
   ]
  },
  {
   "cell_type": "markdown",
   "id": "7bf03827",
   "metadata": {},
   "source": [
    "We can see some statistics of the posterior distribution of the parameters."
   ]
  },
  {
   "cell_type": "code",
   "execution_count": null,
   "id": "58a103ab",
   "metadata": {},
   "outputs": [],
   "source": [
    "model.fit_summary()"
   ]
  },
  {
   "cell_type": "markdown",
   "id": "ee948a75",
   "metadata": {},
   "source": [
    "Let's visualize the posterior distributions and the rank plot:"
   ]
  },
  {
   "cell_type": "code",
   "execution_count": null,
   "id": "63137cf5",
   "metadata": {},
   "outputs": [],
   "source": [
    "axes = az.plot_trace(\n",
    "    data=model.idata,\n",
    "    compact=True,\n",
    "    kind=\"rank_bars\",\n",
    "    backend_kwargs={\"figsize\": (12, 9), \"layout\": \"constrained\"},\n",
    ")\n",
    "plt.gcf().suptitle(\"Gamma-Gamma Model Trace\", fontsize=18, fontweight=\"bold\");"
   ]
  },
  {
   "cell_type": "markdown",
   "id": "4e0b065a",
   "metadata": {},
   "source": [
    "We can compare the results with the ones obtained by the `lifetimes` package and the MAP estimation."
   ]
  },
  {
   "cell_type": "code",
   "execution_count": null,
   "id": "21ef284f",
   "metadata": {},
   "outputs": [],
   "source": [
    "fig, axes = plt.subplots(\n",
    "    nrows=3, ncols=1, figsize=(12, 10), sharex=False, sharey=False, layout=\"constrained\"\n",
    ")\n",
    "\n",
    "for i, var_name in enumerate([\"p\", \"q\", \"v\"]):\n",
    "    ax = axes[i]\n",
    "    az.plot_posterior(\n",
    "        idata_mcmc.posterior[var_name].values.flatten(),\n",
    "        color=\"C0\",\n",
    "        point_estimate=\"mean\",\n",
    "        hdi_prob=0.95,\n",
    "        ref_val=ggf.summary[\"coef\"][var_name],\n",
    "        ax=ax,\n",
    "        label=\"MCMC\",\n",
    "    )\n",
    "    ax.axvline(\n",
    "        x=ggf.summary[\"lower 95% bound\"][var_name],\n",
    "        color=\"C1\",\n",
    "        linestyle=\"--\",\n",
    "        label=\"lifetimes 95% CI\",\n",
    "    )\n",
    "    ax.axvline(\n",
    "        x=ggf.summary[\"upper 95% bound\"][var_name],\n",
    "        color=\"C1\",\n",
    "        linestyle=\"--\",\n",
    "    )\n",
    "    ax.axvline(x=idata_map[var_name].item(), color=\"C2\", linestyle=\"-.\", label=\"MAP\")\n",
    "    ax.legend(loc=\"upper right\")\n",
    "\n",
    "plt.gcf().suptitle(\"Gamma-Gamma Model Parameters\", fontsize=18, fontweight=\"bold\");"
   ]
  },
  {
   "cell_type": "markdown",
   "id": "8d6855dd",
   "metadata": {},
   "source": [
    "We see that the `lifetimes` and MAP estimates are essentially the same. Both of them are close to the mean of the posterior distribution obtained by MCMC."
   ]
  },
  {
   "cell_type": "markdown",
   "id": "772fe770",
   "metadata": {},
   "source": [
    "## Expected Customer Spend\n",
    "\n",
    "Once we have the posterior distribution of the parameters, we can use the `expected_average_profit` method to compute the conditional expectation of the average profit per transaction for a group of one or more customers."
   ]
  },
  {
   "cell_type": "code",
   "execution_count": null,
   "id": "e6c61b7a",
   "metadata": {},
   "outputs": [],
   "source": [
    "expected_spend = model.expected_customer_spend(data=summary_with_money_value)"
   ]
  },
  {
   "cell_type": "markdown",
   "id": "c9a2805e",
   "metadata": {},
   "source": [
    "Let's see how it looks for a subset of customers."
   ]
  },
  {
   "cell_type": "code",
   "execution_count": null,
   "id": "57706dfe",
   "metadata": {},
   "outputs": [],
   "source": [
    "az.summary(expected_spend.isel(customer_id=range(10)), kind=\"stats\")"
   ]
  },
  {
   "cell_type": "code",
   "execution_count": null,
   "id": "17e3de45",
   "metadata": {},
   "outputs": [],
   "source": [
    "ax, *_ = az.plot_forest(\n",
    "    data=expected_spend.isel(customer_id=(range(10))), combined=True, figsize=(8, 7)\n",
    ")\n",
    "ax.set(xlabel=\"Expected Spend (10 Customers)\", ylabel=\"Customer ID\")\n",
    "ax.set_title(\"Expected Spend\", fontsize=18, fontweight=\"bold\");"
   ]
  },
  {
   "cell_type": "markdown",
   "id": "75d29614",
   "metadata": {},
   "source": [
    "Finally, lets look at some statistics and the distribution for the whole dataset."
   ]
  },
  {
   "cell_type": "code",
   "execution_count": null,
   "id": "f700b627",
   "metadata": {},
   "outputs": [],
   "source": [
    "az.summary(expected_spend.mean(\"customer_id\"), kind=\"stats\")"
   ]
  },
  {
   "cell_type": "code",
   "execution_count": null,
   "id": "bb63ea2f",
   "metadata": {},
   "outputs": [],
   "source": [
    "fig, ax = plt.subplots()\n",
    "az.plot_dist(expected_spend.mean(\"customer_id\"), label=\"Mean over Customer ID\", ax=ax)\n",
    "ax.axvline(x=expected_spend.mean(), color=\"black\", ls=\"--\", label=\"Overall Mean\")\n",
    "ax.legend(loc=\"upper right\")\n",
    "ax.set(xlabel=\"Expected Spend\", ylabel=\"Density\")\n",
    "ax.set_title(\"Expected Spend\", fontsize=18, fontweight=\"bold\");"
   ]
  },
  {
   "cell_type": "code",
   "execution_count": null,
   "id": "b72a8110",
   "metadata": {},
   "outputs": [],
   "source": [
    "%load_ext watermark\n",
    "%watermark -n -u -v -iv -w -p pymc,pytensor"
   ]
  }
 ],
 "metadata": {
  "colab": {
   "include_colab_link": true,
   "name": "gamma-gamma model",
   "provenance": []
  },
  "hide_input": false,
  "kernelspec": {
   "display_name": "Python 3 (ipykernel)",
   "language": "python",
   "name": "python3"
  },
  "language_info": {
   "codemirror_mode": {
    "name": "ipython",
    "version": 3
   },
   "file_extension": ".py",
   "mimetype": "text/x-python",
   "name": "python",
   "nbconvert_exporter": "python",
   "pygments_lexer": "ipython3",
   "version": "3.10.13"
  },
  "toc": {
   "base_numbering": 1,
   "nav_menu": {},
   "number_sections": true,
   "sideBar": true,
   "skip_h1_title": false,
   "title_cell": "Table of Contents",
   "title_sidebar": "Contents",
   "toc_cell": false,
   "toc_position": {},
   "toc_section_display": true,
   "toc_window_display": false
  }
 },
 "nbformat": 4,
 "nbformat_minor": 5
}
