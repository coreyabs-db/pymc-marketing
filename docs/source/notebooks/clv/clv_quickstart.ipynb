{
 "cells": [
  {
   "cell_type": "markdown",
   "id": "fb4093cc",
   "metadata": {},
   "source": [
    "(clv_quickstart)=\n",
    "# CLV Quickstart"
   ]
  },
  {
   "cell_type": "markdown",
   "id": "55cf0b5e",
   "metadata": {},
   "source": [
    "Customer Lifetime Value (CLV) is the measure of a customer's contribution over time to a business. This metric is used to inform spending levels on new customer acquisition, retention, and other marketing and sales efforts, so reliable estimation is essential.\n",
    "\n",
    "PyMC-Marketing provides tools to segment customers on their past behavior (see [RFM Segmentation](https://www.pymc-marketing.io/en/stable/api/generated/pymc_marketing.clv.utils.rfm_segments.html#pymc_marketing.clv.utils.rfm_segments)) as well as the following Buy Till You Die (BTYD) probabilistic models to predict future behavior:\n",
    "\n",
    "* **[BG/NBD model](https://pymc-marketing.readthedocs.io/en/stable/notebooks/clv/bg_nbd.html)** for continuous time, non-contractual modeling\n",
    "* **[Pareto/NBD model](https://pymc-marketing.readthedocs.io/en/stable/notebooks/clv/pareto_nbd.html)** for continuous time, non-contractual modeling with covariates\n",
    "* **[Shifted BG model](https://pymc-marketing.io/en/stable/notebooks/clv/sBG.html)** for discrete time, contractual modeling\n",
    "* **BG/BB model** for discrete time, contractual modeling\n",
    "* **Exponential Gamma model** for discrete time, contractual modeling (coming soon)\n",
    "* **[Gamma-Gamma model](https://pymc-marketing.readthedocs.io/en/stable/notebooks/clv/gamma_gamma.html)** for expected monetary value\n",
    "\n",
    "This table contains a breakdown of the four BTYD modeling domains, and examples for each:\n",
    "\n",
    "|                | **Non-contractual** | **Contractual**                 |\n",
    "|----------------|---------------------|---------------------------------|\n",
    "| **Continuous** | online purchases    | ad conversion time              |\n",
    "| **Discrete**   | concerts & sports events    | recurring subscriptions |\n",
    "\n",
    "In this notebook we will demonstrate how to estimate future purchasing activity and CLV with the CDNOW dataset, a popular benchmarking dataset in CLV and BTYD research. Data is available [here](https://www.brucehardie.com/datasets/), with additional details [here](https://www.brucehardie.com/notes/026/)."
   ]
  },
  {
   "cell_type": "code",
   "execution_count": null,
   "id": "65621d72",
   "metadata": {},
   "outputs": [],
   "source": [
    "import arviz as az\n",
    "import matplotlib.pyplot as plt\n",
    "import numpy as np\n",
    "import pandas as pd\n",
    "from arviz.labels import MapLabeller\n",
    "\n",
    "from pymc_marketing import clv"
   ]
  },
  {
   "cell_type": "code",
   "execution_count": null,
   "id": "e43e42f6",
   "metadata": {},
   "outputs": [],
   "source": [
    "az.style.use(\"arviz-darkgrid\")\n",
    "\n",
    "%config InlineBackend.figure_format = \"retina\" # nice looking plots"
   ]
  },
  {
   "cell_type": "markdown",
   "id": "fa22b108",
   "metadata": {},
   "source": [
    "## 1.1 Data Requirements"
   ]
  },
  {
   "cell_type": "markdown",
   "id": "f773bb65",
   "metadata": {},
   "source": [
    "For all models, the following nomenclature is used:\n",
    "\n",
    "* `customer_id` represents a unique identifier for each customer.\n",
    "* `frequency` represents the number of _repeat_ purchases that a customer has made, i.e. one less than the total number of purchases.\n",
    "* `T` represents a customer's \"age\", i.e. the duration between a customer's first purchase and the end of the period of study. In this example notebook, the units of time are in weeks.\n",
    "* `recency` represents the time period when a customer made their most recent purchase. This is equal to the duration between a customer’s first and last purchase. If a customer has made only 1 purchase, their recency is 0.\n",
    "* `monetary_value` represents the average value of a given customer’s repeat purchases. Customers who have only made a single purchase have monetary values of zero.\n",
    "\n",
    "The `rfm_summary` function can be used to preprocess raw transaction data for modeling:"
   ]
  },
  {
   "cell_type": "code",
   "execution_count": null,
   "id": "5b56f8db",
   "metadata": {},
   "outputs": [],
   "source": [
    "raw_trans = pd.read_csv(\n",
    "    \"https://raw.githubusercontent.com/pymc-labs/pymc-marketing/main/data/cdnow_transactions.csv\"\n",
    ")\n",
    "\n",
    "raw_trans.head(5)"
   ]
  },
  {
   "cell_type": "code",
   "execution_count": null,
   "id": "2b9d1d19-a7a5-4a58-a980-9ed95bcd48d9",
   "metadata": {},
   "outputs": [],
   "source": [
    "rfm_data = clv.utils.rfm_summary(\n",
    "    raw_trans,\n",
    "    customer_id_col=\"id\",\n",
    "    datetime_col=\"date\",\n",
    "    monetary_value_col=\"spent\",\n",
    "    datetime_format=\"%Y%m%d\",\n",
    "    time_unit=\"W\",\n",
    ")\n",
    "\n",
    "rfm_data"
   ]
  },
  {
   "cell_type": "markdown",
   "id": "514ee548",
   "metadata": {},
   "source": [
    "It is important to note these definitions differ from that used in RFM segmentation, where the first purchase is included, `T` is not used, and `recency` is the number of time periods since a customer's most recent purchase.\n",
    "\n",
    "To visualize data in RFM format, we can plot the recency and T of the customers with the `plot_customer_exposure` function. We see a large chunk (>60%) of customers haven't made another purchase in a while."
   ]
  },
  {
   "cell_type": "code",
   "execution_count": null,
   "id": "d6431c58",
   "metadata": {},
   "outputs": [],
   "source": [
    "fig, ax = plt.subplots(figsize=(10, 5))\n",
    "(\n",
    "    rfm_data.sample(n=100, random_state=42)\n",
    "    .sort_values([\"recency\", \"T\"])\n",
    "    .pipe(clv.plot_customer_exposure, ax=ax, linewidth=0.5, size=0.75)\n",
    ");"
   ]
  },
  {
   "cell_type": "markdown",
   "id": "d069bc02",
   "metadata": {},
   "source": [
    "## Predicting Future Purchasing Behavior with the BG/NBD Model\n",
    "\n",
    "This dataset is an example of continuous time, noncontractual transactions because it comprises purchases from an online music store. PyMC-Marketing provides two models for this use case:\n",
    "\n",
    "- [Beta-Geometric/Negative Binomial Distribution (BG/NBD)](https://pymc-marketing.readthedocs.io/en/stable/notebooks/clv/bg_nbd.html)\n",
    "- [Pareto/Negative Binomial Distribution (Pareto/NBD)](https://pymc-marketing.readthedocs.io/en/stable/notebooks/clv/pareto_nbd.html)\n",
    "\n",
    "We will be using the BG/NBD model in this notebook because it converges quickly and works well for basic modeling tasks. However, if a more comprehensive analysis is desired, consider using the Pareto/NBD model instead due to its expanded functionality, including support for covariates."
   ]
  },
  {
   "cell_type": "code",
   "execution_count": null,
   "id": "2ac219da",
   "metadata": {},
   "outputs": [],
   "source": [
    "bgm = clv.BetaGeoModel(data=rfm_data)\n",
    "bgm.build_model()"
   ]
  },
  {
   "cell_type": "markdown",
   "id": "45e53414",
   "metadata": {},
   "source": [
    "This model has 4 parameters that specify the global frequency and dropout rates of customers."
   ]
  },
  {
   "cell_type": "code",
   "execution_count": null,
   "id": "40d5f47d",
   "metadata": {},
   "outputs": [],
   "source": [
    "bgm"
   ]
  },
  {
   "cell_type": "markdown",
   "id": "27369174",
   "metadata": {},
   "source": [
    "The default priors for the 4 parameters follow a HalfFlat distribution, which is an improper positive uniform distribution. For small datasets this prior can yield implausible posteriors. To avoid this problem, more informative priors can be specified by defining custom PyMC distributions.\n",
    "\n",
    "Here, we will replace the HalfFlat default by more well-behaved HalfNormal priors with a standard deviation of 10.\n",
    "Customization priors is possible by passing a dictionary with keys being the name of the prior, and values being a dictionary with 2 keys: 'dist' representing the name of PyMC distribution and 'kwargs' that holds an optional dictionary of all parameters we wish to pass to the distribution"
   ]
  },
  {
   "cell_type": "code",
   "execution_count": null,
   "id": "3af6449f",
   "metadata": {},
   "outputs": [],
   "source": [
    "from pymc_marketing.prior import Prior\n",
    "\n",
    "model_config = {\n",
    "    \"a_prior\": Prior(\"HalfNormal\", sigma=10),\n",
    "    \"b_prior\": Prior(\"HalfNormal\", sigma=10),\n",
    "    \"alpha_prior\": Prior(\"HalfNormal\", sigma=10),\n",
    "    \"r_prior\": Prior(\"HalfNormal\", sigma=10),\n",
    "}"
   ]
  },
  {
   "cell_type": "code",
   "execution_count": null,
   "id": "cc17d278",
   "metadata": {},
   "outputs": [],
   "source": [
    "bgm = clv.BetaGeoModel(\n",
    "    data=rfm_data,\n",
    "    model_config=model_config,\n",
    ")\n",
    "bgm.build_model()\n",
    "bgm"
   ]
  },
  {
   "cell_type": "markdown",
   "id": "9a75b798",
   "metadata": {},
   "source": [
    "Having specified the model, we can now fit it."
   ]
  },
  {
   "cell_type": "code",
   "execution_count": null,
   "id": "d0667779",
   "metadata": {},
   "outputs": [],
   "source": [
    "bgm.fit()\n",
    "bgm.fit_summary()"
   ]
  },
  {
   "cell_type": "markdown",
   "id": "6cfec565",
   "metadata": {},
   "source": [
    "We can use [ArviZ](https://python.arviz.org/en/stable/), a Python library tailored to produce visualizations for Bayesian models, to plot the posterior distribution of each parameter."
   ]
  },
  {
   "cell_type": "code",
   "execution_count": null,
   "id": "fe4ab5d7",
   "metadata": {},
   "outputs": [],
   "source": [
    "az.plot_posterior(bgm.fit_result);"
   ]
  },
  {
   "cell_type": "markdown",
   "id": "9f56cc87-6932-4334-9473-f1b7224947f1",
   "metadata": {},
   "source": [
    "### 1.2.1. Visualizing Predictions over Time"
   ]
  },
  {
   "cell_type": "markdown",
   "id": "fb36d4d8-5ce2-425a-aa5c-66ca386a9f07",
   "metadata": {},
   "source": [
    "Let's evaluate model performance by tracking predictions against historical purchases:"
   ]
  },
  {
   "cell_type": "code",
   "execution_count": null,
   "id": "20d7c191-05f9-490b-9441-a36eb6cf52e3",
   "metadata": {},
   "outputs": [],
   "source": [
    "clv.plot_expected_purchases(\n",
    "    model=bgm,\n",
    "    purchase_history=raw_trans,\n",
    "    datetime_col=\"date\",\n",
    "    customer_id_col=\"spent\",\n",
    "    datetime_format=\"%Y%m%d\",\n",
    "    time_unit=\"W\",\n",
    "    t=78,\n",
    ");"
   ]
  },
  {
   "cell_type": "markdown",
   "id": "312b781f-7044-4aff-b08e-e3a29b916801",
   "metadata": {},
   "source": [
    "There is a wide discrepancy between cumulative actual and predicted purchases! This is a good indicator of extraneous customers and/or date ranges to exclude from model training, and perhaps the need for additional covariates.\n",
    "\n",
    "\n",
    "Let's plot incremental purchase dates for more insights:"
   ]
  },
  {
   "cell_type": "code",
   "execution_count": null,
   "id": "a3487622-29c7-41c3-a749-ca7b0990461d",
   "metadata": {},
   "outputs": [],
   "source": [
    "clv.plot_expected_purchases(\n",
    "    model=bgm,\n",
    "    purchase_history=raw_trans,\n",
    "    datetime_col=\"date\",\n",
    "    customer_id_col=\"spent\",\n",
    "    datetime_format=\"%Y%m%d\",\n",
    "    time_unit=\"W\",\n",
    "    t=78,\n",
    "    set_index_date=True,\n",
    "    plot_cumulative=False,\n",
    ");"
   ]
  },
  {
   "cell_type": "markdown",
   "id": "a8ee48b0-ede5-4490-a282-5898380430a2",
   "metadata": {},
   "source": [
    "There was a large sales bump in the first few months that is biasing model results and should be investigated. However, notice purchases flatline in the following months and the model is still able to capture this trend. Simply excluding data prior to Apr 1997 should improve performance considerably, but for pedagogical purposes we will continue with the tutorial."
   ]
  },
  {
   "cell_type": "markdown",
   "id": "d5a0d8b6",
   "metadata": {},
   "source": [
    "### Visualizing Prediction Matrices"
   ]
  },
  {
   "cell_type": "code",
   "execution_count": null,
   "id": "75e7e1a2",
   "metadata": {},
   "outputs": [],
   "source": [
    "clv.plot_frequency_recency_matrix(bgm);"
   ]
  },
  {
   "cell_type": "markdown",
   "id": "0aa508f9",
   "metadata": {},
   "source": [
    "We can see our best customers have been active for over 60 weeks and have made over 20 purchases (bottom-right). Note the “tail” sweeping up towards the upper-left corner - these customers are infrequent and/or may not have purchased recently. What is the probability they are still active? "
   ]
  },
  {
   "cell_type": "code",
   "execution_count": null,
   "id": "bcb184f3",
   "metadata": {},
   "outputs": [],
   "source": [
    "clv.plot_probability_alive_matrix(bgm)"
   ]
  },
  {
   "cell_type": "markdown",
   "id": "a25bd48f",
   "metadata": {},
   "source": [
    "Note that all non-repeat customers have an alive probability of 1, which is one of the quirks of `BetaGeoModel`. In many use cases this is still a valid assumption, but if non-repeat customers are a key focus in your use case, you may want to try `ParetoNBDModel` instead.  \n",
    "\n",
    "Looking at the probability alive matrix, we can infer that customers who have made fewer purchases are less likely to return, and may be worth targeting for retention."
   ]
  },
  {
   "cell_type": "markdown",
   "id": "c7906da7",
   "metadata": {},
   "source": [
    "### Ranking customers from best to worst"
   ]
  },
  {
   "cell_type": "markdown",
   "id": "49313fc3",
   "metadata": {},
   "source": [
    "Having fit the model, we can ask what is the expected number of purchases for our customers in the next period. Let's look at the four more promising customers."
   ]
  },
  {
   "cell_type": "code",
   "execution_count": null,
   "id": "f9748513",
   "metadata": {},
   "outputs": [],
   "source": [
    "num_purchases = bgm.expected_purchases(future_t=10)\n",
    "\n",
    "sdata = rfm_data.copy()\n",
    "sdata[\"expected_purchases\"] = num_purchases.mean((\"chain\", \"draw\")).values\n",
    "sdata.sort_values(by=\"expected_purchases\").tail(4)"
   ]
  },
  {
   "cell_type": "markdown",
   "id": "622d3da0",
   "metadata": {},
   "source": [
    "We can plot the uncertainty in the expected number of purchases in the next period."
   ]
  },
  {
   "cell_type": "code",
   "execution_count": null,
   "id": "6aa2ec03",
   "metadata": {},
   "outputs": [],
   "source": [
    "ids = [841, 1981, 157, 1516]\n",
    "ax = az.plot_posterior(num_purchases.sel(customer_id=ids), grid=(2, 2))\n",
    "for axi, id in zip(ax.ravel(), ids, strict=False):\n",
    "    axi.set_title(f\"Customer: {id}\", size=20)\n",
    "plt.suptitle(\"Expected number purchases in the next period\", fontsize=28, y=1.05);"
   ]
  },
  {
   "cell_type": "markdown",
   "id": "56138ddf",
   "metadata": {},
   "source": [
    "### Predicting purchase behavior of a new customer\n",
    "\n",
    "We can use the fitted model to predict the number of purchases for a fresh new customer."
   ]
  },
  {
   "cell_type": "code",
   "execution_count": null,
   "id": "88c3534c",
   "metadata": {},
   "outputs": [],
   "source": [
    "az.plot_posterior(bgm.expected_purchases_new_customer(t=10).sel(customer_id=1))\n",
    "plt.title(\"Expected purchases of a new customer in the first 10 periods\");"
   ]
  },
  {
   "cell_type": "markdown",
   "id": "ec50518a",
   "metadata": {},
   "source": [
    "### Customer Probability Histories"
   ]
  },
  {
   "cell_type": "markdown",
   "id": "70f09789",
   "metadata": {},
   "source": [
    "Given a customer transaction history, we can calculate their historical probability of being alive, according to our trained model. \n",
    "\n",
    "Let look at active customer 1516 and assess the change in probability that the user will ever return if they do no other purchases in the next 9 time periods."
   ]
  },
  {
   "cell_type": "code",
   "execution_count": null,
   "id": "586147ea",
   "metadata": {},
   "outputs": [],
   "source": [
    "customer_1516 = rfm_data.loc[1515]\n",
    "customer_1516"
   ]
  },
  {
   "cell_type": "code",
   "execution_count": null,
   "id": "d263f46f",
   "metadata": {},
   "outputs": [],
   "source": [
    "customer_1516_history = pd.DataFrame(\n",
    "    dict(\n",
    "        customer_id=np.arange(10),\n",
    "        frequency=np.full(10, customer_1516[\"frequency\"], dtype=\"int\"),\n",
    "        recency=np.full(10, customer_1516[\"recency\"]),\n",
    "        T=(np.arange(0, 10) + customer_1516[\"recency\"]).astype(\"int\"),\n",
    "    )\n",
    ")\n",
    "customer_1516_history"
   ]
  },
  {
   "cell_type": "code",
   "execution_count": null,
   "id": "71bba204",
   "metadata": {},
   "outputs": [],
   "source": [
    "p_alive = bgm.expected_probability_alive(data=customer_1516_history)"
   ]
  },
  {
   "cell_type": "code",
   "execution_count": null,
   "id": "6b03c584",
   "metadata": {},
   "outputs": [],
   "source": [
    "az.plot_hdi(customer_1516_history[\"T\"], p_alive, color=\"C0\")\n",
    "plt.plot(customer_1516_history[\"T\"], p_alive.mean((\"draw\", \"chain\")), marker=\"o\")\n",
    "plt.axvline(\n",
    "    customer_1516_history[\"recency\"].iloc[0], c=\"black\", ls=\"--\", label=\"Purchase\"\n",
    ")\n",
    "\n",
    "plt.title(\"Probability Customer 1516 will purchase again\")\n",
    "plt.xlabel(\"T\")\n",
    "plt.ylabel(\"p\")\n",
    "plt.legend();"
   ]
  },
  {
   "cell_type": "markdown",
   "id": "92918446",
   "metadata": {},
   "source": [
    "We can see that, if no purchases are being made in the next 9 weeks, the model has low confidence that the costumer will ever return. What if they had done one purchase in between?"
   ]
  },
  {
   "cell_type": "code",
   "execution_count": null,
   "id": "48bd5403",
   "metadata": {},
   "outputs": [],
   "source": [
    "customer_1516_history.loc[7:, \"frequency\"] += 1\n",
    "customer_1516_history.loc[7:, \"recency\"] = customer_1516_history.loc[7, \"T\"] - 0.5\n",
    "customer_1516_history"
   ]
  },
  {
   "cell_type": "code",
   "execution_count": null,
   "id": "80be3745",
   "metadata": {},
   "outputs": [],
   "source": [
    "p_alive = bgm.expected_probability_alive(data=customer_1516_history)"
   ]
  },
  {
   "cell_type": "code",
   "execution_count": null,
   "id": "61915242",
   "metadata": {},
   "outputs": [],
   "source": [
    "az.plot_hdi(customer_1516_history[\"T\"], p_alive, color=\"C0\")\n",
    "plt.plot(customer_1516_history[\"T\"], p_alive.mean((\"draw\", \"chain\")), marker=\"o\")\n",
    "plt.axvline(\n",
    "    customer_1516_history[\"recency\"].iloc[0], c=\"black\", ls=\"--\", label=\"Purchase\"\n",
    ")\n",
    "plt.axvline(customer_1516_history[\"recency\"].iloc[-1], c=\"black\", ls=\"--\")\n",
    "\n",
    "plt.title(\"Probability Customer 1516 will purchase again\")\n",
    "plt.xlabel(\"T\")\n",
    "plt.ylabel(\"p\")\n",
    "plt.legend();"
   ]
  },
  {
   "cell_type": "markdown",
   "id": "a45c921f",
   "metadata": {},
   "source": [
    "From the plot above, say that customer 1516 makes a purchase at week 73.5, just over 6 weeks after they have made their last recorded purchase. We can see that the probability of the customer returning quickly goes back up!"
   ]
  },
  {
   "cell_type": "markdown",
   "id": "815d2f63",
   "metadata": {},
   "source": [
    "## Estimating Customer Lifetime Value Using the Gamma-Gamma Model"
   ]
  },
  {
   "cell_type": "markdown",
   "id": "1d26ffad",
   "metadata": {},
   "source": [
    "Until now we’ve focused mainly on transaction frequencies and probabilities, but to estimate economic value we can use the Gamma-Gamma model.\n",
    "\n",
    "The Gamma-Gamma model assumes at least 1 repeat transaction has been observed per customer. As such we filter out those with zero repeat purchases."
   ]
  },
  {
   "cell_type": "code",
   "execution_count": null,
   "id": "ee66d183",
   "metadata": {},
   "outputs": [],
   "source": [
    "nonzero_data = rfm_data.query(\"frequency>0\")\n",
    "nonzero_data"
   ]
  },
  {
   "cell_type": "markdown",
   "id": "c844025c-8f6b-4128-a109-cf3af964ca04",
   "metadata": {},
   "source": [
    "If computing the monetary value from your own data, note that it is the *mean* of a given customer’s value, *not* the sum. `monetary_value` can be used to represent profit, or revenue, or any value as long as it is consistently calculated for each customer.\n",
    "\n",
    "The Gamma-Gamma model relies upon the important assumption there is no relationship between the monetary value and the purchase frequency. In practice we need to check whether the Pearson correlation is less than 0.3:"
   ]
  },
  {
   "cell_type": "code",
   "execution_count": null,
   "id": "e8ccbfb7-1951-49fa-bf57-a43fbf5df4cc",
   "metadata": {},
   "outputs": [],
   "source": [
    "nonzero_data[[\"monetary_value\", \"frequency\"]].corr()"
   ]
  },
  {
   "cell_type": "markdown",
   "id": "057edfe6-ac7c-48f9-941f-6e5c047b09c5",
   "metadata": {},
   "source": [
    "Transaction frequencies and monetary values are uncorrelated; we can now fit our Gamma-Gamma model to predict average spend and expected lifetime values of our customers"
   ]
  },
  {
   "cell_type": "markdown",
   "id": "3ad94288",
   "metadata": {},
   "source": [
    "The Gamma-Gamma model takes in a 'data' parameter, a pandas DataFrame with 3 columns representing Customer ID, average spend of repeat purchases, and number of repeat purchase for that customer. As with the BG/NBD model, these parameters are given HalfFlat priors which can be too diffuse for small datasets. For this example, we will use the default priors, but other priors can be specified just like with the BG/NBD example above."
   ]
  },
  {
   "cell_type": "code",
   "execution_count": null,
   "id": "d2f5bf8c",
   "metadata": {},
   "outputs": [],
   "source": [
    "gg = clv.GammaGammaModel(data=nonzero_data)\n",
    "gg.build_model()\n",
    "gg"
   ]
  },
  {
   "cell_type": "markdown",
   "id": "cc7e4225",
   "metadata": {},
   "source": [
    "By default, `fit` approximates full Bayesian posterior using [MCMC](https://en.wikipedia.org/wiki/Markov_chain_Monte_Carlo) sampling provided by `pymc.sample`. If the full posterior is not needed or MCMC sampling is too slow, users can obtain the single [maximum a posteriori estimate](https://en.wikipedia.org/wiki/Maximum_a_posteriori_estimation) via the `fit_method` kwarg."
   ]
  },
  {
   "cell_type": "code",
   "execution_count": null,
   "id": "f8f280ad",
   "metadata": {},
   "outputs": [],
   "source": [
    "gg.fit(fit_method=\"map\");"
   ]
  },
  {
   "cell_type": "code",
   "execution_count": null,
   "id": "111da936",
   "metadata": {},
   "outputs": [],
   "source": [
    "gg.fit_summary()"
   ]
  },
  {
   "cell_type": "code",
   "execution_count": null,
   "id": "6928cb36",
   "metadata": {},
   "outputs": [],
   "source": [
    "gg.fit();"
   ]
  },
  {
   "cell_type": "code",
   "execution_count": null,
   "id": "078fb357",
   "metadata": {},
   "outputs": [],
   "source": [
    "gg.fit_summary()"
   ]
  },
  {
   "cell_type": "code",
   "execution_count": null,
   "id": "8c53afb0",
   "metadata": {},
   "outputs": [],
   "source": [
    "az.plot_posterior(gg.fit_result);"
   ]
  },
  {
   "cell_type": "markdown",
   "id": "ec45dde5",
   "metadata": {},
   "source": [
    "### Predicting spend value of customers"
   ]
  },
  {
   "cell_type": "markdown",
   "id": "e1532f34",
   "metadata": {},
   "source": [
    "Having fit our model, we can now use it to predict the conditional, expected average lifetime value of our customers, including those with zero repeat purchases."
   ]
  },
  {
   "cell_type": "code",
   "execution_count": null,
   "id": "00fca54a",
   "metadata": {},
   "outputs": [],
   "source": [
    "expected_spend = gg.expected_customer_spend(data=rfm_data)"
   ]
  },
  {
   "cell_type": "code",
   "execution_count": null,
   "id": "d3b123c1",
   "metadata": {},
   "outputs": [],
   "source": [
    "az.summary(expected_spend.isel(customer_id=range(10)), kind=\"stats\")"
   ]
  },
  {
   "cell_type": "code",
   "execution_count": null,
   "id": "7a7471f5",
   "metadata": {},
   "outputs": [],
   "source": [
    "labeller = MapLabeller(var_name_map={\"x\": \"customer\"})\n",
    "az.plot_forest(\n",
    "    expected_spend.isel(customer_id=(range(10))), combined=True, labeller=labeller\n",
    ")\n",
    "plt.xlabel(\"Expected mean spend\");"
   ]
  },
  {
   "cell_type": "markdown",
   "id": "3e0737f0",
   "metadata": {},
   "source": [
    "We can also look at the average expected mean spend across all customers"
   ]
  },
  {
   "cell_type": "code",
   "execution_count": null,
   "id": "f8593742",
   "metadata": {},
   "outputs": [],
   "source": [
    "az.summary(expected_spend.mean(\"customer_id\"), kind=\"stats\")"
   ]
  },
  {
   "cell_type": "code",
   "execution_count": null,
   "id": "a5059bd2",
   "metadata": {},
   "outputs": [],
   "source": [
    "az.plot_posterior(expected_spend.mean(\"customer_id\"))\n",
    "plt.axvline(expected_spend.mean(), color=\"k\", ls=\"--\")\n",
    "plt.title(\"Expected mean spend of all customers\");"
   ]
  },
  {
   "cell_type": "markdown",
   "id": "653f74ac",
   "metadata": {},
   "source": [
    "### Predicting spend value of a new customer"
   ]
  },
  {
   "cell_type": "code",
   "execution_count": null,
   "id": "cad44cc8",
   "metadata": {},
   "outputs": [],
   "source": [
    "az.plot_posterior(gg.expected_new_customer_spend())\n",
    "plt.title(\"Expected mean spend of a new customer\");"
   ]
  },
  {
   "cell_type": "markdown",
   "id": "81bb907a",
   "metadata": {},
   "source": [
    "### Estimating CLV"
   ]
  },
  {
   "cell_type": "markdown",
   "id": "5a6e388f",
   "metadata": {},
   "source": [
    "Finally, we can combine the GG with the BG/NBD model to obtain an estimate of the customer lifetime value. This relies on the [Discounted cash flow](https://en.wikipedia.org/wiki/Discounted_cash_flow) model, adjusting for cost of capital:"
   ]
  },
  {
   "cell_type": "code",
   "execution_count": null,
   "id": "0fa553da",
   "metadata": {},
   "outputs": [],
   "source": [
    "clv_estimate = gg.expected_customer_lifetime_value(\n",
    "    transaction_model=bgm,\n",
    "    data=rfm_data,\n",
    "    future_t=12,  # months\n",
    "    discount_rate=0.01,  # monthly discount rate ~ 12.7% annually\n",
    "    time_unit=\"W\",  # original data is in weeks\n",
    ")"
   ]
  },
  {
   "cell_type": "code",
   "execution_count": null,
   "id": "1dc2fbc7",
   "metadata": {},
   "outputs": [],
   "source": [
    "az.summary(clv_estimate.isel(customer_id=range(10)), kind=\"stats\")"
   ]
  },
  {
   "cell_type": "code",
   "execution_count": null,
   "id": "26636619",
   "metadata": {},
   "outputs": [],
   "source": [
    "az.plot_forest(\n",
    "    clv_estimate.isel(customer_id=range(10)), combined=True, labeller=labeller\n",
    ")\n",
    "plt.xlabel(\"Expected CLV\");"
   ]
  },
  {
   "cell_type": "markdown",
   "id": "d524c246",
   "metadata": {},
   "source": [
    "According to our models, customer[6] has a much higher expected CLV. There is also a large variability in this estimate that arises solely from uncertainty in the parameters of the BG/NBD and GG models. \n",
    "\n",
    "In general, these models tend to induce a strong correlation between expected CLV and uncertainty. This modelling of uncertainty can be very useful when making marketing decisions."
   ]
  },
  {
   "cell_type": "code",
   "execution_count": null,
   "id": "d56da0f3-9f85-4972-898c-ba0490cdb12e",
   "metadata": {},
   "outputs": [],
   "source": [
    "%load_ext watermark\n",
    "%watermark -n -u -v -iv -w -p pymc,pytensor"
   ]
  }
 ],
 "metadata": {
  "hide_input": false,
  "kernelspec": {
   "display_name": "Python 3 (ipykernel)",
   "language": "python",
   "name": "python3"
  },
  "language_info": {
   "codemirror_mode": {
    "name": "ipython",
    "version": 3
   },
   "file_extension": ".py",
   "mimetype": "text/x-python",
   "name": "python",
   "nbconvert_exporter": "python",
   "pygments_lexer": "ipython3",
   "version": "3.10.14"
  },
  "toc": {
   "base_numbering": 1,
   "nav_menu": {},
   "number_sections": true,
   "sideBar": true,
   "skip_h1_title": false,
   "title_cell": "Table of Contents",
   "title_sidebar": "Contents",
   "toc_cell": false,
   "toc_position": {},
   "toc_section_display": true,
   "toc_window_display": true
  },
  "varInspector": {
   "cols": {
    "lenName": 16,
    "lenType": 16,
    "lenVar": 40
   },
   "kernels_config": {
    "python": {
     "delete_cmd_postfix": "",
     "delete_cmd_prefix": "del ",
     "library": "var_list.py",
     "varRefreshCmd": "print(var_dic_list())"
    },
    "r": {
     "delete_cmd_postfix": ") ",
     "delete_cmd_prefix": "rm(",
     "library": "var_list.r",
     "varRefreshCmd": "cat(var_dic_list()) "
    }
   },
   "types_to_exclude": [
    "module",
    "function",
    "builtin_function_or_method",
    "instance",
    "_Feature"
   ],
   "window_display": false
  }
 },
 "nbformat": 4,
 "nbformat_minor": 5
}
