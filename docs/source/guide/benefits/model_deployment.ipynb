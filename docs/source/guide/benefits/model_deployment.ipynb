{
 "cells": [
  {
   "cell_type": "markdown",
   "id": "7fb27b941602401d91542211134fc71a",
   "metadata": {},
   "source": [
    "(model_deployment)=\n",
    "# Model deployment"
   ]
  },
  {
   "cell_type": "markdown",
   "id": "acae54e37e7d407bbb7b55eff062a284",
   "metadata": {},
   "source": [
    "One of the main goals of PyMC-Marketing is to facilitate the deployment of its models. "
   ]
  },
  {
   "cell_type": "markdown",
   "id": "9a63283cbaf04dbcab1f6479b197f3a8",
   "metadata": {},
   "source": [
    "This is achieved by building our models on top of [ModelBuilder](https://www.pymc-marketing.io/en/stable/api/generated/pymc_marketing.model_builder.ModelBuilder.html#pymc_marketing.model_builder.ModelBuilder) that offers a scikit-learn-like API and makes PyMC models easy to deploy.\n",
    "\n",
    "PyMC-marketing models inherit 2 easy-to-use methods: `save` and `load` that can be used after the model has been fitted. All models can be configured with two standard dictionaries: `model_config` and `sampler_config` that are serialized during `save` and persisted after `load`, allowing model reuse across workflows."
   ]
  },
  {
   "cell_type": "markdown",
   "id": "8dd0d8092fe74a7c96281538738b07e2",
   "metadata": {},
   "source": [
    "We will illustrate this functionality with the example model described in the [MMM Example Notebook](https://www.pymc-marketing.io/en/stable/notebooks/mmm/mmm_example.html). For sake of generality, we ommit most technical details here."
   ]
  },
  {
   "cell_type": "code",
   "execution_count": null,
   "id": "72eea5119410473aa328ad9291626812",
   "metadata": {},
   "outputs": [],
   "source": [
    "import arviz as az\n",
    "import matplotlib.pyplot as plt\n",
    "import numpy as np\n",
    "import pandas as pd\n",
    "\n",
    "from pymc_marketing.mmm import MMM, GeometricAdstock, LogisticSaturation\n",
    "from pymc_marketing.prior import Prior\n",
    "\n",
    "az.style.use(\"arviz-darkgrid\")\n",
    "plt.rcParams[\"figure.figsize\"] = [12, 7]\n",
    "plt.rcParams[\"figure.dpi\"] = 100\n",
    "\n",
    "%config InlineBackend.figure_format = \"retina\""
   ]
  },
  {
   "cell_type": "code",
   "execution_count": null,
   "id": "8edb47106e1a46a883d545849b8ab81b",
   "metadata": {},
   "outputs": [],
   "source": [
    "seed = sum(map(ord, \"mmm\"))\n",
    "rng = np.random.default_rng(seed=seed)"
   ]
  },
  {
   "cell_type": "markdown",
   "id": "10185d26023b46108eb7d9f57d49d2b3",
   "metadata": {},
   "source": [
    "Let's load the dataset:"
   ]
  },
  {
   "cell_type": "code",
   "execution_count": null,
   "id": "8763a12b2bbd4a93a75aff182afb95dc",
   "metadata": {},
   "outputs": [],
   "source": [
    "url = \"https://raw.githubusercontent.com/pymc-labs/pymc-marketing/main/data/mmm_example.csv\"\n",
    "df = pd.read_csv(url, parse_dates=[\"date_week\"])\n",
    "\n",
    "columns_to_keep = [\n",
    "    \"date_week\",\n",
    "    \"y\",\n",
    "    \"x1\",\n",
    "    \"x2\",\n",
    "    \"event_1\",\n",
    "    \"event_2\",\n",
    "    \"dayofyear\",\n",
    "]\n",
    "\n",
    "data = df[columns_to_keep].copy()\n",
    "data[\"t\"] = np.arange(df.shape[0])\n",
    "data.head()"
   ]
  },
  {
   "cell_type": "markdown",
   "id": "7623eae2785240b9bd12b16a66d81610",
   "metadata": {},
   "source": [
    "But for our model we need much smaller dataset, many of the previous features were contributing to generation of others, now as our target variable is computed we can filter out not needed columns:"
   ]
  },
  {
   "cell_type": "markdown",
   "id": "7cdc8c89c7104fffa095e18ddfef8986",
   "metadata": {},
   "source": [
    "## Model and sampling configuration"
   ]
  },
  {
   "cell_type": "markdown",
   "id": "b118ea5561624da68c537baed56e602f",
   "metadata": {},
   "source": [
    "### Model configuration"
   ]
  },
  {
   "cell_type": "markdown",
   "id": "938c804e27f84196a10c8828c723f798",
   "metadata": {},
   "source": [
    "We first illustrate the use of `model_config` to define custom priors within the model.\n",
    "\n",
    "Because there are potentially many variables that can be configured, each model provides a `default_model_config` attribute. This will allow you to see which settings are available by default and only define the ones you need to change.\n",
    "\n",
    "We need to create a dummy model to be able to see the configuration dictionary."
   ]
  },
  {
   "cell_type": "code",
   "execution_count": null,
   "id": "504fb2a444614c0babb325280ed9130a",
   "metadata": {},
   "outputs": [],
   "source": [
    "adstock = GeometricAdstock(l_max=8)\n",
    "saturation = LogisticSaturation()\n",
    "\n",
    "dummy_model = MMM(\n",
    "    date_column=\"date_week\",\n",
    "    channel_columns=[\"x1\", \"x2\"],\n",
    "    adstock=adstock,\n",
    "    saturation=saturation,\n",
    "    control_columns=[\n",
    "        \"event_1\",\n",
    "        \"event_2\",\n",
    "        \"t\",\n",
    "    ],\n",
    "    yearly_seasonality=2,\n",
    ")\n",
    "dummy_model.default_model_config"
   ]
  },
  {
   "cell_type": "markdown",
   "id": "59bbdb311c014d738909a11f9e486628",
   "metadata": {},
   "source": [
    "We can change the parameters that go into the distribution of each term.\n",
    "In this case we'll just simply replace the `sigma` for `saturation_beta` with a custom one:"
   ]
  },
  {
   "cell_type": "code",
   "execution_count": null,
   "id": "b43b363d81ae4b689946ece5c682cd59",
   "metadata": {},
   "outputs": [],
   "source": [
    "n_channels = 2\n",
    "\n",
    "total_spend_per_channel = data[[\"x1\", \"x2\"]].sum(axis=0)\n",
    "spend_share = total_spend_per_channel / total_spend_per_channel.sum()\n",
    "\n",
    "# The scale necessary to make a HalfNormal distribution have unit variance\n",
    "HALFNORMAL_SCALE = 1 / np.sqrt(1 - 2 / np.pi)\n",
    "prior_sigma = HALFNORMAL_SCALE * n_channels * spend_share.to_numpy()\n",
    "prior_sigma"
   ]
  },
  {
   "cell_type": "code",
   "execution_count": null,
   "id": "8a65eabff63a45729fe45fb5ade58bdc",
   "metadata": {},
   "outputs": [],
   "source": [
    "saturation_beta = Prior(\"HalfNormal\", sigma=prior_sigma, dims=\"channel\")\n",
    "my_model_config = {\"saturation_beta\": saturation_beta}"
   ]
  },
  {
   "cell_type": "code",
   "execution_count": null,
   "id": "a53b3fc0-1b88-4d76-90d3-5496ef836869",
   "metadata": {},
   "outputs": [],
   "source": [
    "my_model_config"
   ]
  },
  {
   "cell_type": "markdown",
   "id": "c3933fab20d04ec698c2621248eb3be0",
   "metadata": {},
   "source": [
    "As mentioned in the original notebook: _\"For the prior specification there is no right or wrong answer. It all depends on the data, the context and the assumptions you are willing to make. It is always recommended to do some prior predictive sampling and sensitivity analysis to check the impact of the priors on the posterior. We skip this here for the sake of simplicity. If you are not sure about specific priors, the `MMM` class has some default priors that you can use as a starting point.\"_"
   ]
  },
  {
   "cell_type": "markdown",
   "id": "4dd4641cc4064e0191573fe9c69df29b",
   "metadata": {},
   "source": [
    "### Sampling  configuration"
   ]
  },
  {
   "cell_type": "markdown",
   "id": "8309879909854d7188b41380fd92a7c3",
   "metadata": {},
   "source": [
    "The second feature we can customize is `sampler_config`. Similar to `model_config`, it's a dictionary that gets saved and contains things you would usually pass to the `fit()` kwargs. It's not mandatory to create your own `sampler_config`. The default `MMM.sampler_config` is empty because the default sampling parameters usually prove sufficient for a start."
   ]
  },
  {
   "cell_type": "code",
   "execution_count": null,
   "id": "3ed186c9a28b402fb0bc4494df01f08d",
   "metadata": {},
   "outputs": [],
   "source": [
    "dummy_model.default_sampler_config"
   ]
  },
  {
   "cell_type": "code",
   "execution_count": null,
   "id": "cb1e1581032b452c9409d6c6813c49d1",
   "metadata": {},
   "outputs": [],
   "source": [
    "my_sampler_config = {\n",
    "    \"tune\": 1000,\n",
    "    \"draws\": 1000,\n",
    "    \"chains\": 4,\n",
    "    \"target_accept\": 0.91,\n",
    "    \"nuts_sampler\": \"numpyro\",\n",
    "}"
   ]
  },
  {
   "cell_type": "markdown",
   "id": "379cbbc1e968416e875cc15c1202d7eb",
   "metadata": {},
   "source": [
    "Let's finally assemble our model!"
   ]
  },
  {
   "cell_type": "code",
   "execution_count": null,
   "id": "277c27b1587741f2af2001be3712ef0d",
   "metadata": {},
   "outputs": [],
   "source": [
    "mmm = MMM(\n",
    "    model_config=my_model_config,\n",
    "    sampler_config=my_sampler_config,\n",
    "    date_column=\"date_week\",\n",
    "    channel_columns=[\"x1\", \"x2\"],\n",
    "    adstock=adstock,\n",
    "    saturation=saturation,\n",
    "    control_columns=[\n",
    "        \"event_1\",\n",
    "        \"event_2\",\n",
    "        \"t\",\n",
    "    ],\n",
    "    yearly_seasonality=2,\n",
    ")"
   ]
  },
  {
   "cell_type": "markdown",
   "id": "db7b79bc585a40fcaf58bf750017e135",
   "metadata": {},
   "source": [
    "We can confirm our settings are being used"
   ]
  },
  {
   "cell_type": "code",
   "execution_count": null,
   "id": "916684f9a58a4a2aa5f864670399430d",
   "metadata": {},
   "outputs": [],
   "source": [
    "mmm.model_config[\"saturation_beta\"]"
   ]
  },
  {
   "cell_type": "code",
   "execution_count": null,
   "id": "1671c31a24314836a5b85d7ef7fbf015",
   "metadata": {},
   "outputs": [],
   "source": [
    "mmm.sampler_config"
   ]
  },
  {
   "cell_type": "markdown",
   "id": "33b0902fd34d4ace834912fa1002cf8e",
   "metadata": {},
   "source": [
    "## Model Fitting"
   ]
  },
  {
   "cell_type": "markdown",
   "id": "f6fa52606d8c4a75a9b52967216f8f3f",
   "metadata": {},
   "source": [
    "Note that we didn't pass the dataset to the class constructor itself. This is done to mimick the `scikit-learn` API, and make it easier to get started on PyMC-Marketing models."
   ]
  },
  {
   "cell_type": "code",
   "execution_count": null,
   "id": "f5a1fa73e5044315a093ec459c9be902",
   "metadata": {},
   "outputs": [],
   "source": [
    "# Split X, and y\n",
    "X = data.drop(\"y\", axis=1)\n",
    "y = data[\"y\"]"
   ]
  },
  {
   "cell_type": "markdown",
   "id": "cdf66aed5cc84ca1b48e60bad68798a8",
   "metadata": {},
   "source": [
    "All that's left now is to finally fit the model:\n",
    "\n",
    "As you can see below, you can still pass the sampler kwargs directly to `fit()` method. However, only those kwargs passed using `sampler_config` will be saved and reused after loading the model."
   ]
  },
  {
   "cell_type": "code",
   "execution_count": null,
   "id": "28d3efd5258a48a79c179ea5c6759f01",
   "metadata": {},
   "outputs": [],
   "source": [
    "mmm.fit(X=X, y=y, random_seed=rng)"
   ]
  },
  {
   "cell_type": "markdown",
   "id": "3f9bc0b9dd2c44919cc8dcca39b469f8",
   "metadata": {},
   "source": [
    "The `fit()` method automatically builds the model using the priors from `model_config`, and assigns the created model to our instance. You can access it as a normal attribute."
   ]
  },
  {
   "cell_type": "code",
   "execution_count": null,
   "id": "0e382214b5f147d187d36a2058b9c724",
   "metadata": {},
   "outputs": [],
   "source": [
    "type(mmm.model)"
   ]
  },
  {
   "cell_type": "code",
   "execution_count": null,
   "id": "5b09d5ef5b5e4bb6ab9b829b10b6a29f",
   "metadata": {},
   "outputs": [],
   "source": [
    "mmm.graphviz()"
   ]
  },
  {
   "cell_type": "markdown",
   "id": "a50416e276a0479cbe66534ed1713a40",
   "metadata": {},
   "source": [
    "posterior trace can be accessed by `fit_result` attribute"
   ]
  },
  {
   "cell_type": "code",
   "execution_count": null,
   "id": "46a27a456b804aa2a380d5edf15a5daf",
   "metadata": {},
   "outputs": [],
   "source": [
    "mmm.fit_result"
   ]
  },
  {
   "cell_type": "markdown",
   "id": "1944c39560714e6e80c856f20744a8e5",
   "metadata": {},
   "source": [
    "If you wish to inspect the entire inference data, use the `idata` attribute. Within `idata`, you can find the entire dataset passed to the model under `fit_data`."
   ]
  },
  {
   "cell_type": "code",
   "execution_count": null,
   "id": "d6ca27006b894b04b6fc8b79396e2797",
   "metadata": {},
   "outputs": [],
   "source": [
    "mmm.idata"
   ]
  },
  {
   "cell_type": "markdown",
   "id": "f61877af4e7f4313ad8234302950b331",
   "metadata": {},
   "source": [
    "## Saving and loading a fitted model"
   ]
  },
  {
   "cell_type": "markdown",
   "id": "84d5ab97d17b4c38ab41a2b065bbd0c0",
   "metadata": {},
   "source": [
    "All the data passed to the model on initialization is stored in `idata.attrs`. This will be used later in the `save()` method to convert both this data and all the fit data into the netCDF format. You can read more about this format [here](https://python.arviz.org/en/stable/getting_started/XarrayforArviZ.html)."
   ]
  },
  {
   "cell_type": "markdown",
   "id": "35ffc1ce1c7b4df9ace1bc936b8b1dc2",
   "metadata": {},
   "source": [
    "The `save` and `load` method only require a path to inform where the model should be saved and loaded from."
   ]
  },
  {
   "cell_type": "code",
   "execution_count": null,
   "id": "76127f4a2f6a44fba749ea7800e59d51",
   "metadata": {},
   "outputs": [],
   "source": [
    "mmm.save(\"my_saved_model.nc\")"
   ]
  },
  {
   "cell_type": "code",
   "execution_count": null,
   "id": "903197826d2e44dfa0208e8f97c69327",
   "metadata": {},
   "outputs": [],
   "source": [
    "loaded_model = MMM.load(\"my_saved_model.nc\")"
   ]
  },
  {
   "cell_type": "code",
   "execution_count": null,
   "id": "015066fb96f841e5be1e03a9eaadc3b6",
   "metadata": {},
   "outputs": [],
   "source": [
    "loaded_model.model_config[\"saturation_beta\"]"
   ]
  },
  {
   "cell_type": "code",
   "execution_count": null,
   "id": "cca6ae1d-5b88-44b9-a1cc-bd28216b5889",
   "metadata": {},
   "outputs": [],
   "source": [
    "loaded_model.idata.attrs"
   ]
  },
  {
   "cell_type": "code",
   "execution_count": null,
   "id": "81ff116bae5b45f6b6dae177083008cf",
   "metadata": {},
   "outputs": [],
   "source": [
    "loaded_model.graphviz()"
   ]
  },
  {
   "cell_type": "code",
   "execution_count": null,
   "id": "9075f00cfa8d463f84130041b1e44ca7",
   "metadata": {},
   "outputs": [],
   "source": [
    "loaded_model.idata"
   ]
  },
  {
   "cell_type": "markdown",
   "id": "15abde8c5d2e435093904b13db685a53",
   "metadata": {},
   "source": [
    "A loaded model is ready to be used for sampling and prediction, making use of the previous fitting results and data if needed."
   ]
  },
  {
   "cell_type": "code",
   "execution_count": null,
   "id": "5e20a2a0e21149b5b06860e930401eb5",
   "metadata": {},
   "outputs": [],
   "source": [
    "loaded_model.sample_posterior_predictive(\n",
    "    X, extend_idata=True, combined=False, random_seed=rng\n",
    ")"
   ]
  },
  {
   "cell_type": "code",
   "execution_count": null,
   "id": "72c31777baf4441b988909d29205560c",
   "metadata": {},
   "outputs": [],
   "source": [
    "az.plot_ppc(loaded_model.idata);"
   ]
  },
  {
   "cell_type": "markdown",
   "id": "5734001bcbac423990a4356310d8df13",
   "metadata": {},
   "source": [
    "## Other models"
   ]
  },
  {
   "cell_type": "markdown",
   "id": "27531e93873647d9a5bf1112f2051a59",
   "metadata": {},
   "source": [
    "Even though this introduction is using `MMM`, all other PyMC-Marketing models (MMM and CLV) provide these functionalities as well."
   ]
  },
  {
   "cell_type": "markdown",
   "id": "f3041e9ffdb2416ea2009d3a6a4c5716",
   "metadata": {},
   "source": [
    "## Summary"
   ]
  },
  {
   "cell_type": "markdown",
   "id": "94ae71b6e24e4355a139fb9fe2e09b64",
   "metadata": {},
   "source": [
    "The PyMC-Marketing functionalities described here are intended to facilitate model sharing among data science teams without demanding extensive modelling technical knowledge for everyone involved. We are still iterating on our API and would love to hear more feedback from our users!"
   ]
  },
  {
   "cell_type": "code",
   "execution_count": null,
   "id": "70b1dce0-c4fa-48fe-85e8-18916b9537c6",
   "metadata": {},
   "outputs": [],
   "source": [
    "%load_ext watermark\n",
    "%watermark -n -u -v -iv -w -p pytensor"
   ]
  }
 ],
 "metadata": {
  "hide_input": false,
  "kernelspec": {
   "display_name": "Python 3 (ipykernel)",
   "language": "python",
   "name": "python3"
  },
  "language_info": {
   "codemirror_mode": {
    "name": "ipython",
    "version": 3
   },
   "file_extension": ".py",
   "mimetype": "text/x-python",
   "name": "python",
   "nbconvert_exporter": "python",
   "pygments_lexer": "ipython3",
   "version": "3.12.4"
  },
  "toc": {
   "base_numbering": 1,
   "nav_menu": {},
   "number_sections": true,
   "sideBar": true,
   "skip_h1_title": false,
   "title_cell": "Table of Contents",
   "title_sidebar": "Contents",
   "toc_cell": false,
   "toc_position": {},
   "toc_section_display": true,
   "toc_window_display": true
  }
 },
 "nbformat": 4,
 "nbformat_minor": 5
}
